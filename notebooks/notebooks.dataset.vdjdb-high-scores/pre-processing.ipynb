{
 "cells": [
  {
   "cell_type": "code",
   "execution_count": 69,
   "id": "37caa8ae",
   "metadata": {},
   "outputs": [],
   "source": [
    "import pandas as pd\n",
    "import numpy as np\n",
    "import os\n",
    "import operator\n",
    "import random\n",
    "\n",
    "login = os.getlogin()\n",
    "data_dir = f'/mnt/container-nle-tcr/tc-hard-data/'"
   ]
  },
  {
   "cell_type": "code",
   "execution_count": 70,
   "id": "f38ec57f",
   "metadata": {},
   "outputs": [],
   "source": [
    "def set_random_seed(random_seed):\n",
    "    random.seed(random_seed)\n",
    "    np.random.seed(random_seed)\n",
    "set_random_seed(42)"
   ]
  },
  {
   "cell_type": "code",
   "execution_count": 71,
   "id": "35ca0d4f",
   "metadata": {},
   "outputs": [],
   "source": [
    "def print_stats(df, mhc=\"allele\"):\n",
    "\n",
    "    if mhc == \"allele\":\n",
    "        mhc_col = \"mhc.a\"\n",
    "    elif mhc == \"seq\":\n",
    "        mhc_col = \"mhc.seq\"\n",
    "    else:\n",
    "        raise NotImplementedError\n",
    "\n",
    "    print('Total samples:', len(df))\n",
    "\n",
    "    temp = df.copy()\n",
    "    temp = temp[[\"cdr3.beta\", \"antigen.epitope\", 'label']].dropna().drop_duplicates()\n",
    "    pos = temp[temp['label']==1]\n",
    "    neg = temp[temp['label']==0]\n",
    "    print('\\n With CDR3b + pep: ',len(temp))\n",
    "    print(\"Non-binding samples: \", len(neg))\n",
    "    print(\"Binding samples: \", len(pos))\n",
    "\n",
    "    temp = df.copy()\n",
    "    temp = temp[[\"cdr3.beta\", \"antigen.epitope\", 'label', mhc_col]].dropna().drop_duplicates()\n",
    "    pos = temp[temp['label']==1]\n",
    "    neg = temp[temp['label']==0]\n",
    "    print(f'\\n With CDR3b + pep + MHC {mhc}: ',len(temp))\n",
    "    print(\"Non-binding samples: \", len(neg))\n",
    "    print(\"Binding samples: \", len(pos))\n",
    "\n",
    "    temp = df.copy()\n",
    "    temp = temp[[\"cdr3.beta\", \"antigen.epitope\", 'label', \"cdr3.alpha\"]].dropna().drop_duplicates()\n",
    "    pos = temp[temp['label']==1]\n",
    "    neg = temp[temp['label']==0]\n",
    "    print(f'\\n With CDR3b + pep + CDR3a {mhc}: ',len(temp))\n",
    "    print(\"Non-binding samples: \", len(neg))\n",
    "    print(\"Binding samples: \", len(pos))\n",
    "\n",
    "    temp = df.copy()\n",
    "    temp = temp[[\"cdr3.alpha\", \"cdr3.beta\", \"antigen.epitope\", 'label', mhc_col]].dropna().drop_duplicates()\n",
    "    pos = temp[temp['label']==1]\n",
    "    neg = temp[temp['label']==0]\n",
    "    print(f'\\n With CDR3b + pep + CDR3a + MHC {mhc}: ',len(temp))\n",
    "    print(\"Non-binding samples: \", len(neg))\n",
    "    print(\"Binding samples: \", len(pos))"
   ]
  },
  {
   "cell_type": "markdown",
   "id": "97ed54a2",
   "metadata": {},
   "source": [
    "# VDJdb"
   ]
  },
  {
   "cell_type": "code",
   "execution_count": 72,
   "id": "15996837",
   "metadata": {},
   "outputs": [
    {
     "name": "stderr",
     "output_type": "stream",
     "text": [
      "/home/nle-fgrazioli/anaconda3/envs/tcrmodels/lib/python3.6/site-packages/IPython/core/interactiveshell.py:3072: DtypeWarning: Columns (20,29,30) have mixed types.Specify dtype option on import or set low_memory=False.\n",
      "  interactivity=interactivity, compiler=compiler, result=result)\n"
     ]
    }
   ],
   "source": [
    "vdjdb_df = pd.read_csv(data_dir+'vdjdb-2021-09-05/vdjdb_full.txt', sep=\"\\t\")\n",
    "vdjdb_df = vdjdb_df[vdjdb_df['species'] == 'HomoSapiens']"
   ]
  },
  {
   "cell_type": "code",
   "execution_count": 73,
   "id": "4e1e7976",
   "metadata": {},
   "outputs": [],
   "source": [
    "# filter VDJdb based on confidence score\n",
    "vdjdb_df = vdjdb_df[vdjdb_df['vdjdb.score'] >= 1]"
   ]
  },
  {
   "cell_type": "code",
   "execution_count": 74,
   "id": "2dcb9d72",
   "metadata": {},
   "outputs": [],
   "source": [
    "# only select class I MHCs\n",
    "vdjdb_df = vdjdb_df[vdjdb_df['mhc.class'] == 'MHCI']"
   ]
  },
  {
   "cell_type": "code",
   "execution_count": 75,
   "id": "6d1baf6f",
   "metadata": {},
   "outputs": [],
   "source": [
    "vdjdb_df = vdjdb_df[[\"cdr3.alpha\", \"cdr3.beta\", \"mhc.a\", \"antigen.epitope\", \"v.alpha\", \"j.alpha\", \"v.beta\", \"d.beta\", \"j.beta\"]]\n",
    "\n",
    "# remove rows with NaN CDR3 beta and peptides (for CDR3 alpha and MHC we accept NaN)\n",
    "vdjdb_df.dropna(subset=[\"cdr3.beta\", \"antigen.epitope\"], inplace=True)"
   ]
  },
  {
   "cell_type": "code",
   "execution_count": 76,
   "id": "3880fab3",
   "metadata": {},
   "outputs": [],
   "source": [
    "# filter for non-aa characters in CDR3 beta sequences;\n",
    "# do the same in CDR3 alpha if they're not NeN (keep the NaN alpha)\n",
    "alpha_nan_or_is_amino = operator.or_(vdjdb_df['cdr3.alpha'].str.match('^[A-Z]+$') == True, vdjdb_df['cdr3.alpha'].isna())\n",
    "beta_is_amino = vdjdb_df['cdr3.beta'].str.match('^[A-Z]+$') == True\n",
    "vdjdb_df = vdjdb_df.loc[alpha_nan_or_is_amino & beta_is_amino]"
   ]
  },
  {
   "cell_type": "code",
   "execution_count": 77,
   "id": "92ea10ae",
   "metadata": {},
   "outputs": [],
   "source": [
    "# if CDR3 alpha and CDR3 beta do not start with `C`, add it\n",
    "vdjdb_df['cdr3.beta'] = vdjdb_df['cdr3.beta'].apply(lambda x: 'C' + x if not pd.isnull(x) and x[0] != 'C' else x)\n",
    "vdjdb_df['cdr3.alpha'] = vdjdb_df['cdr3.alpha'].apply(lambda x: 'C' + x if not pd.isnull(x) and x[0] != 'C' else x)\n",
    "\n",
    "# filter for unclear/PTM epitopes\n",
    "vdjdb_df = vdjdb_df.loc[(vdjdb_df['antigen.epitope'].str.match('^[A-Z]+$') == True)].reset_index(drop=True)"
   ]
  },
  {
   "cell_type": "code",
   "execution_count": 78,
   "id": "2ba31dac",
   "metadata": {},
   "outputs": [],
   "source": [
    "# filter for duplicates\n",
    "vdjdb_df = vdjdb_df.drop_duplicates(subset=['cdr3.alpha', 'cdr3.beta', 'antigen.epitope', 'mhc.a'], keep='first')"
   ]
  },
  {
   "cell_type": "code",
   "execution_count": 79,
   "id": "c53b7731",
   "metadata": {},
   "outputs": [],
   "source": [
    "# add label - all samples are positive in this dataset\n",
    "vdjdb_df['label'] = 1\n",
    "\n",
    "# mark negative source\n",
    "vdjdb_df[\"negative.source\"] = np.nan\n",
    "\n",
    "# specify license\n",
    "vdjdb_df['license'] = \"vdjdb_license\""
   ]
  },
  {
   "cell_type": "code",
   "execution_count": 80,
   "id": "c709795f",
   "metadata": {},
   "outputs": [
    {
     "name": "stdout",
     "output_type": "stream",
     "text": [
      "Total samples: 3706\n",
      "\n",
      " With CDR3b + pep:  3453\n",
      "Non-binding samples:  0\n",
      "Binding samples:  3453\n",
      "\n",
      " With CDR3b + pep + MHC allele:  3554\n",
      "Non-binding samples:  0\n",
      "Binding samples:  3554\n",
      "\n",
      " With CDR3b + pep + CDR3a allele:  882\n",
      "Non-binding samples:  0\n",
      "Binding samples:  882\n",
      "\n",
      " With CDR3b + pep + CDR3a + MHC allele:  920\n",
      "Non-binding samples:  0\n",
      "Binding samples:  920\n"
     ]
    }
   ],
   "source": [
    "print_stats(vdjdb_df)"
   ]
  },
  {
   "cell_type": "markdown",
   "id": "6959e5fa",
   "metadata": {},
   "source": [
    "# Combine the datasets"
   ]
  },
  {
   "cell_type": "code",
   "execution_count": 81,
   "id": "8cc59e4b",
   "metadata": {},
   "outputs": [
    {
     "data": {
      "text/plain": [
       "3706"
      ]
     },
     "execution_count": 81,
     "metadata": {},
     "output_type": "execute_result"
    }
   ],
   "source": [
    "df = pd.concat([vdjdb_df]).reset_index(drop=True)\n",
    "len(df)"
   ]
  },
  {
   "cell_type": "code",
   "execution_count": 82,
   "id": "54361fb0",
   "metadata": {},
   "outputs": [
    {
     "data": {
      "text/plain": [
       "3706"
      ]
     },
     "execution_count": 82,
     "metadata": {},
     "output_type": "execute_result"
    }
   ],
   "source": [
    "df = df.drop_duplicates(subset=[\"cdr3.alpha\", \"cdr3.beta\", \"mhc.a\", \"antigen.epitope\", \"label\"], keep=\"first\").reset_index(drop=True)\n",
    "len(df)"
   ]
  },
  {
   "cell_type": "code",
   "execution_count": 83,
   "id": "07f7500b",
   "metadata": {},
   "outputs": [
    {
     "name": "stdout",
     "output_type": "stream",
     "text": [
      "0\n"
     ]
    },
    {
     "data": {
      "text/html": [
       "<div>\n",
       "<style scoped>\n",
       "    .dataframe tbody tr th:only-of-type {\n",
       "        vertical-align: middle;\n",
       "    }\n",
       "\n",
       "    .dataframe tbody tr th {\n",
       "        vertical-align: top;\n",
       "    }\n",
       "\n",
       "    .dataframe thead th {\n",
       "        text-align: right;\n",
       "    }\n",
       "</style>\n",
       "<table border=\"1\" class=\"dataframe\">\n",
       "  <thead>\n",
       "    <tr style=\"text-align: right;\">\n",
       "      <th></th>\n",
       "      <th>cdr3.alpha</th>\n",
       "      <th>cdr3.beta</th>\n",
       "      <th>mhc.a</th>\n",
       "      <th>antigen.epitope</th>\n",
       "      <th>v.alpha</th>\n",
       "      <th>j.alpha</th>\n",
       "      <th>v.beta</th>\n",
       "      <th>d.beta</th>\n",
       "      <th>j.beta</th>\n",
       "      <th>label</th>\n",
       "      <th>negative.source</th>\n",
       "      <th>license</th>\n",
       "    </tr>\n",
       "  </thead>\n",
       "  <tbody>\n",
       "  </tbody>\n",
       "</table>\n",
       "</div>"
      ],
      "text/plain": [
       "Empty DataFrame\n",
       "Columns: [cdr3.alpha, cdr3.beta, mhc.a, antigen.epitope, v.alpha, j.alpha, v.beta, d.beta, j.beta, label, negative.source, license]\n",
       "Index: []"
      ]
     },
     "execution_count": 83,
     "metadata": {},
     "output_type": "execute_result"
    }
   ],
   "source": [
    "# Remark: we observe that certain samples are labelled in an inconsistent way\n",
    "# This is an argument for not considering negative samples from IEDB. but only randomized negative samples\n",
    "q = df[df.duplicated(subset=[\"cdr3.alpha\", \"cdr3.beta\", \"mhc.a\", \"antigen.epitope\"], keep=False)]\n",
    "print(len(q))\n",
    "# Example:\n",
    "q[q[\"antigen.epitope\"] == \"EVLPFFLFF\"]"
   ]
  },
  {
   "cell_type": "markdown",
   "id": "d3579349",
   "metadata": {},
   "source": [
    "# Fix the HLAs"
   ]
  },
  {
   "cell_type": "code",
   "execution_count": 84,
   "id": "d6509e9e",
   "metadata": {},
   "outputs": [],
   "source": [
    "# remove the \"mutant\"\n",
    "mutant_dict = {}\n",
    "for mhc in df['mhc.a'].unique():\n",
    "    if type(mhc) == str and \"mutant\" in mhc:\n",
    "        mutant_dict[mhc] = mhc.split(\" \")[0].replace(\",\", \"\")\n",
    "df['mhc.a'] = df['mhc.a'].apply(lambda x: mutant_dict[x] if x in mutant_dict.keys() else x)"
   ]
  },
  {
   "cell_type": "code",
   "execution_count": 85,
   "id": "27a9ace0",
   "metadata": {},
   "outputs": [],
   "source": [
    "# trim HLA resolution when > 4\n",
    "import re\n",
    "\n",
    "match = \"\\d\\d:\\d\\d:\\d\\d\"\n",
    "higher_resolution_dict = {}\n",
    "for mhc in df['mhc.a'].unique():\n",
    "    if type(mhc) == str:\n",
    "        r = re.search(match, mhc)\n",
    "        if r:\n",
    "            s = mhc.split(\":\")\n",
    "            higher_resolution_dict[mhc] = s[0]+\":\"+s[1]\n",
    "\n",
    "df['mhc.a'] = df['mhc.a'].apply(lambda x: higher_resolution_dict[x] if x in higher_resolution_dict.keys() else x)"
   ]
  },
  {
   "cell_type": "code",
   "execution_count": 86,
   "id": "e2b5355a",
   "metadata": {},
   "outputs": [],
   "source": [
    "# duplicate rows when ther are multiple HLAs\n",
    "multiple_hlas_dict = {}\n",
    "for mhc in df['mhc.a'].unique():\n",
    "    if type(mhc) == str:\n",
    "        if \",\" in mhc:\n",
    "            multiple_hlas_dict[mhc] = mhc.replace(\" \", \"\").split(\",\")\n",
    "\n",
    "rows_to_drop = []\n",
    "peps = []\n",
    "cdr3bs = []\n",
    "cdr3as = []\n",
    "mhcs = []\n",
    "labels = []\n",
    "neg_source = []\n",
    "v_a =[]\n",
    "v_b =[]\n",
    "j_a =[]\n",
    "j_b =[]\n",
    "d_b =[]\n",
    "\n",
    "for index, row in df.iterrows():\n",
    "    if row['mhc.a'] in multiple_hlas_dict.keys():\n",
    "        rows_to_drop.append(index)\n",
    "        for mhc in multiple_hlas_dict[row['mhc.a']]:\n",
    "            mhcs.append(mhc)\n",
    "            peps.append(row[\"antigen.epitope\"])\n",
    "            cdr3bs.append(row[\"cdr3.beta\"])\n",
    "            cdr3as.append(row[\"cdr3.alpha\"])\n",
    "            labels.append(row[\"label\"])\n",
    "            neg_source.append(row[\"negative.source\"])\n",
    "            v_a.append(row[\"v.alpha\"])\n",
    "            v_b.append(row[\"v.beta\"])\n",
    "            j_a.append(row[\"j.alpha\"])\n",
    "            j_b.append(row[\"j.beta\"])\n",
    "            d_b.append(row[\"d.beta\"])\n",
    "\n",
    "df = df.drop(rows_to_drop)\n",
    "\n",
    "df_to_add = pd.DataFrame({\n",
    "    \"antigen.epitope\": peps,\n",
    "    \"mhc.a\": mhcs,\n",
    "    \"cdr3.beta\": cdr3bs,\n",
    "    \"cdr3.alpha\": cdr3as,\n",
    "    \"label\": labels,\n",
    "    \"negative.source\": neg_source,\n",
    "    \"v.alpha\": v_a,\n",
    "    \"v.beta\": v_b,\n",
    "    \"j.alpha\": j_a,\n",
    "    \"j.beta\": j_b,\n",
    "    \"d.beta\": d_b\n",
    "})\n",
    "\n",
    "df = pd.concat([df, df_to_add]).reset_index(drop=True)"
   ]
  },
  {
   "cell_type": "code",
   "execution_count": 87,
   "id": "c4d34484",
   "metadata": {},
   "outputs": [],
   "source": [
    "# at this point, try to normalize the MHC allele\n",
    "from mhcnames.normalization import normalize_allele_name\n",
    "\n",
    "def normalize(x):\n",
    "    try:\n",
    "        return normalize_allele_name(x)\n",
    "    except:\n",
    "        return np.nan\n",
    "\n",
    "df[\"mhc.a\"] = df[\"mhc.a\"].apply(lambda x: normalize(x))"
   ]
  },
  {
   "cell_type": "markdown",
   "id": "a6fed7ac",
   "metadata": {},
   "source": [
    "# Add the reference (\"pseudo\") sequences to the dataframe"
   ]
  },
  {
   "cell_type": "code",
   "execution_count": 88,
   "id": "fa4e0fe3",
   "metadata": {},
   "outputs": [
    {
     "name": "stderr",
     "output_type": "stream",
     "text": [
      "/home/nle-fgrazioli/anaconda3/envs/tcrmodels/lib/python3.6/site-packages/ipykernel_launcher.py:1: ParserWarning: Falling back to the 'python' engine because the 'c' engine does not support regex separators (separators > 1 char and different from '\\s+' are interpreted as regex); you can avoid this warning by specifying engine='python'.\n",
      "  \"\"\"Entry point for launching an IPython kernel.\n"
     ]
    }
   ],
   "source": [
    "class1_df = pd.read_csv(data_dir+'mhc-sequences/MHC_pseudo.dat', sep=\"\\s+|\\t+|\\s+\\t+|\\t+\\s+\")\n",
    "class1_df[\"mhc\"] = class1_df[\"mhc\"].apply(lambda x: normalize(x))\n",
    "class1_df = class1_df.dropna()\n",
    "class1_dict = dict(zip(class1_df.mhc, class1_df.sequence))\n",
    "\n",
    "class2_df = pd.read_csv(data_dir+'mhc-sequences/pseudosequence.2016.all.X.dat', sep=\"\\t\")\n",
    "class2_df[\"mhc\"] = class2_df[\"mhc\"].apply(lambda x: normalize(x))\n",
    "class2_df = class2_df.dropna()\n",
    "class2_dict = dict(zip(class2_df.mhc, class2_df.sequence))\n",
    "\n",
    "mhc_2_seq = {**class1_dict, **class2_dict}\n",
    "df[\"mhc.seq\"] = df[\"mhc.a\"].apply(lambda x: mhc_2_seq[x] if x in mhc_2_seq.keys() else np.nan)\n",
    "\n",
    "df = df.reset_index(drop=True).drop_duplicates(subset=[\"cdr3.alpha\", \"cdr3.beta\", \"mhc.seq\", \"mhc.a\", \"antigen.epitope\", \"label\"])"
   ]
  },
  {
   "cell_type": "code",
   "execution_count": 89,
   "id": "82d06c5b",
   "metadata": {},
   "outputs": [
    {
     "name": "stdout",
     "output_type": "stream",
     "text": [
      "Total samples: 3635\n",
      "\n",
      " With CDR3b + pep:  3453\n",
      "Non-binding samples:  0\n",
      "Binding samples:  3453\n",
      "\n",
      " With CDR3b + pep + MHC seq:  3388\n",
      "Non-binding samples:  0\n",
      "Binding samples:  3388\n",
      "\n",
      " With CDR3b + pep + CDR3a seq:  882\n",
      "Non-binding samples:  0\n",
      "Binding samples:  882\n",
      "\n",
      " With CDR3b + pep + CDR3a + MHC seq:  853\n",
      "Non-binding samples:  0\n",
      "Binding samples:  853\n",
      "\n",
      " NaN MHC allele info:  0\n",
      "Good MHC allele info:  3635\n",
      "\n",
      " NaN MHC sequences:  88\n",
      "Good MHC sequences:  3547\n",
      "\n",
      " NaN CDR3 alpha sequences:  2749\n",
      "Good CDR3 alpha sequences:  886\n"
     ]
    }
   ],
   "source": [
    "print_stats(df, mhc=\"seq\")\n",
    "\n",
    "print(\"\\n NaN MHC allele info: \", sum(df[\"mhc.a\"].isna()))\n",
    "print(\"Good MHC allele info: \", sum(~df[\"mhc.a\"].isna()))\n",
    "\n",
    "print(\"\\n NaN MHC sequences: \", sum(df[\"mhc.seq\"].isna()))\n",
    "print(\"Good MHC sequences: \", sum(~df[\"mhc.seq\"].isna()))\n",
    "\n",
    "print(\"\\n NaN CDR3 alpha sequences: \", sum(df[\"cdr3.alpha\"].isna()))\n",
    "print(\"Good CDR3 alpha sequences: \", sum(~df[\"cdr3.alpha\"].isna()))"
   ]
  },
  {
   "cell_type": "markdown",
   "id": "d925d5d9",
   "metadata": {},
   "source": [
    "# Add negative samples via randomization"
   ]
  },
  {
   "cell_type": "code",
   "execution_count": 90,
   "id": "e65da56c",
   "metadata": {},
   "outputs": [],
   "source": [
    "def sample_negatives(source_df):\n",
    "    source_p_mhc = source_df[[\"antigen.epitope\", \"mhc.a\", \"mhc.seq\"]]\n",
    "    source_cdr3b = source_df[\"cdr3.beta\"].dropna()\n",
    "    source_cdr3a = source_df[\"cdr3.alpha\"].dropna()\n",
    "    \n",
    "    beta_gene_df = source_df[[\"cdr3.beta\", \"j.beta\", \"v.beta\", \"d.beta\"]].drop_duplicates()\n",
    "    cdr3b_2_jb = dict(zip(beta_gene_df[\"cdr3.beta\"], beta_gene_df[\"j.beta\"]))\n",
    "    cdr3b_2_vb = dict(zip(beta_gene_df[\"cdr3.beta\"], beta_gene_df[\"v.beta\"]))\n",
    "    cdr3b_2_db = dict(zip(beta_gene_df[\"cdr3.beta\"], beta_gene_df[\"d.beta\"]))\n",
    "\n",
    "    alpha_gene_df = source_df[[\"cdr3.alpha\", \"j.alpha\", \"v.alpha\"]].drop_duplicates()\n",
    "    cdr3a_2_ja = dict(zip(source_df[\"cdr3.alpha\"], source_df[\"j.alpha\"]))\n",
    "    cdr3a_2_va = dict(zip(source_df[\"cdr3.alpha\"], source_df[\"v.alpha\"]))\n",
    "\n",
    "    # sample negative samples, so that we have 2x negatives w.r.t. positives\n",
    "    N = 2\n",
    "    \n",
    "    temp_df = pd.concat([\n",
    "        source_p_mhc.sample(n=len(source_df), replace=False)\n",
    "        for i in range(N)\n",
    "    ])\n",
    "    \n",
    "    if len(source_cdr3a) > 0:\n",
    "        temp_df[\"cdr3.alpha\"] = np.concatenate([\n",
    "            np.random.choice(source_cdr3a, len(source_df), replace=False)\n",
    "            for i in range(N)\n",
    "        ], axis=0)\n",
    "    else:\n",
    "        temp_df[\"cdr3.alpha\"] = np.nan\n",
    "\n",
    "    temp_df[\"cdr3.beta\"] = np.concatenate([\n",
    "        np.random.choice(source_cdr3b, len(source_df), replace=False)\n",
    "        for i in range(N)\n",
    "    ], axis=0)\n",
    "\n",
    "    # this step ensures that the randomization did not create random samples,\n",
    "    # which are equal to the positive ones\n",
    "#     len_pre = len(temp_df)\n",
    "#     temp = source_df[[\"antigen.epitope\", \"mhc.a\", \"mhc.seq\", \"cdr3.alpha\", \"cdr3.beta\"]]\n",
    "#     temp = source_df[[\"antigen.epitope\", \"mhc.a\", \"mhc.seq\", \"cdr3.beta\"]]\n",
    "#     temp = source_df[[\"antigen.epitope\", \"cdr3.beta\"]]\n",
    "#     temp_df = pd.merge(temp_df, temp, indicator=True, how='outer').query('_merge==\"left_only\"').drop('_merge', axis=1)\n",
    "#     print(f\"Dropping {len_pre - len(temp_df)} samples, which have positive (pep,CDR3b) pairs\")\n",
    "\n",
    "    # assign negative label\n",
    "    temp_df[\"label\"] = 0\n",
    "\n",
    "    # mark negative samples\n",
    "    temp_df[\"negative.source\"] = \"randomized\"\n",
    "    \n",
    "    # assign V, D, J genes\n",
    "    temp_df[\"v.alpha\"] = temp_df[\"cdr3.alpha\"].apply(lambda x: cdr3a_2_va.get(x, np.nan))\n",
    "    temp_df[\"j.alpha\"] = temp_df[\"cdr3.alpha\"].apply(lambda x: cdr3a_2_ja.get(x, np.nan))\n",
    "    temp_df[\"v.beta\"] = temp_df[\"cdr3.beta\"].apply(lambda x: cdr3b_2_vb[x])\n",
    "    temp_df[\"j.beta\"] = temp_df[\"cdr3.beta\"].apply(lambda x: cdr3b_2_jb[x])\n",
    "    temp_df[\"d.beta\"] = temp_df[\"cdr3.beta\"].apply(lambda x: cdr3b_2_db[x])\n",
    "\n",
    "    return temp_df"
   ]
  },
  {
   "cell_type": "code",
   "execution_count": 91,
   "id": "9d417977",
   "metadata": {},
   "outputs": [
    {
     "name": "stdout",
     "output_type": "stream",
     "text": [
      "Dropping 332 randomized negative samples, which present binding (pep,CDR3b) pairs.\n",
      "\n",
      "Total samples: 6821\n",
      "\n",
      " With CDR3b + pep:  6681\n",
      "Non-binding samples:  6681\n",
      "Binding samples:  0\n",
      "\n",
      " With CDR3b + pep + MHC seq:  6577\n",
      "Non-binding samples:  6577\n",
      "Binding samples:  0\n",
      "\n",
      " With CDR3b + pep + CDR3a seq:  1644\n",
      "Non-binding samples:  1644\n",
      "Binding samples:  0\n",
      "\n",
      " With CDR3b + pep + CDR3a + MHC seq:  1597\n",
      "Non-binding samples:  1597\n",
      "Binding samples:  0\n"
     ]
    }
   ],
   "source": [
    "samp_neg_df = []\n",
    "\n",
    "# we only sample negatives starting from positive samples\n",
    "pos_df = df[df[\"label\"] == 1]\n",
    "\n",
    "# case 1: cdr3 alpha and mhc are available\n",
    "source_df = pos_df.dropna(subset=[\"cdr3.alpha\", \"mhc.seq\"])\n",
    "temp_df = sample_negatives(source_df)\n",
    "samp_neg_df.append(temp_df)\n",
    "\n",
    "# case 2: cdr3 alpha available, mhc unknown\n",
    "source_df = pos_df.dropna(subset=[\"cdr3.alpha\"])\n",
    "source_df = source_df[source_df[\"mhc.seq\"].isna()]\n",
    "temp_df = sample_negatives(source_df)\n",
    "samp_neg_df.append(temp_df)\n",
    "\n",
    "# case 3: cdr3 alpha unknown, mhc is available\n",
    "source_df = pos_df.dropna(subset=[\"mhc.seq\"])\n",
    "source_df = source_df[source_df[\"cdr3.alpha\"].isna()]\n",
    "temp_df = sample_negatives(source_df)\n",
    "samp_neg_df.append(temp_df)\n",
    "\n",
    "# case 3: cdr3 alpha unknown, mhc unknown\n",
    "source_df = pos_df[pos_df[\"mhc.seq\"].isna()]\n",
    "source_df = source_df[source_df[\"cdr3.alpha\"].isna()]\n",
    "temp_df = sample_negatives(source_df)\n",
    "samp_neg_df.append(temp_df)\n",
    "\n",
    "samp_neg_df = pd.concat(samp_neg_df)\n",
    "samp_neg_df = samp_neg_df.drop_duplicates(\n",
    "    subset=['cdr3.alpha', 'cdr3.beta', 'mhc.a', 'antigen.epitope', 'label',\n",
    "       'negative.source', 'mhc.seq']\n",
    ").reset_index(drop=True)  # we exclude genes in checking for duplicates\n",
    "\n",
    "# this step ensures that the randomization did not create random samples,\n",
    "# which are equal to the positive ones\n",
    "len_pre = len(samp_neg_df)\n",
    "temp = df[[\"antigen.epitope\", \"cdr3.beta\"]]\n",
    "samp_neg_df = pd.merge(samp_neg_df, temp, indicator=True, how='outer').query('_merge==\"left_only\"').drop('_merge', axis=1)\n",
    "print(f\"Dropping {len_pre - len(samp_neg_df)} randomized negative samples, which present binding (pep,CDR3b) pairs.\\n\")\n",
    "\n",
    "print_stats(samp_neg_df, \"seq\")"
   ]
  },
  {
   "cell_type": "code",
   "execution_count": 92,
   "id": "6bcaf58b",
   "metadata": {},
   "outputs": [],
   "source": [
    "df = pd.concat([df, samp_neg_df]).drop_duplicates().reset_index(drop=True)"
   ]
  },
  {
   "cell_type": "markdown",
   "id": "7d9e7e49",
   "metadata": {},
   "source": [
    "# Save"
   ]
  },
  {
   "cell_type": "code",
   "execution_count": 59,
   "id": "4c6d4271",
   "metadata": {},
   "outputs": [],
   "source": [
    "df.to_csv(data_dir+\"tc-hard/ds.vdjdb-high-scores.csv\", index=False)"
   ]
  },
  {
   "cell_type": "markdown",
   "id": "1b78d334",
   "metadata": {},
   "source": [
    "# Stats - considering full dataset"
   ]
  },
  {
   "cell_type": "code",
   "execution_count": 60,
   "id": "e3279446",
   "metadata": {},
   "outputs": [],
   "source": [
    "def check_duplicates(df, mhc=\"a\"):\n",
    "    print(\"Samples: \", len(df))\n",
    "\n",
    "    q = df.drop_duplicates(subset=['cdr3.alpha', 'cdr3.beta', 'antigen.epitope', f'mhc.{mhc}'])\n",
    "    print(\"Dropping duplicated p+b+a+mhc: \", len(q))\n",
    "    p = df.drop_duplicates(subset=['cdr3.alpha', 'cdr3.beta', 'antigen.epitope', f'mhc.{mhc}', 'label'])\n",
    "    print(\"Dropping duplicated p+b+a+mhc+label: \", len(p))\n",
    "    \n",
    "    q = df.drop_duplicates(subset=['cdr3.beta', 'antigen.epitope', f'mhc.{mhc}'])\n",
    "    print(\"Dropping duplicated p+b+mhc: \", len(q))\n",
    "    p = df.drop_duplicates(subset=['cdr3.beta', 'antigen.epitope', f'mhc.{mhc}', 'label'])\n",
    "    print(\"Dropping duplicated p+b+mhc+label: \", len(p))\n",
    "    \n",
    "    \n",
    "    q = df.drop_duplicates(subset=['cdr3.alpha', 'cdr3.beta', 'antigen.epitope'])\n",
    "    print(\"Dropping duplicated p+b+a: \", len(q))\n",
    "    p = df.drop_duplicates(subset=['cdr3.alpha', 'cdr3.beta', 'antigen.epitope', 'label'])\n",
    "    print(\"Dropping duplicated p+b+a+label: \", len(p))\n",
    "\n",
    "    q = df.drop_duplicates(subset=['cdr3.beta', 'antigen.epitope'])\n",
    "    print(\"Dropping duplicated p+b: \", len(q))\n",
    "    p = df.drop_duplicates(subset=['cdr3.beta', 'antigen.epitope', 'label'])\n",
    "    print(\"Dropping duplicated p+b+label: \", len(p))"
   ]
  },
  {
   "cell_type": "code",
   "execution_count": 61,
   "id": "d223fe27",
   "metadata": {},
   "outputs": [
    {
     "name": "stdout",
     "output_type": "stream",
     "text": [
      "Total samples: 10456\n",
      "\n",
      " With CDR3b + pep:  10134\n",
      "Non-binding samples:  6681\n",
      "Binding samples:  3453\n",
      "\n",
      " With CDR3b + pep + MHC seq:  9965\n",
      "Non-binding samples:  6577\n",
      "Binding samples:  3388\n",
      "\n",
      " With CDR3b + pep + CDR3a seq:  2526\n",
      "Non-binding samples:  1644\n",
      "Binding samples:  882\n",
      "\n",
      " With CDR3b + pep + CDR3a + MHC seq:  2450\n",
      "Non-binding samples:  1597\n",
      "Binding samples:  853\n",
      "\n",
      " NaN MHC allele info:  0\n",
      "Good MHC allele info:  10456\n",
      "\n",
      " NaN MHC sequences:  202\n",
      "Good MHC sequences:  10254\n",
      "\n",
      " NaN CDR3 alpha sequences:  7926\n",
      "Good CDR3 alpha sequences:  2530\n"
     ]
    }
   ],
   "source": [
    "print_stats(df, mhc=\"seq\")\n",
    "\n",
    "print(\"\\n NaN MHC allele info: \", sum(df[\"mhc.a\"].isna()))\n",
    "print(\"Good MHC allele info: \", sum(~df[\"mhc.a\"].isna()))\n",
    "\n",
    "print(\"\\n NaN MHC sequences: \", sum(df[\"mhc.seq\"].isna()))\n",
    "print(\"Good MHC sequences: \", sum(~df[\"mhc.seq\"].isna()))\n",
    "\n",
    "print(\"\\n NaN CDR3 alpha sequences: \", sum(df[\"cdr3.alpha\"].isna()))\n",
    "print(\"Good CDR3 alpha sequences: \", sum(~df[\"cdr3.alpha\"].isna()))"
   ]
  },
  {
   "cell_type": "code",
   "execution_count": 62,
   "id": "6e6718b7",
   "metadata": {},
   "outputs": [
    {
     "name": "stdout",
     "output_type": "stream",
     "text": [
      "Samples:  10456\n",
      "Dropping duplicated p+b+a+mhc:  10454\n",
      "Dropping duplicated p+b+a+mhc+label:  10454\n",
      "Dropping duplicated p+b+mhc:  10153\n",
      "Dropping duplicated p+b+mhc+label:  10153\n",
      "Dropping duplicated p+b+a:  10437\n",
      "Dropping duplicated p+b+a+label:  10437\n",
      "Dropping duplicated p+b:  10134\n",
      "Dropping duplicated p+b+label:  10134\n"
     ]
    }
   ],
   "source": [
    "# here we accept inconsistent labelling\n",
    "# as shown above there are some assays which present the same sequences, but with different labels\n",
    "check_duplicates(df, mhc=\"seq\")"
   ]
  },
  {
   "cell_type": "code",
   "execution_count": 67,
   "id": "2b8ba9a4",
   "metadata": {},
   "outputs": [],
   "source": [
    "# check no (pep, CDR3b) pairs with both neg and pos labels\n",
    "q = df[df.duplicated(subset=[\"antigen.epitope\", \"cdr3.beta\", ], keep=False)]\n",
    "p = q[q.label==1]\n",
    "n = q[q.label==0]\n",
    "p_b_inconsistent = pd.merge(p, n, on=[\"antigen.epitope\", \"cdr3.beta\"], how='inner')\n",
    "assert len(p_b_inconsistent) == 0"
   ]
  },
  {
   "cell_type": "code",
   "execution_count": 68,
   "id": "97e8f449",
   "metadata": {},
   "outputs": [],
   "source": [
    "# considering positive samples + randomized negative samples (i.e. excluding real \n",
    "# negative samples), we want check that all CDR3b sequences which appear\n",
    "# in the negative samples are also appearing in the positive ones\n",
    "def check_no_beta_only_in_neg(df):\n",
    "    # this check only concerns the positive + randomized negative samples\n",
    "    # we exclude the real negatives\n",
    "    t = df[df[\"negative.source\"] != \"mira\"]\n",
    "    t = t[t[\"negative.source\"] != \"iedb\"]\n",
    "    t = t[t[\"negative.source\"] != \"nettcr-2.0\"]\n",
    "\n",
    "    b_n = set(df_pep_b[df_pep_b.label==0][\"cdr3.beta\"].unique())\n",
    "    b_p = set(df_pep_b[df_pep_b.label==1][\"cdr3.beta\"].unique())\n",
    "    assert len(b_n - b_p) == 0\n",
    "\n",
    "df_pep_b = df[[\"antigen.epitope\", \"cdr3.beta\", \"label\", \"negative.source\"]].copy()\n",
    "check_no_beta_only_in_neg(df_pep_b)\n",
    "\n",
    "df_pep_b_mhc = df[[\"antigen.epitope\", \"cdr3.beta\", \"mhc.seq\", \"label\", \"negative.source\"]].dropna().copy()\n",
    "check_no_beta_only_in_neg(df_pep_b_mhc)\n",
    "\n",
    "df_pep_b_a = df[[\"antigen.epitope\", \"cdr3.beta\", \"cdr3.alpha\", \"label\", \"negative.source\"]].dropna().copy()\n",
    "check_no_beta_only_in_neg(df_pep_b_a)\n",
    "\n",
    "df_pep_b_a_mhc = df[[\"antigen.epitope\", \"cdr3.beta\", \"cdr3.alpha\", \"mhc.seq\", \"label\", \"negative.source\"]].dropna().copy()\n",
    "check_no_beta_only_in_neg(df_pep_b_a_mhc)"
   ]
  }
 ],
 "metadata": {
  "kernelspec": {
   "display_name": "Python 3",
   "language": "python",
   "name": "python3"
  },
  "language_info": {
   "codemirror_mode": {
    "name": "ipython",
    "version": 3
   },
   "file_extension": ".py",
   "mimetype": "text/x-python",
   "name": "python",
   "nbconvert_exporter": "python",
   "pygments_lexer": "ipython3",
   "version": "3.6.13"
  }
 },
 "nbformat": 4,
 "nbformat_minor": 5
}
