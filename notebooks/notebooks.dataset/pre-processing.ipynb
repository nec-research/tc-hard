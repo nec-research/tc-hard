{
 "cells": [
  {
   "cell_type": "code",
   "execution_count": 1,
   "id": "37caa8ae",
   "metadata": {},
   "outputs": [],
   "source": [
    "import pandas as pd\n",
    "import numpy as np\n",
    "import os\n",
    "import operator\n",
    "import random\n",
    "\n",
    "login = os.getlogin()\n",
    "data_dir = f'/home/{login}/Git/tc-hard/tc-hard-data/'"
   ]
  },
  {
   "cell_type": "code",
   "execution_count": 2,
   "id": "f38ec57f",
   "metadata": {},
   "outputs": [],
   "source": [
    "def set_random_seed(random_seed):\n",
    "    random.seed(random_seed)\n",
    "    np.random.seed(random_seed)\n",
    "set_random_seed(42)"
   ]
  },
  {
   "cell_type": "code",
   "execution_count": 3,
   "id": "35ca0d4f",
   "metadata": {},
   "outputs": [],
   "source": [
    "def print_stats(df, mhc=\"allele\"):\n",
    "\n",
    "    if mhc == \"allele\":\n",
    "        mhc_col = \"mhc.a\"\n",
    "    elif mhc == \"seq\":\n",
    "        mhc_col = \"mhc.seq\"\n",
    "    else:\n",
    "        raise NotImplementedError\n",
    "\n",
    "    print('Total samples:', len(df))\n",
    "\n",
    "    temp = df.copy()\n",
    "    temp = temp[[\"cdr3.beta\", \"antigen.epitope\", 'label']].dropna().drop_duplicates()\n",
    "    pos = temp[temp['label']==1]\n",
    "    neg = temp[temp['label']==0]\n",
    "    print('\\n With CDR3b + pep: ',len(temp))\n",
    "    print(\"Non-binding samples: \", len(neg))\n",
    "    print(\"Binding samples: \", len(pos))\n",
    "\n",
    "    temp = df.copy()\n",
    "    temp = temp[[\"cdr3.beta\", \"antigen.epitope\", 'label', mhc_col]].dropna().drop_duplicates()\n",
    "    pos = temp[temp['label']==1]\n",
    "    neg = temp[temp['label']==0]\n",
    "    print(f'\\n With CDR3b + pep + MHC {mhc}: ',len(temp))\n",
    "    print(\"Non-binding samples: \", len(neg))\n",
    "    print(\"Binding samples: \", len(pos))\n",
    "\n",
    "    temp = df.copy()\n",
    "    temp = temp[[\"cdr3.beta\", \"antigen.epitope\", 'label', \"cdr3.alpha\"]].dropna().drop_duplicates()\n",
    "    pos = temp[temp['label']==1]\n",
    "    neg = temp[temp['label']==0]\n",
    "    print(f'\\n With CDR3b + pep + CDR3a {mhc}: ',len(temp))\n",
    "    print(\"Non-binding samples: \", len(neg))\n",
    "    print(\"Binding samples: \", len(pos))\n",
    "\n",
    "    temp = df.copy()\n",
    "    temp = temp[[\"cdr3.alpha\", \"cdr3.beta\", \"antigen.epitope\", 'label', mhc_col]].dropna().drop_duplicates()\n",
    "    pos = temp[temp['label']==1]\n",
    "    neg = temp[temp['label']==0]\n",
    "    print(f'\\n With CDR3b + pep + CDR3a + MHC {mhc}: ',len(temp))\n",
    "    print(\"Non-binding samples: \", len(neg))\n",
    "    print(\"Binding samples: \", len(pos))"
   ]
  },
  {
   "cell_type": "markdown",
   "id": "97ed54a2",
   "metadata": {},
   "source": [
    "# VDJdb"
   ]
  },
  {
   "cell_type": "code",
   "execution_count": 4,
   "id": "15996837",
   "metadata": {},
   "outputs": [
    {
     "name": "stderr",
     "output_type": "stream",
     "text": [
      "/home/nle-fgrazioli/anaconda3/envs/tcrmodels/lib/python3.6/site-packages/IPython/core/interactiveshell.py:3072: DtypeWarning: Columns (20,29,30) have mixed types.Specify dtype option on import or set low_memory=False.\n",
      "  interactivity=interactivity, compiler=compiler, result=result)\n"
     ]
    }
   ],
   "source": [
    "vdjdb_df = pd.read_csv(data_dir+'vdjdb-2021-09-05/vdjdb_full.txt', sep=\"\\t\")\n",
    "vdjdb_df = vdjdb_df[vdjdb_df['species'] == 'HomoSapiens']"
   ]
  },
  {
   "cell_type": "code",
   "execution_count": 5,
   "id": "6d1baf6f",
   "metadata": {},
   "outputs": [],
   "source": [
    "vdjdb_df = vdjdb_df[[\"cdr3.alpha\", \"cdr3.beta\", \"mhc.a\", \"antigen.epitope\", \"v.alpha\", \"j.alpha\", \"v.beta\", \"d.beta\", \"j.beta\"]]\n",
    "\n",
    "# remove rows with NaN CDR3 beta and peptides (for CDR3 alpha and MHC we accept NaN)\n",
    "vdjdb_df.dropna(subset=[\"cdr3.beta\", \"antigen.epitope\"], inplace=True)"
   ]
  },
  {
   "cell_type": "code",
   "execution_count": 6,
   "id": "3880fab3",
   "metadata": {},
   "outputs": [],
   "source": [
    "# filter for non-aa characters in CDR3 beta sequences;\n",
    "# do the same in CDR3 alpha if they're not NeN (keep the NaN alpha)\n",
    "alpha_nan_or_is_amino = operator.or_(vdjdb_df['cdr3.alpha'].str.match('^[A-Z]+$') == True, vdjdb_df['cdr3.alpha'].isna())\n",
    "beta_is_amino = vdjdb_df['cdr3.beta'].str.match('^[A-Z]+$') == True\n",
    "vdjdb_df = vdjdb_df.loc[alpha_nan_or_is_amino & beta_is_amino]"
   ]
  },
  {
   "cell_type": "code",
   "execution_count": 7,
   "id": "92ea10ae",
   "metadata": {},
   "outputs": [],
   "source": [
    "# if CDR3 alpha and CDR3 beta do not start with `C`, add it\n",
    "vdjdb_df['cdr3.beta'] = vdjdb_df['cdr3.beta'].apply(lambda x: 'C' + x if not pd.isnull(x) and x[0] != 'C' else x)\n",
    "vdjdb_df['cdr3.alpha'] = vdjdb_df['cdr3.alpha'].apply(lambda x: 'C' + x if not pd.isnull(x) and x[0] != 'C' else x)\n",
    "\n",
    "# filter for unclear/PTM epitopes\n",
    "vdjdb_df = vdjdb_df.loc[(vdjdb_df['antigen.epitope'].str.match('^[A-Z]+$') == True)].reset_index(drop=True)"
   ]
  },
  {
   "cell_type": "code",
   "execution_count": 8,
   "id": "2ba31dac",
   "metadata": {},
   "outputs": [],
   "source": [
    "# filter for duplicates\n",
    "vdjdb_df = vdjdb_df.drop_duplicates(subset=['cdr3.alpha', 'cdr3.beta', 'antigen.epitope', 'mhc.a'], keep='first')"
   ]
  },
  {
   "cell_type": "code",
   "execution_count": 9,
   "id": "c53b7731",
   "metadata": {},
   "outputs": [],
   "source": [
    "# add label - all samples are positive in this dataset\n",
    "vdjdb_df['label'] = 1\n",
    "\n",
    "# mark negative source\n",
    "vdjdb_df[\"negative.source\"] = np.nan"
   ]
  },
  {
   "cell_type": "code",
   "execution_count": 10,
   "id": "c709795f",
   "metadata": {},
   "outputs": [
    {
     "name": "stdout",
     "output_type": "stream",
     "text": [
      "Total samples: 39809\n",
      "\n",
      " With CDR3b + pep:  35936\n",
      "Non-binding samples:  0\n",
      "Binding samples:  35936\n",
      "\n",
      " With CDR3b + pep + MHC allele:  36296\n",
      "Non-binding samples:  0\n",
      "Binding samples:  36296\n",
      "\n",
      " With CDR3b + pep + CDR3a allele:  23402\n",
      "Non-binding samples:  0\n",
      "Binding samples:  23402\n",
      "\n",
      " With CDR3b + pep + CDR3a + MHC allele:  23446\n",
      "Non-binding samples:  0\n",
      "Binding samples:  23446\n"
     ]
    }
   ],
   "source": [
    "print_stats(vdjdb_df)"
   ]
  },
  {
   "cell_type": "markdown",
   "id": "6adeb033",
   "metadata": {},
   "source": [
    "# McPAS-TCR"
   ]
  },
  {
   "cell_type": "code",
   "execution_count": 11,
   "id": "31074f1c",
   "metadata": {
    "scrolled": true
   },
   "outputs": [],
   "source": [
    "mcpas_df = pd.read_csv(data_dir+'mcpas-tcr-2022-02-22/McPAS-TCR.csv', engine='python')\n",
    "mcpas_df = mcpas_df[mcpas_df['Species'] == 'Human']"
   ]
  },
  {
   "cell_type": "code",
   "execution_count": 12,
   "id": "3f25af91",
   "metadata": {},
   "outputs": [],
   "source": [
    "mcpas_df = mcpas_df[[\n",
    "    'CDR3.alpha.aa', 'CDR3.beta.aa', 'Epitope.peptide', \n",
    "    'MHC', \"TRAV\", \"TRAJ\", \"TRBV\", \"TRBD\", \"TRBJ\"\n",
    "]]"
   ]
  },
  {
   "cell_type": "code",
   "execution_count": 13,
   "id": "62e3a3ff",
   "metadata": {},
   "outputs": [],
   "source": [
    "mcpas_df = mcpas_df.rename(columns={\n",
    "    'CDR3.alpha.aa': 'cdr3.alpha', \n",
    "    'CDR3.beta.aa': 'cdr3.beta', \n",
    "    'Epitope.peptide': 'antigen.epitope', \n",
    "    'MHC': 'mhc.a',\n",
    "    \"TRAV\": \"v.alpha\", \n",
    "    \"TRAJ\": \"j.alpha\", \n",
    "    \"TRBV\": \"v.beta\", \n",
    "    \"TRBD\": \"d.beta\", \n",
    "    \"TRBJ\": \"j.beta\"\n",
    "})"
   ]
  },
  {
   "cell_type": "code",
   "execution_count": 14,
   "id": "affd5c26",
   "metadata": {},
   "outputs": [],
   "source": [
    "# remove rows with NaN CDR3 beta and peptides (for CDR3 alpha and MHC we accept NaN)\n",
    "mcpas_df.dropna(subset=[\"cdr3.beta\", \"antigen.epitope\"], inplace=True)"
   ]
  },
  {
   "cell_type": "code",
   "execution_count": 15,
   "id": "86723333",
   "metadata": {},
   "outputs": [],
   "source": [
    "# filter for non-aa characters in CDR3 beta sequences;\n",
    "# do the same in CDR3 alpha if they're not NeN (keep the NaN alpha)\n",
    "alpha_nan_or_is_amino = operator.or_(mcpas_df['cdr3.alpha'].str.match('^[A-Z]+$') == True, mcpas_df['cdr3.alpha'].isna())\n",
    "beta_is_amino = mcpas_df['cdr3.beta'].str.match('^[A-Z]+$') == True\n",
    "mcpas_df = mcpas_df.loc[alpha_nan_or_is_amino & beta_is_amino]"
   ]
  },
  {
   "cell_type": "code",
   "execution_count": 16,
   "id": "9746ee3c",
   "metadata": {},
   "outputs": [],
   "source": [
    "# if CDR3 alpha and CDR3 beta do not start with `C`, add it\n",
    "mcpas_df['cdr3.beta'] = mcpas_df['cdr3.beta'].apply(lambda x: 'C' + x if not pd.isnull(x) and x[0] != 'C' else x)\n",
    "mcpas_df['cdr3.alpha'] = mcpas_df['cdr3.alpha'].apply(lambda x: 'C' + x if not pd.isnull(x) and x[0] != 'C' else x)\n",
    "\n",
    "# filter for unclear/PTM epitopes\n",
    "mcpas_df = mcpas_df.loc[(mcpas_df['antigen.epitope'].str.match('^[A-Z]+$') == True)].reset_index(drop=True)"
   ]
  },
  {
   "cell_type": "code",
   "execution_count": 17,
   "id": "4709014e",
   "metadata": {},
   "outputs": [],
   "source": [
    "# filter for duplicates\n",
    "mcpas_df = mcpas_df.drop_duplicates(subset=['cdr3.alpha', 'cdr3.beta', 'antigen.epitope', 'mhc.a'], keep='first')"
   ]
  },
  {
   "cell_type": "code",
   "execution_count": 18,
   "id": "d58b01bc",
   "metadata": {},
   "outputs": [],
   "source": [
    "# add label - all samples are positive in this dataset\n",
    "mcpas_df['label'] = 1\n",
    "\n",
    "# mark negative source\n",
    "mcpas_df[\"negative.source\"] = np.nan"
   ]
  },
  {
   "cell_type": "code",
   "execution_count": 19,
   "id": "006a7c32",
   "metadata": {},
   "outputs": [
    {
     "name": "stdout",
     "output_type": "stream",
     "text": [
      "Total samples: 10719\n",
      "\n",
      " With CDR3b + pep:  10232\n",
      "Non-binding samples:  0\n",
      "Binding samples:  10232\n",
      "\n",
      " With CDR3b + pep + MHC allele:  10332\n",
      "Non-binding samples:  0\n",
      "Binding samples:  10332\n",
      "\n",
      " With CDR3b + pep + CDR3a allele:  2305\n",
      "Non-binding samples:  0\n",
      "Binding samples:  2305\n",
      "\n",
      " With CDR3b + pep + CDR3a + MHC allele:  2270\n",
      "Non-binding samples:  0\n",
      "Binding samples:  2270\n"
     ]
    }
   ],
   "source": [
    "print_stats(mcpas_df)"
   ]
  },
  {
   "cell_type": "markdown",
   "id": "0ed49459",
   "metadata": {},
   "source": [
    "# IEDB\n",
    "already pre-processed with `TCRpair/data_prep_iedb.py`"
   ]
  },
  {
   "cell_type": "code",
   "execution_count": 20,
   "id": "b5ee194c",
   "metadata": {},
   "outputs": [
    {
     "name": "stderr",
     "output_type": "stream",
     "text": [
      "/home/nle-fgrazioli/anaconda3/envs/tcrmodels/lib/python3.6/site-packages/IPython/core/interactiveshell.py:3072: DtypeWarning: Columns (8,10,11,13,15,16,17,18,20,21,22,23,24,25,30,31,36,37,44,45,46,47,48,49,50,51,52,59,60,65,66,71,73,74,75,76,77) have mixed types.Specify dtype option on import or set low_memory=False.\n",
      "  interactivity=interactivity, compiler=compiler, result=result)\n"
     ]
    }
   ],
   "source": [
    "iedb_pos_df = pd.read_csv(data_dir+'iedb-2022-02-22/pos_iedb.csv')\n",
    "iedb_neg_df = pd.read_csv(data_dir+'iedb-2022-02-22/neg_iedb.csv')"
   ]
  },
  {
   "cell_type": "code",
   "execution_count": 21,
   "id": "abb1278b",
   "metadata": {},
   "outputs": [],
   "source": [
    "iedb_pos_df = iedb_pos_df[[\"cdr3.alpha\", \"cdr3.beta\", \"mhc.a\", \"antigen.epitope\", \"v.alpha\", \"v.beta\", \"j.alpha\", \"j.beta\", \"d.beta\"]]\n",
    "iedb_neg_df = iedb_neg_df[[\"cdr3.alpha\", \"cdr3.beta\", \"mhc.a\", \"antigen.epitope\", \"v.alpha\", \"v.beta\", \"j.alpha\", \"j.beta\", \"d.beta\"]]"
   ]
  },
  {
   "cell_type": "code",
   "execution_count": 22,
   "id": "208c2a80",
   "metadata": {},
   "outputs": [],
   "source": [
    "iedb_pos_df['label'] = 1\n",
    "iedb_neg_df['label'] = 0"
   ]
  },
  {
   "cell_type": "code",
   "execution_count": 23,
   "id": "0d20097e",
   "metadata": {},
   "outputs": [],
   "source": [
    "# mark negative source\n",
    "iedb_pos_df[\"negative.source\"] = np.nan\n",
    "iedb_neg_df[\"negative.source\"] = \"iedb\""
   ]
  },
  {
   "cell_type": "code",
   "execution_count": 24,
   "id": "250040aa",
   "metadata": {},
   "outputs": [
    {
     "name": "stdout",
     "output_type": "stream",
     "text": [
      "Total samples: 150771\n",
      "\n",
      " With CDR3b + pep:  146979\n",
      "Non-binding samples:  947\n",
      "Binding samples:  146032\n",
      "\n",
      " With CDR3b + pep + MHC allele:  146189\n",
      "Non-binding samples:  171\n",
      "Binding samples:  146018\n",
      "\n",
      " With CDR3b + pep + CDR3a allele:  20739\n",
      "Non-binding samples:  100\n",
      "Binding samples:  20639\n",
      "\n",
      " With CDR3b + pep + CDR3a + MHC allele:  20727\n",
      "Non-binding samples:  81\n",
      "Binding samples:  20646\n"
     ]
    }
   ],
   "source": [
    "print_stats(pd.concat([iedb_pos_df, iedb_neg_df]))"
   ]
  },
  {
   "cell_type": "markdown",
   "id": "258024fc",
   "metadata": {},
   "source": [
    "#  MIRA set"
   ]
  },
  {
   "cell_type": "code",
   "execution_count": 25,
   "id": "e040944f",
   "metadata": {},
   "outputs": [],
   "source": [
    "mira_df = pd.read_csv(data_dir+'mira/mira_eval_threshold100.csv', sep=';')"
   ]
  },
  {
   "cell_type": "code",
   "execution_count": 26,
   "id": "3e8d3477",
   "metadata": {},
   "outputs": [],
   "source": [
    "mira_df = mira_df.rename(columns={\"CDR3\": 'cdr3.beta', 'peptide': 'antigen.epitope', 'binder': 'label'})\n",
    "mira_df = mira_df.drop_duplicates()\n",
    "mira_df = mira_df.dropna()"
   ]
  },
  {
   "cell_type": "code",
   "execution_count": 27,
   "id": "856f6a5f",
   "metadata": {},
   "outputs": [],
   "source": [
    "# no gene information in the MIRA set\n",
    "mira_df[\"v.alpha\"] = np.nan\n",
    "mira_df[\"v.beta\"] = np.nan\n",
    "mira_df[\"j.alpha\"] = np.nan\n",
    "mira_df[\"j.beta\"] = np.nan\n",
    "mira_df[\"d.beta\"] = np.nan"
   ]
  },
  {
   "cell_type": "code",
   "execution_count": 28,
   "id": "afc7e608",
   "metadata": {},
   "outputs": [],
   "source": [
    "# if CDR3 alpha and CDR3 beta do not start with `C`, add it\n",
    "mcpas_df['cdr3.beta'] = mcpas_df['cdr3.beta'].apply(lambda x: 'C' + x if not pd.isnull(x) and x[0] != 'C' else x)\n",
    "\n",
    "# filter for unclear/PTM epitopes\n",
    "mcpas_df = mcpas_df.loc[(mcpas_df['antigen.epitope'].str.match('^[A-Z]+$') == True)].reset_index(drop=True)"
   ]
  },
  {
   "cell_type": "code",
   "execution_count": 29,
   "id": "aac894bb",
   "metadata": {},
   "outputs": [],
   "source": [
    "mira_df[\"cdr3.alpha\"] = np.nan\n",
    "mira_df[\"mhc.a\"] = np.nan"
   ]
  },
  {
   "cell_type": "code",
   "execution_count": 30,
   "id": "c6fa7622",
   "metadata": {},
   "outputs": [],
   "source": [
    "# mark negative source\n",
    "mira_df[\"negative.source\"] = np.nan\n",
    "mira_df.loc[mira_df[\"label\"] == 0, \"negative.source\"] = \"mira\""
   ]
  },
  {
   "cell_type": "code",
   "execution_count": 31,
   "id": "c66d0d6d",
   "metadata": {},
   "outputs": [
    {
     "name": "stdout",
     "output_type": "stream",
     "text": [
      "Total samples: 1152\n",
      "\n",
      " With CDR3b + pep:  1152\n",
      "Non-binding samples:  960\n",
      "Binding samples:  192\n",
      "\n",
      " With CDR3b + pep + MHC allele:  0\n",
      "Non-binding samples:  0\n",
      "Binding samples:  0\n",
      "\n",
      " With CDR3b + pep + CDR3a allele:  0\n",
      "Non-binding samples:  0\n",
      "Binding samples:  0\n",
      "\n",
      " With CDR3b + pep + CDR3a + MHC allele:  0\n",
      "Non-binding samples:  0\n",
      "Binding samples:  0\n"
     ]
    }
   ],
   "source": [
    "print_stats(mira_df)"
   ]
  },
  {
   "cell_type": "markdown",
   "id": "6959e5fa",
   "metadata": {},
   "source": [
    "# Combine the datasets"
   ]
  },
  {
   "cell_type": "code",
   "execution_count": 32,
   "id": "8cc59e4b",
   "metadata": {},
   "outputs": [
    {
     "data": {
      "text/plain": [
       "202451"
      ]
     },
     "execution_count": 32,
     "metadata": {},
     "output_type": "execute_result"
    }
   ],
   "source": [
    "df = pd.concat([vdjdb_df, mcpas_df, iedb_pos_df, iedb_neg_df, mira_df]).reset_index(drop=True)\n",
    "len(df)"
   ]
  },
  {
   "cell_type": "code",
   "execution_count": 33,
   "id": "54361fb0",
   "metadata": {},
   "outputs": [
    {
     "data": {
      "text/plain": [
       "182350"
      ]
     },
     "execution_count": 33,
     "metadata": {},
     "output_type": "execute_result"
    }
   ],
   "source": [
    "df = df.drop_duplicates(subset=[\"cdr3.alpha\", \"cdr3.beta\", \"mhc.a\", \"antigen.epitope\", \"label\"], keep=\"first\").reset_index(drop=True)\n",
    "len(df)"
   ]
  },
  {
   "cell_type": "code",
   "execution_count": 34,
   "id": "07f7500b",
   "metadata": {},
   "outputs": [
    {
     "name": "stdout",
     "output_type": "stream",
     "text": [
      "504\n"
     ]
    },
    {
     "data": {
      "text/html": [
       "<div>\n",
       "<style scoped>\n",
       "    .dataframe tbody tr th:only-of-type {\n",
       "        vertical-align: middle;\n",
       "    }\n",
       "\n",
       "    .dataframe tbody tr th {\n",
       "        vertical-align: top;\n",
       "    }\n",
       "\n",
       "    .dataframe thead th {\n",
       "        text-align: right;\n",
       "    }\n",
       "</style>\n",
       "<table border=\"1\" class=\"dataframe\">\n",
       "  <thead>\n",
       "    <tr style=\"text-align: right;\">\n",
       "      <th></th>\n",
       "      <th>cdr3.alpha</th>\n",
       "      <th>cdr3.beta</th>\n",
       "      <th>mhc.a</th>\n",
       "      <th>antigen.epitope</th>\n",
       "      <th>v.alpha</th>\n",
       "      <th>j.alpha</th>\n",
       "      <th>v.beta</th>\n",
       "      <th>d.beta</th>\n",
       "      <th>j.beta</th>\n",
       "      <th>label</th>\n",
       "      <th>negative.source</th>\n",
       "    </tr>\n",
       "  </thead>\n",
       "  <tbody>\n",
       "    <tr>\n",
       "      <th>179630</th>\n",
       "      <td>NaN</td>\n",
       "      <td>CASSHQAGALYNEQFF</td>\n",
       "      <td>HLA-A*29:02</td>\n",
       "      <td>EVLPFFLFF</td>\n",
       "      <td>NaN</td>\n",
       "      <td>NaN</td>\n",
       "      <td>NaN</td>\n",
       "      <td>NaN</td>\n",
       "      <td>NaN</td>\n",
       "      <td>1</td>\n",
       "      <td>NaN</td>\n",
       "    </tr>\n",
       "    <tr>\n",
       "      <th>181193</th>\n",
       "      <td>NaN</td>\n",
       "      <td>CASSHQAGALYNEQFF</td>\n",
       "      <td>HLA-A*29:02</td>\n",
       "      <td>EVLPFFLFF</td>\n",
       "      <td>NaN</td>\n",
       "      <td>NaN</td>\n",
       "      <td>NaN</td>\n",
       "      <td>NaN</td>\n",
       "      <td>NaN</td>\n",
       "      <td>0</td>\n",
       "      <td>iedb</td>\n",
       "    </tr>\n",
       "  </tbody>\n",
       "</table>\n",
       "</div>"
      ],
      "text/plain": [
       "       cdr3.alpha         cdr3.beta        mhc.a antigen.epitope v.alpha  \\\n",
       "179630        NaN  CASSHQAGALYNEQFF  HLA-A*29:02       EVLPFFLFF     NaN   \n",
       "181193        NaN  CASSHQAGALYNEQFF  HLA-A*29:02       EVLPFFLFF     NaN   \n",
       "\n",
       "       j.alpha v.beta d.beta j.beta  label negative.source  \n",
       "179630     NaN    NaN    NaN    NaN      1             NaN  \n",
       "181193     NaN    NaN    NaN    NaN      0            iedb  "
      ]
     },
     "execution_count": 34,
     "metadata": {},
     "output_type": "execute_result"
    }
   ],
   "source": [
    "# Remark: we observe that certain samples are labelled in an inconsistent way\n",
    "# This is an argument for not considering negative samples from IEDB. but only randomized negative samples\n",
    "q = df[df.duplicated(subset=[\"cdr3.alpha\", \"cdr3.beta\", \"mhc.a\", \"antigen.epitope\"], keep=False)]\n",
    "print(len(q))\n",
    "# Example:\n",
    "q[q[\"antigen.epitope\"] == \"EVLPFFLFF\"]"
   ]
  },
  {
   "cell_type": "markdown",
   "id": "d3579349",
   "metadata": {},
   "source": [
    "# Fix the HLAs"
   ]
  },
  {
   "cell_type": "code",
   "execution_count": 35,
   "id": "d6509e9e",
   "metadata": {},
   "outputs": [],
   "source": [
    "# remove the \"mutant\"\n",
    "mutant_dict = {}\n",
    "for mhc in df['mhc.a'].unique():\n",
    "    if type(mhc) == str and \"mutant\" in mhc:\n",
    "        mutant_dict[mhc] = mhc.split(\" \")[0].replace(\",\", \"\")\n",
    "df['mhc.a'] = df['mhc.a'].apply(lambda x: mutant_dict[x] if x in mutant_dict.keys() else x)"
   ]
  },
  {
   "cell_type": "code",
   "execution_count": 36,
   "id": "27a9ace0",
   "metadata": {},
   "outputs": [],
   "source": [
    "# trim HLA resolution when > 4\n",
    "import re\n",
    "\n",
    "match = \"\\d\\d:\\d\\d:\\d\\d\"\n",
    "higher_resolution_dict = {}\n",
    "for mhc in df['mhc.a'].unique():\n",
    "    if type(mhc) == str:\n",
    "        r = re.search(match, mhc)\n",
    "        if r:\n",
    "            s = mhc.split(\":\")\n",
    "            higher_resolution_dict[mhc] = s[0]+\":\"+s[1]\n",
    "\n",
    "df['mhc.a'] = df['mhc.a'].apply(lambda x: higher_resolution_dict[x] if x in higher_resolution_dict.keys() else x)"
   ]
  },
  {
   "cell_type": "code",
   "execution_count": 37,
   "id": "e2b5355a",
   "metadata": {},
   "outputs": [],
   "source": [
    "# duplicate rows when ther are multiple HLAs\n",
    "multiple_hlas_dict = {}\n",
    "for mhc in df['mhc.a'].unique():\n",
    "    if type(mhc) == str:\n",
    "        if \",\" in mhc:\n",
    "            multiple_hlas_dict[mhc] = mhc.replace(\" \", \"\").split(\",\")\n",
    "\n",
    "rows_to_drop = []\n",
    "peps = []\n",
    "cdr3bs = []\n",
    "cdr3as = []\n",
    "mhcs = []\n",
    "labels = []\n",
    "neg_source = []\n",
    "v_a =[]\n",
    "v_b =[]\n",
    "j_a =[]\n",
    "j_b =[]\n",
    "d_b =[]\n",
    "\n",
    "for index, row in df.iterrows():\n",
    "    if row['mhc.a'] in multiple_hlas_dict.keys():\n",
    "        rows_to_drop.append(index)\n",
    "        for mhc in multiple_hlas_dict[row['mhc.a']]:\n",
    "            mhcs.append(mhc)\n",
    "            peps.append(row[\"antigen.epitope\"])\n",
    "            cdr3bs.append(row[\"cdr3.beta\"])\n",
    "            cdr3as.append(row[\"cdr3.alpha\"])\n",
    "            labels.append(row[\"label\"])\n",
    "            neg_source.append(row[\"negative.source\"])\n",
    "            v_a.append(row[\"v.alpha\"])\n",
    "            v_b.append(row[\"v.beta\"])\n",
    "            j_a.append(row[\"j.alpha\"])\n",
    "            j_b.append(row[\"j.beta\"])\n",
    "            d_b.append(row[\"d.beta\"])\n",
    "\n",
    "df = df.drop(rows_to_drop)\n",
    "\n",
    "df_to_add = pd.DataFrame({\n",
    "    \"antigen.epitope\": peps,\n",
    "    \"mhc.a\": mhcs,\n",
    "    \"cdr3.beta\": cdr3bs,\n",
    "    \"cdr3.alpha\": cdr3as,\n",
    "    \"label\": labels,\n",
    "    \"negative.source\": neg_source,\n",
    "    \"v.alpha\": v_a,\n",
    "    \"v.beta\": v_b,\n",
    "    \"j.alpha\": j_a,\n",
    "    \"j.beta\": j_b,\n",
    "    \"d.beta\": d_b\n",
    "})\n",
    "\n",
    "df = pd.concat([df, df_to_add]).reset_index(drop=True)"
   ]
  },
  {
   "cell_type": "code",
   "execution_count": 38,
   "id": "c4d34484",
   "metadata": {},
   "outputs": [],
   "source": [
    "# at this point, try to normalize the MHC allele\n",
    "from mhcnames.normalization import normalize_allele_name\n",
    "\n",
    "def normalize(x):\n",
    "    try:\n",
    "        return normalize_allele_name(x)\n",
    "    except:\n",
    "        return np.nan\n",
    "\n",
    "df[\"mhc.a\"] = df[\"mhc.a\"].apply(lambda x: normalize(x))"
   ]
  },
  {
   "cell_type": "markdown",
   "id": "a6fed7ac",
   "metadata": {},
   "source": [
    "# Add the reference (\"pseudo\") sequences to the dataframe"
   ]
  },
  {
   "cell_type": "code",
   "execution_count": 39,
   "id": "fa4e0fe3",
   "metadata": {},
   "outputs": [
    {
     "name": "stderr",
     "output_type": "stream",
     "text": [
      "/home/nle-fgrazioli/anaconda3/envs/tcrmodels/lib/python3.6/site-packages/ipykernel_launcher.py:1: ParserWarning: Falling back to the 'python' engine because the 'c' engine does not support regex separators (separators > 1 char and different from '\\s+' are interpreted as regex); you can avoid this warning by specifying engine='python'.\n",
      "  \"\"\"Entry point for launching an IPython kernel.\n"
     ]
    }
   ],
   "source": [
    "class1_df = pd.read_csv(data_dir+'mhc-sequences/MHC_pseudo.dat', sep=\"\\s+|\\t+|\\s+\\t+|\\t+\\s+\")\n",
    "class1_df[\"mhc\"] = class1_df[\"mhc\"].apply(lambda x: normalize(x))\n",
    "class1_df = class1_df.dropna()\n",
    "class1_dict = dict(zip(class1_df.mhc, class1_df.sequence))\n",
    "\n",
    "class2_df = pd.read_csv(data_dir+'mhc-sequences/pseudosequence.2016.all.X.dat', sep=\"\\t\")\n",
    "class2_df[\"mhc\"] = class2_df[\"mhc\"].apply(lambda x: normalize(x))\n",
    "class2_df = class2_df.dropna()\n",
    "class2_dict = dict(zip(class2_df.mhc, class2_df.sequence))\n",
    "\n",
    "mhc_2_seq = {**class1_dict, **class2_dict}\n",
    "df[\"mhc.seq\"] = df[\"mhc.a\"].apply(lambda x: mhc_2_seq[x] if x in mhc_2_seq.keys() else np.nan)\n",
    "\n",
    "df = df.reset_index(drop=True).drop_duplicates(subset=[\"cdr3.alpha\", \"cdr3.beta\", \"mhc.seq\", \"mhc.a\", \"antigen.epitope\", \"label\"])"
   ]
  },
  {
   "cell_type": "code",
   "execution_count": 40,
   "id": "82d06c5b",
   "metadata": {},
   "outputs": [
    {
     "name": "stdout",
     "output_type": "stream",
     "text": [
      "Total samples: 178541\n",
      "\n",
      " With CDR3b + pep:  168635\n",
      "Non-binding samples:  1907\n",
      "Binding samples:  166728\n",
      "\n",
      " With CDR3b + pep + MHC seq:  77879\n",
      "Non-binding samples:  178\n",
      "Binding samples:  77701\n",
      "\n",
      " With CDR3b + pep + CDR3a seq:  28794\n",
      "Non-binding samples:  100\n",
      "Binding samples:  28694\n",
      "\n",
      " With CDR3b + pep + CDR3a + MHC seq:  28450\n",
      "Non-binding samples:  92\n",
      "Binding samples:  28358\n",
      "\n",
      " NaN MHC allele info:  89948\n",
      "Good MHC allele info:  88593\n",
      "\n",
      " NaN MHC sequences:  94002\n",
      "Good MHC sequences:  84539\n",
      "\n",
      " NaN CDR3 alpha sequences:  149544\n",
      "Good CDR3 alpha sequences:  28997\n"
     ]
    }
   ],
   "source": [
    "print_stats(df, mhc=\"seq\")\n",
    "\n",
    "print(\"\\n NaN MHC allele info: \", sum(df[\"mhc.a\"].isna()))\n",
    "print(\"Good MHC allele info: \", sum(~df[\"mhc.a\"].isna()))\n",
    "\n",
    "print(\"\\n NaN MHC sequences: \", sum(df[\"mhc.seq\"].isna()))\n",
    "print(\"Good MHC sequences: \", sum(~df[\"mhc.seq\"].isna()))\n",
    "\n",
    "print(\"\\n NaN CDR3 alpha sequences: \", sum(df[\"cdr3.alpha\"].isna()))\n",
    "print(\"Good CDR3 alpha sequences: \", sum(~df[\"cdr3.alpha\"].isna()))"
   ]
  },
  {
   "cell_type": "markdown",
   "id": "27fde465",
   "metadata": {},
   "source": [
    "# Add negative samples from NetTCR-2.0 paper"
   ]
  },
  {
   "cell_type": "code",
   "execution_count": 41,
   "id": "dca88fdc",
   "metadata": {},
   "outputs": [],
   "source": [
    "neg_ab_df = pd.concat([\n",
    "    pd.read_csv(data_dir+\"nettcr2-paper/train_ab_90_alpha.csv\"),\n",
    "    pd.read_csv(data_dir+\"nettcr2-paper/train_ab_90_alphabeta.csv\"),\n",
    "    pd.read_csv(data_dir+\"nettcr2-paper/train_ab_90_beta.csv\"),\n",
    "    pd.read_csv(data_dir+\"nettcr2-paper/train_ab_95_alpha.csv\"),\n",
    "    pd.read_csv(data_dir+\"nettcr2-paper/train_ab_95_alphabeta.csv\"),\n",
    "    pd.read_csv(data_dir+\"nettcr2-paper/train_ab_95_beta.csv\"),\n",
    "])\n",
    "\n",
    "neg_ab_df = neg_ab_df[[\"CDR3a\", \"CDR3b\", \"peptide\", \"binder\"]]\n",
    "\n",
    "neg_ab_df = neg_ab_df.rename(columns={\n",
    "    \"CDR3a\":\"cdr3.alpha\", \"CDR3b\":\"cdr3.beta\", \"peptide\":\"antigen.epitope\", \"binder\":\"label\"\n",
    "})\n",
    "\n",
    "neg_ab_df = neg_ab_df[neg_ab_df[\"label\"] == 0].drop_duplicates().reset_index(drop=True)\n",
    "\n",
    "# no gene information in the NetTCR-2.0 neg samples\n",
    "neg_ab_df[\"v.alpha\"] = np.nan\n",
    "neg_ab_df[\"v.beta\"] = np.nan\n",
    "neg_ab_df[\"j.alpha\"] = np.nan\n",
    "neg_ab_df[\"j.beta\"] = np.nan\n",
    "neg_ab_df[\"d.beta\"] = np.nan"
   ]
  },
  {
   "cell_type": "code",
   "execution_count": 42,
   "id": "0eef4641",
   "metadata": {},
   "outputs": [],
   "source": [
    "# if CDR3 alpha and CDR3 beta do not start with `C`, add it\n",
    "neg_ab_df['cdr3.alpha'] = neg_ab_df['cdr3.alpha'].apply(lambda x: 'C' + x if not pd.isnull(x) and x[0] != 'C' else x)\n",
    "neg_ab_df['cdr3.beta'] = neg_ab_df['cdr3.beta'].apply(lambda x: 'C' + x if not pd.isnull(x) and x[0] != 'C' else x)\n",
    "\n",
    "# filter for unclear/PTM epitopes\n",
    "neg_ab_df = neg_ab_df.loc[(neg_ab_df['antigen.epitope'].str.match('^[A-Z]+$') == True)].reset_index(drop=True)"
   ]
  },
  {
   "cell_type": "code",
   "execution_count": 43,
   "id": "3f353333",
   "metadata": {},
   "outputs": [],
   "source": [
    "neg_b_df = pd.concat([\n",
    "    pd.read_csv(data_dir+\"nettcr2-paper/train_beta_90.csv\", sep=\";\"),\n",
    "    pd.read_csv(data_dir+\"nettcr2-paper/train_beta_92.csv\", sep=\";\"),\n",
    "    pd.read_csv(data_dir+\"nettcr2-paper/train_beta_94.csv\", sep=\";\"),\n",
    "    pd.read_csv(data_dir+\"nettcr2-paper/train_beta_99.csv\", sep=\";\"),\n",
    "])\n",
    "\n",
    "neg_b_df[\"cdr3.alpha\"] = np.nan\n",
    "\n",
    "neg_b_df = neg_b_df[[\"CDR3\", \"peptide\", \"binder\"]]\n",
    "\n",
    "neg_b_df = neg_b_df.rename(columns={\n",
    "    \"CDR3\":\"cdr3.beta\", \"peptide\":\"antigen.epitope\", \"binder\":\"label\"\n",
    "})\n",
    "\n",
    "neg_b_df = neg_b_df[neg_b_df[\"label\"] == 0].drop_duplicates().reset_index(drop=True)"
   ]
  },
  {
   "cell_type": "code",
   "execution_count": 44,
   "id": "93f0f454",
   "metadata": {},
   "outputs": [],
   "source": [
    "# if CDR3 beta do not start with `C`, add it\n",
    "neg_b_df['cdr3.beta'] = neg_b_df['cdr3.beta'].apply(lambda x: 'C' + x if not pd.isnull(x) and x[0] != 'C' else x)\n",
    "\n",
    "# filter for unclear/PTM epitopes\n",
    "neg_b_df = neg_b_df.loc[(neg_b_df['antigen.epitope'].str.match('^[A-Z]+$') == True)].reset_index(drop=True)"
   ]
  },
  {
   "cell_type": "code",
   "execution_count": 45,
   "id": "df692217",
   "metadata": {},
   "outputs": [],
   "source": [
    "neg_df = pd.concat([neg_ab_df, neg_b_df])\n",
    "neg_df = neg_df.drop_duplicates().reset_index(drop=True)"
   ]
  },
  {
   "cell_type": "code",
   "execution_count": 46,
   "id": "66b6956e",
   "metadata": {},
   "outputs": [],
   "source": [
    "# in the NetTCR-2.0 paper, authors state peptides are all specific for HLA-A*02:01\n",
    "neg_df[\"mhc.a\"] = \"HLA-A*02:01\"\n",
    "neg_df[\"mhc.seq\"] = neg_df[\"mhc.a\"].apply(lambda x: mhc_2_seq[x])"
   ]
  },
  {
   "cell_type": "code",
   "execution_count": 47,
   "id": "05102343",
   "metadata": {},
   "outputs": [],
   "source": [
    "# mark negative samples\n",
    "neg_df[\"negative.source\"] = \"nettcr-2.0\""
   ]
  },
  {
   "cell_type": "code",
   "execution_count": 48,
   "id": "0bb68a59",
   "metadata": {},
   "outputs": [
    {
     "name": "stdout",
     "output_type": "stream",
     "text": [
      "Total samples: 146880\n",
      "\n",
      " With CDR3b + pep:  124814\n",
      "Non-binding samples:  124814\n",
      "Binding samples:  0\n",
      "\n",
      " With CDR3b + pep + MHC allele:  124814\n",
      "Non-binding samples:  124814\n",
      "Binding samples:  0\n",
      "\n",
      " With CDR3b + pep + CDR3a allele:  45470\n",
      "Non-binding samples:  45470\n",
      "Binding samples:  0\n",
      "\n",
      " With CDR3b + pep + CDR3a + MHC allele:  45470\n",
      "Non-binding samples:  45470\n",
      "Binding samples:  0\n"
     ]
    }
   ],
   "source": [
    "print_stats(neg_df)"
   ]
  },
  {
   "cell_type": "markdown",
   "id": "3522d85c",
   "metadata": {},
   "source": [
    "# Length filtrations"
   ]
  },
  {
   "cell_type": "code",
   "execution_count": 49,
   "id": "e0c97d8d",
   "metadata": {},
   "outputs": [],
   "source": [
    "def length_filtrations(df):\n",
    "    # only consider peptides whith length <= 16\n",
    "    df['epitope.len'] = df['antigen.epitope'].apply(lambda x: len(x))\n",
    "    df = df[df['epitope.len'] <= 16].drop(columns=['epitope.len'])\n",
    "\n",
    "    # only consider CDR3 beta with 9 <= length <= 23\n",
    "    df['cdr3b.len'] = df['cdr3.beta'].apply(lambda x: len(x))\n",
    "    df = df[df['cdr3b.len'] >= 9]\n",
    "    df = df[df['cdr3b.len'] <= 23].drop(columns=['cdr3b.len'])\n",
    "\n",
    "    # only consider CDR3 alpha with with 7 <= length <= 21\n",
    "    df['cdr3a.len'] = df['cdr3.alpha'].apply(lambda x: len(x) if type(x) is str else x)\n",
    "    lower_mask = operator.or_(df['cdr3a.len'] >= 7, df['cdr3.alpha'].isna())\n",
    "    df = df[lower_mask]\n",
    "    upper_mask = operator.or_(df['cdr3a.len'] <= 20, df['cdr3.alpha'].isna())\n",
    "    df = df[upper_mask]\n",
    "    df = df.drop(columns=['cdr3a.len'])\n",
    "    return df"
   ]
  },
  {
   "cell_type": "code",
   "execution_count": 50,
   "id": "6b98d607",
   "metadata": {},
   "outputs": [],
   "source": [
    "df = length_filtrations(df)\n",
    "neg_df = length_filtrations(neg_df)"
   ]
  },
  {
   "cell_type": "markdown",
   "id": "ae41636d",
   "metadata": {},
   "source": [
    "# Add MHC (when NaN) using the IEDB ligand file"
   ]
  },
  {
   "cell_type": "code",
   "execution_count": 51,
   "id": "6afa40bb",
   "metadata": {},
   "outputs": [
    {
     "name": "stderr",
     "output_type": "stream",
     "text": [
      "/home/nle-fgrazioli/anaconda3/envs/tcrmodels/lib/python3.6/site-packages/IPython/core/interactiveshell.py:3072: DtypeWarning: Columns (3,5,6,8,12,13,14,15,16,17,18,19,20,21,22,23,24,25,26,27,28,29,30,31,32,33,34,35,36,37,38,41,42,43,44,45,46,47,48,49,50,51,52,53,54,55,56,57,58,59,60,61,62,63,64,65,66,67,68,69,70,71,72,73,74,75,76,77,78,81,84,85,86,87,88,89,90,91,92,93,94,97,99) have mixed types.Specify dtype option on import or set low_memory=False.\n",
      "  interactivity=interactivity, compiler=compiler, result=result)\n"
     ]
    }
   ],
   "source": [
    "ligand = pd.read_csv(data_dir+'mhc-sequences/mhc_ligand_full.csv.zip')\n",
    "\n",
    "# in the ligand file, mapping peptide <-> mhc might not be 1-to-1, we keep the first\n",
    "ligand = ligand.drop_duplicates(subset=[\"Epitope.2\"], keep=\"first\")\n",
    "\n",
    "ligand[\"MHC\"] = ligand[\"MHC\"].apply(lambda x: normalize(x))\n",
    "\n",
    "ligand = ligand.dropna(subset=[\"Epitope.2\", \"MHC\"])\n",
    "pep_2_mhc_allele = dict(zip(ligand[\"Epitope.2\"], ligand[\"MHC\"]))\n",
    "\n",
    "# add a column which specifies the origin of the MHC sequence\n",
    "df[\"mhc.source\"] = np.nan\n",
    "df.loc[~df[\"mhc.a\"].isna(), \"mhc.source\"] = \"assay\"\n",
    "\n",
    "def infer_mhc_allele(x, pep_2_mhc_map):\n",
    "    if type(x[\"mhc.a\"]) != str:\n",
    "        if x[\"antigen.epitope\"] in pep_2_mhc_map.keys():\n",
    "            return pep_2_mhc_map[x[\"antigen.epitope\"]]\n",
    "        else:\n",
    "            return np.nan\n",
    "    return x[\"mhc.a\"]\n",
    "\n",
    "def mhc_source(x, pep_2_mhc_map):\n",
    "    if type(x[\"mhc.a\"]) != str:\n",
    "        if x[\"antigen.epitope\"] in pep_2_mhc_map.keys():\n",
    "            return \"iedb-ligand-file\"\n",
    "        else:\n",
    "            return np.nan\n",
    "    return x[\"mhc.source\"]\n",
    "\n",
    "df[\"mhc.source\"] = df.apply(mhc_source, pep_2_mhc_map=pep_2_mhc_allele, axis=1)\n",
    "df[\"mhc.a\"] = df.apply(infer_mhc_allele, pep_2_mhc_map=pep_2_mhc_allele, axis=1)\n",
    "df[\"mhc.seq\"] = df[\"mhc.a\"].apply(lambda x: mhc_2_seq[x] if x in mhc_2_seq.keys() else np.nan)\n",
    "\n",
    "df = df.drop_duplicates().reset_index(drop=True)"
   ]
  },
  {
   "cell_type": "markdown",
   "id": "d925d5d9",
   "metadata": {},
   "source": [
    "# Add negative samples via randomization"
   ]
  },
  {
   "cell_type": "code",
   "execution_count": 52,
   "id": "e65da56c",
   "metadata": {},
   "outputs": [],
   "source": [
    "def sample_negatives(source_df):\n",
    "    source_p_mhc = source_df[[\"antigen.epitope\", \"mhc.a\", \"mhc.seq\"]]\n",
    "    source_cdr3b = source_df[\"cdr3.beta\"].dropna()\n",
    "    source_cdr3a = source_df[\"cdr3.alpha\"].dropna()\n",
    "    \n",
    "    beta_gene_df = source_df[[\"cdr3.beta\", \"j.beta\", \"v.beta\", \"d.beta\"]].drop_duplicates()\n",
    "    cdr3b_2_jb = dict(zip(beta_gene_df[\"cdr3.beta\"], beta_gene_df[\"j.beta\"]))\n",
    "    cdr3b_2_vb = dict(zip(beta_gene_df[\"cdr3.beta\"], beta_gene_df[\"v.beta\"]))\n",
    "    cdr3b_2_db = dict(zip(beta_gene_df[\"cdr3.beta\"], beta_gene_df[\"d.beta\"]))\n",
    "\n",
    "    alpha_gene_df = source_df[[\"cdr3.alpha\", \"j.alpha\", \"v.alpha\"]].drop_duplicates()\n",
    "    cdr3a_2_ja = dict(zip(source_df[\"cdr3.alpha\"], source_df[\"j.alpha\"]))\n",
    "    cdr3a_2_va = dict(zip(source_df[\"cdr3.alpha\"], source_df[\"v.alpha\"]))\n",
    "\n",
    "    # sample negative samples, so that we have 2x negatives w.r.t. positives\n",
    "    N = 2\n",
    "    \n",
    "    temp_df = pd.concat([\n",
    "        source_p_mhc.sample(n=len(source_df), replace=False)\n",
    "        for i in range(N)\n",
    "    ])\n",
    "    \n",
    "    if len(source_cdr3a) > 0:\n",
    "        temp_df[\"cdr3.alpha\"] = np.concatenate([\n",
    "            np.random.choice(source_cdr3a, len(source_df), replace=False)\n",
    "            for i in range(N)\n",
    "        ], axis=0)\n",
    "    else:\n",
    "        temp_df[\"cdr3.alpha\"] = np.nan\n",
    "\n",
    "    temp_df[\"cdr3.beta\"] = np.concatenate([\n",
    "        np.random.choice(source_cdr3b, len(source_df), replace=False)\n",
    "        for i in range(N)\n",
    "    ], axis=0)\n",
    "\n",
    "    # this step ensures that the randomization did not create random samples,\n",
    "    # which are equal to the positive ones\n",
    "#     len_pre = len(temp_df)\n",
    "#     temp = source_df[[\"antigen.epitope\", \"mhc.a\", \"mhc.seq\", \"cdr3.alpha\", \"cdr3.beta\"]]\n",
    "#     temp = source_df[[\"antigen.epitope\", \"mhc.a\", \"mhc.seq\", \"cdr3.beta\"]]\n",
    "#     temp = source_df[[\"antigen.epitope\", \"cdr3.beta\"]]\n",
    "#     temp_df = pd.merge(temp_df, temp, indicator=True, how='outer').query('_merge==\"left_only\"').drop('_merge', axis=1)\n",
    "#     print(f\"Dropping {len_pre - len(temp_df)} samples, which have positive (pep,CDR3b) pairs\")\n",
    "\n",
    "    # assign negative label\n",
    "    temp_df[\"label\"] = 0\n",
    "\n",
    "    # mark negative samples\n",
    "    temp_df[\"negative.source\"] = \"randomized\"\n",
    "    \n",
    "    # assign V, D, J genes\n",
    "    temp_df[\"v.alpha\"] = temp_df[\"cdr3.alpha\"].apply(lambda x: cdr3a_2_va.get(x, np.nan))\n",
    "    temp_df[\"j.alpha\"] = temp_df[\"cdr3.alpha\"].apply(lambda x: cdr3a_2_ja.get(x, np.nan))\n",
    "    temp_df[\"v.beta\"] = temp_df[\"cdr3.beta\"].apply(lambda x: cdr3b_2_vb[x])\n",
    "    temp_df[\"j.beta\"] = temp_df[\"cdr3.beta\"].apply(lambda x: cdr3b_2_jb[x])\n",
    "    temp_df[\"d.beta\"] = temp_df[\"cdr3.beta\"].apply(lambda x: cdr3b_2_db[x])\n",
    "\n",
    "    return temp_df"
   ]
  },
  {
   "cell_type": "code",
   "execution_count": 53,
   "id": "9d417977",
   "metadata": {},
   "outputs": [
    {
     "name": "stdout",
     "output_type": "stream",
     "text": [
      "Dropping 31714 randomized negative samples, which present binding (pep,CDR3b) pairs.\n",
      "\n",
      "Total samples: 265432\n",
      "\n",
      " With CDR3b + pep:  259171\n",
      "Non-binding samples:  259171\n",
      "Binding samples:  0\n",
      "\n",
      " With CDR3b + pep + MHC seq:  174311\n",
      "Non-binding samples:  174311\n",
      "Binding samples:  0\n",
      "\n",
      " With CDR3b + pep + CDR3a seq:  37061\n",
      "Non-binding samples:  37061\n",
      "Binding samples:  0\n",
      "\n",
      " With CDR3b + pep + CDR3a + MHC seq:  36452\n",
      "Non-binding samples:  36452\n",
      "Binding samples:  0\n"
     ]
    }
   ],
   "source": [
    "samp_neg_df = []\n",
    "\n",
    "# we only sample negatives starting from positive samples\n",
    "pos_df = df[df[\"label\"] == 1]\n",
    "\n",
    "# case 1: cdr3 alpha and mhc are available\n",
    "source_df = pos_df.dropna(subset=[\"cdr3.alpha\", \"mhc.seq\"])\n",
    "temp_df = sample_negatives(source_df)\n",
    "samp_neg_df.append(temp_df)\n",
    "\n",
    "# case 2: cdr3 alpha available, mhc unknown\n",
    "source_df = pos_df.dropna(subset=[\"cdr3.alpha\"])\n",
    "source_df = source_df[source_df[\"mhc.seq\"].isna()]\n",
    "temp_df = sample_negatives(source_df)\n",
    "samp_neg_df.append(temp_df)\n",
    "\n",
    "# case 3: cdr3 alpha unknown, mhc is available\n",
    "source_df = pos_df.dropna(subset=[\"mhc.seq\"])\n",
    "source_df = source_df[source_df[\"cdr3.alpha\"].isna()]\n",
    "temp_df = sample_negatives(source_df)\n",
    "samp_neg_df.append(temp_df)\n",
    "\n",
    "# case 3: cdr3 alpha unknown, mhc unknown\n",
    "source_df = pos_df[pos_df[\"mhc.seq\"].isna()]\n",
    "source_df = source_df[source_df[\"cdr3.alpha\"].isna()]\n",
    "temp_df = sample_negatives(source_df)\n",
    "samp_neg_df.append(temp_df)\n",
    "\n",
    "samp_neg_df = pd.concat(samp_neg_df)\n",
    "samp_neg_df = samp_neg_df.drop_duplicates(\n",
    "    subset=['cdr3.alpha', 'cdr3.beta', 'mhc.a', 'antigen.epitope', 'label',\n",
    "       'negative.source', 'mhc.seq']\n",
    ").reset_index(drop=True)  # we exclude genes in checking for duplicates\n",
    "\n",
    "# this step ensures that the randomization did not create random samples,\n",
    "# which are equal to the positive ones\n",
    "len_pre = len(samp_neg_df)\n",
    "temp = df[[\"antigen.epitope\", \"cdr3.beta\"]]\n",
    "samp_neg_df = pd.merge(samp_neg_df, temp, indicator=True, how='outer').query('_merge==\"left_only\"').drop('_merge', axis=1)\n",
    "print(f\"Dropping {len_pre - len(samp_neg_df)} randomized negative samples, which present binding (pep,CDR3b) pairs.\\n\")\n",
    "\n",
    "print_stats(samp_neg_df, \"seq\")"
   ]
  },
  {
   "cell_type": "code",
   "execution_count": 54,
   "id": "6bcaf58b",
   "metadata": {},
   "outputs": [],
   "source": [
    "df = pd.concat([df, neg_df, samp_neg_df]).drop_duplicates().reset_index(drop=True)"
   ]
  },
  {
   "cell_type": "markdown",
   "id": "7d9e7e49",
   "metadata": {},
   "source": [
    "# Save"
   ]
  },
  {
   "cell_type": "code",
   "execution_count": 55,
   "id": "4c6d4271",
   "metadata": {},
   "outputs": [],
   "source": [
    "df.to_csv(data_dir+\"tc-hard/ds-vdj-genes.csv\", index=False)"
   ]
  },
  {
   "cell_type": "markdown",
   "id": "1b78d334",
   "metadata": {},
   "source": [
    "# Stats - considering full dataset"
   ]
  },
  {
   "cell_type": "code",
   "execution_count": 56,
   "id": "e3279446",
   "metadata": {},
   "outputs": [],
   "source": [
    "def check_duplicates(df, mhc=\"a\"):\n",
    "    print(\"Samples: \", len(df))\n",
    "\n",
    "    q = df.drop_duplicates(subset=['cdr3.alpha', 'cdr3.beta', 'antigen.epitope', f'mhc.{mhc}'])\n",
    "    print(\"Dropping duplicated p+b+a+mhc: \", len(q))\n",
    "    p = df.drop_duplicates(subset=['cdr3.alpha', 'cdr3.beta', 'antigen.epitope', f'mhc.{mhc}', 'label'])\n",
    "    print(\"Dropping duplicated p+b+a+mhc+label: \", len(p))\n",
    "    \n",
    "    q = df.drop_duplicates(subset=['cdr3.beta', 'antigen.epitope', f'mhc.{mhc}'])\n",
    "    print(\"Dropping duplicated p+b+mhc: \", len(q))\n",
    "    p = df.drop_duplicates(subset=['cdr3.beta', 'antigen.epitope', f'mhc.{mhc}', 'label'])\n",
    "    print(\"Dropping duplicated p+b+mhc+label: \", len(p))\n",
    "    \n",
    "    \n",
    "    q = df.drop_duplicates(subset=['cdr3.alpha', 'cdr3.beta', 'antigen.epitope'])\n",
    "    print(\"Dropping duplicated p+b+a: \", len(q))\n",
    "    p = df.drop_duplicates(subset=['cdr3.alpha', 'cdr3.beta', 'antigen.epitope', 'label'])\n",
    "    print(\"Dropping duplicated p+b+a+label: \", len(p))\n",
    "\n",
    "    q = df.drop_duplicates(subset=['cdr3.beta', 'antigen.epitope'])\n",
    "    print(\"Dropping duplicated p+b: \", len(q))\n",
    "    p = df.drop_duplicates(subset=['cdr3.beta', 'antigen.epitope', 'label'])\n",
    "    print(\"Dropping duplicated p+b+label: \", len(p))"
   ]
  },
  {
   "cell_type": "code",
   "execution_count": 57,
   "id": "d223fe27",
   "metadata": {},
   "outputs": [
    {
     "name": "stdout",
     "output_type": "stream",
     "text": [
      "Total samples: 566218\n",
      "\n",
      " With CDR3b + pep:  528020\n",
      "Non-binding samples:  385776\n",
      "Binding samples:  142244\n",
      "\n",
      " With CDR3b + pep + MHC seq:  400397\n",
      "Non-binding samples:  300168\n",
      "Binding samples:  100229\n",
      "\n",
      " With CDR3b + pep + CDR3a seq:  111041\n",
      "Non-binding samples:  82631\n",
      "Binding samples:  28410\n",
      "\n",
      " With CDR3b + pep + CDR3a + MHC seq:  110266\n",
      "Non-binding samples:  82037\n",
      "Binding samples:  28229\n",
      "\n",
      " NaN MHC allele info:  120244\n",
      "Good MHC allele info:  445974\n",
      "\n",
      " NaN MHC sequences:  130817\n",
      "Good MHC sequences:  435401\n",
      "\n",
      " NaN CDR3 alpha sequences:  454984\n",
      "Good CDR3 alpha sequences:  111234\n"
     ]
    }
   ],
   "source": [
    "print_stats(df, mhc=\"seq\")\n",
    "\n",
    "print(\"\\n NaN MHC allele info: \", sum(df[\"mhc.a\"].isna()))\n",
    "print(\"Good MHC allele info: \", sum(~df[\"mhc.a\"].isna()))\n",
    "\n",
    "print(\"\\n NaN MHC sequences: \", sum(df[\"mhc.seq\"].isna()))\n",
    "print(\"Good MHC sequences: \", sum(~df[\"mhc.seq\"].isna()))\n",
    "\n",
    "print(\"\\n NaN CDR3 alpha sequences: \", sum(df[\"cdr3.alpha\"].isna()))\n",
    "print(\"Good CDR3 alpha sequences: \", sum(~df[\"cdr3.alpha\"].isna()))"
   ]
  },
  {
   "cell_type": "code",
   "execution_count": 58,
   "id": "6e6718b7",
   "metadata": {},
   "outputs": [
    {
     "name": "stdout",
     "output_type": "stream",
     "text": [
      "Samples:  566218\n",
      "Dropping duplicated p+b+a+mhc:  565882\n",
      "Dropping duplicated p+b+a+mhc+label:  566148\n",
      "Dropping duplicated p+b+mhc:  530802\n",
      "Dropping duplicated p+b+mhc+label:  531143\n",
      "Dropping duplicated p+b+a:  562817\n",
      "Dropping duplicated p+b+a+label:  563054\n",
      "Dropping duplicated p+b:  527707\n",
      "Dropping duplicated p+b+label:  528020\n"
     ]
    }
   ],
   "source": [
    "# here we accept inconsistent labelling\n",
    "# as shown above there are some assays which present the same sequences, but with different labels\n",
    "check_duplicates(df, mhc=\"seq\")"
   ]
  },
  {
   "cell_type": "markdown",
   "id": "3ebf068b",
   "metadata": {},
   "source": [
    "# Stats - considering negatives only from negative assays"
   ]
  },
  {
   "cell_type": "code",
   "execution_count": 59,
   "id": "93dd3170",
   "metadata": {},
   "outputs": [
    {
     "name": "stdout",
     "output_type": "stream",
     "text": [
      "Total samples: 300786\n",
      "\n",
      " With CDR3b + pep:  268961\n",
      "Non-binding samples:  126717\n",
      "Binding samples:  142244\n",
      "\n",
      " With CDR3b + pep + MHC seq:  226198\n",
      "Non-binding samples:  125969\n",
      "Binding samples:  100229\n",
      "\n",
      " With CDR3b + pep + CDR3a seq:  73980\n",
      "Non-binding samples:  45570\n",
      "Binding samples:  28410\n",
      "\n",
      " With CDR3b + pep + CDR3a + MHC seq:  73814\n",
      "Non-binding samples:  45585\n",
      "Binding samples:  28229\n",
      "\n",
      " NaN MHC allele info:  42217\n",
      "Good MHC allele info:  258569\n",
      "\n",
      " NaN MHC sequences:  45873\n",
      "Good MHC sequences:  254913\n",
      "\n",
      " NaN CDR3 alpha sequences:  226613\n",
      "Good CDR3 alpha sequences:  74173\n"
     ]
    }
   ],
   "source": [
    "df_only_neg_assays = df[df[\"negative.source\"] != \"randomized\"]\n",
    "\n",
    "print_stats(df_only_neg_assays, mhc=\"seq\")\n",
    "\n",
    "print(\"\\n NaN MHC allele info: \", sum(df_only_neg_assays[\"mhc.a\"].isna()))\n",
    "print(\"Good MHC allele info: \", sum(~df_only_neg_assays[\"mhc.a\"].isna()))\n",
    "\n",
    "print(\"\\n NaN MHC sequences: \", sum(df_only_neg_assays[\"mhc.seq\"].isna()))\n",
    "print(\"Good MHC sequences: \", sum(~df_only_neg_assays[\"mhc.seq\"].isna()))\n",
    "\n",
    "print(\"\\n NaN CDR3 alpha sequences: \", sum(df_only_neg_assays[\"cdr3.alpha\"].isna()))\n",
    "print(\"Good CDR3 alpha sequences: \", sum(~df_only_neg_assays[\"cdr3.alpha\"].isna()))"
   ]
  },
  {
   "cell_type": "code",
   "execution_count": 60,
   "id": "a3bb0b5b",
   "metadata": {},
   "outputs": [
    {
     "name": "stdout",
     "output_type": "stream",
     "text": [
      "Samples:  300786\n",
      "Dropping duplicated p+b+a+mhc:  300496\n",
      "Dropping duplicated p+b+a+mhc+label:  300762\n",
      "Dropping duplicated p+b+mhc:  271714\n",
      "Dropping duplicated p+b+mhc+label:  272055\n",
      "Dropping duplicated p+b+a:  297456\n",
      "Dropping duplicated p+b+a+label:  297693\n",
      "Dropping duplicated p+b:  268648\n",
      "Dropping duplicated p+b+label:  268961\n"
     ]
    }
   ],
   "source": [
    "check_duplicates(df_only_neg_assays, mhc=\"seq\")"
   ]
  },
  {
   "cell_type": "markdown",
   "id": "822e8e97",
   "metadata": {},
   "source": [
    "# Stats - considering negatives only from randomization"
   ]
  },
  {
   "cell_type": "code",
   "execution_count": 61,
   "id": "1d261f2b",
   "metadata": {},
   "outputs": [
    {
     "name": "stdout",
     "output_type": "stream",
     "text": [
      "Total samples: 417390\n",
      "\n",
      " With CDR3b + pep:  401415\n",
      "Non-binding samples:  259171\n",
      "Binding samples:  142244\n",
      "\n",
      " With CDR3b + pep + MHC seq:  274540\n",
      "Non-binding samples:  174311\n",
      "Binding samples:  100229\n",
      "\n",
      " With CDR3b + pep + CDR3a seq:  65471\n",
      "Non-binding samples:  37061\n",
      "Binding samples:  28410\n",
      "\n",
      " With CDR3b + pep + CDR3a + MHC seq:  64681\n",
      "Non-binding samples:  36452\n",
      "Binding samples:  28229\n",
      "\n",
      " NaN MHC allele info:  119468\n",
      "Good MHC allele info:  297922\n",
      "\n",
      " NaN MHC sequences:  130041\n",
      "Good MHC sequences:  287349\n",
      "\n",
      " NaN CDR3 alpha sequences:  351754\n",
      "Good CDR3 alpha sequences:  65636\n"
     ]
    }
   ],
   "source": [
    "df = df[df[\"negative.source\"] != \"mira\"]\n",
    "df = df[df[\"negative.source\"] != \"iedb\"]\n",
    "df = df[df[\"negative.source\"] != \"nettcr-2.0\"]\n",
    "\n",
    "print_stats(df, mhc=\"seq\")\n",
    "\n",
    "print(\"\\n NaN MHC allele info: \", sum(df[\"mhc.a\"].isna()))\n",
    "print(\"Good MHC allele info: \", sum(~df[\"mhc.a\"].isna()))\n",
    "\n",
    "print(\"\\n NaN MHC sequences: \", sum(df[\"mhc.seq\"].isna()))\n",
    "print(\"Good MHC sequences: \", sum(~df[\"mhc.seq\"].isna()))\n",
    "\n",
    "print(\"\\n NaN CDR3 alpha sequences: \", sum(df[\"cdr3.alpha\"].isna()))\n",
    "print(\"Good CDR3 alpha sequences: \", sum(~df[\"cdr3.alpha\"].isna()))"
   ]
  },
  {
   "cell_type": "code",
   "execution_count": 62,
   "id": "6577cba4",
   "metadata": {},
   "outputs": [
    {
     "name": "stdout",
     "output_type": "stream",
     "text": [
      "Samples:  417390\n",
      "Dropping duplicated p+b+a+mhc:  417371\n",
      "Dropping duplicated p+b+a+mhc+label:  417371\n",
      "Dropping duplicated p+b+mhc:  404510\n",
      "Dropping duplicated p+b+mhc+label:  404510\n",
      "Dropping duplicated p+b+a:  414306\n",
      "Dropping duplicated p+b+a+label:  414306\n",
      "Dropping duplicated p+b:  401415\n",
      "Dropping duplicated p+b+label:  401415\n"
     ]
    }
   ],
   "source": [
    "check_duplicates(df, mhc=\"seq\")"
   ]
  },
  {
   "cell_type": "code",
   "execution_count": 63,
   "id": "2b8ba9a4",
   "metadata": {},
   "outputs": [],
   "source": [
    "# check no (pep, CDR3b) pairs with both neg and pos labels\n",
    "q = df[df.duplicated(subset=[\"antigen.epitope\", \"cdr3.beta\", ], keep=False)]\n",
    "p = q[q.label==1]\n",
    "n = q[q.label==0]\n",
    "p_b_inconsistent = pd.merge(p, n, on=[\"antigen.epitope\", \"cdr3.beta\"], how='inner')\n",
    "assert len(p_b_inconsistent) == 0"
   ]
  },
  {
   "cell_type": "code",
   "execution_count": 64,
   "id": "97e8f449",
   "metadata": {},
   "outputs": [],
   "source": [
    "# considering positive samples + randomized negative samples (i.e. excluding real \n",
    "# negative samples), we want check that all CDR3b sequences which appear\n",
    "# in the negative samples are also appearing in the positive ones\n",
    "def check_no_beta_only_in_neg(df):\n",
    "    # this check only concerns the positive + randomized negative samples\n",
    "    # we exclude the real negatives\n",
    "    t = df[df[\"negative.source\"] != \"mira\"]\n",
    "    t = t[t[\"negative.source\"] != \"iedb\"]\n",
    "    t = t[t[\"negative.source\"] != \"nettcr-2.0\"]\n",
    "\n",
    "    b_n = set(df_pep_b[df_pep_b.label==0][\"cdr3.beta\"].unique())\n",
    "    b_p = set(df_pep_b[df_pep_b.label==1][\"cdr3.beta\"].unique())\n",
    "    assert len(b_n - b_p) == 0\n",
    "\n",
    "df_pep_b = df[[\"antigen.epitope\", \"cdr3.beta\", \"label\", \"negative.source\"]].copy()\n",
    "check_no_beta_only_in_neg(df_pep_b)\n",
    "\n",
    "df_pep_b_mhc = df[[\"antigen.epitope\", \"cdr3.beta\", \"mhc.seq\", \"label\", \"negative.source\"]].dropna().copy()\n",
    "check_no_beta_only_in_neg(df_pep_b_mhc)\n",
    "\n",
    "df_pep_b_a = df[[\"antigen.epitope\", \"cdr3.beta\", \"cdr3.alpha\", \"label\", \"negative.source\"]].dropna().copy()\n",
    "check_no_beta_only_in_neg(df_pep_b_a)\n",
    "\n",
    "df_pep_b_a_mhc = df[[\"antigen.epitope\", \"cdr3.beta\", \"cdr3.alpha\", \"mhc.seq\", \"label\", \"negative.source\"]].dropna().copy()\n",
    "check_no_beta_only_in_neg(df_pep_b_a_mhc)"
   ]
  }
 ],
 "metadata": {
  "kernelspec": {
   "display_name": "Python 3",
   "language": "python",
   "name": "python3"
  },
  "language_info": {
   "codemirror_mode": {
    "name": "ipython",
    "version": 3
   },
   "file_extension": ".py",
   "mimetype": "text/x-python",
   "name": "python",
   "nbconvert_exporter": "python",
   "pygments_lexer": "ipython3",
   "version": "3.6.13"
  }
 },
 "nbformat": 4,
 "nbformat_minor": 5
}
