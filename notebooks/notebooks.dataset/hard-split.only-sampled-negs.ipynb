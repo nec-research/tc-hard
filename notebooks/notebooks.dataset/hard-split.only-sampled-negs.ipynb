{
 "cells": [
  {
   "cell_type": "code",
   "execution_count": 1,
   "id": "b641db0f",
   "metadata": {},
   "outputs": [],
   "source": [
    "import pandas as pd\n",
    "import numpy as np\n",
    "import random\n",
    "import os\n",
    "import operator\n",
    "\n",
    "import sys\n",
    "import logging\n",
    "logger = logging.getLogger()\n",
    "logger.addHandler(logging.StreamHandler(stream=sys.stdout))\n",
    "logger = logging.getLogger()\n",
    "logger.setLevel('INFO')\n",
    "\n",
    "from typing import Tuple, List"
   ]
  },
  {
   "cell_type": "code",
   "execution_count": 2,
   "id": "451289eb",
   "metadata": {},
   "outputs": [],
   "source": [
    "def set_random_seed(random_seed):\n",
    "    random.seed(random_seed)\n",
    "    np.random.seed(random_seed)"
   ]
  },
  {
   "cell_type": "code",
   "execution_count": 3,
   "id": "509beae4",
   "metadata": {},
   "outputs": [],
   "source": [
    "login = os.getlogin( )\n",
    "DATA_BASE = f\"/home/{login}/Git/tc-hard/tc-hard-data/tc-hard/\"\n",
    "RESULTS_BASE = f\"/home/{login}/Git/tc-hard/notebooks/notebooks.classification/results/\""
   ]
  },
  {
   "cell_type": "code",
   "execution_count": 4,
   "id": "217d762a",
   "metadata": {},
   "outputs": [],
   "source": [
    "def hard_split_df(\n",
    "        df: pd.DataFrame, target_col: str, min_ratio: float, random_state: float, low: int, high: int\n",
    ") -> Tuple[pd.DataFrame, pd.DataFrame, List[str]]:\n",
    "    \"\"\" Assume a target column, e.g. `peptide`.\n",
    "    Then:\n",
    "        1) Select random sample\n",
    "        2) All samples sharing the same value of that column\n",
    "        with the randomly selected sample are used for test\n",
    "        3)Repeat until test budget (defined by train/test ratio) is\n",
    "        filled.\n",
    "    \"\"\"\n",
    "    min_test_len = round(min_ratio * len(df))\n",
    "    test_len = 0\n",
    "    selected_target_val = []\n",
    "\n",
    "    train_df = df.copy()\n",
    "    test_df = pd.DataFrame()\n",
    "    \n",
    "    target_count_df = df.groupby([target_col]).size().reset_index(name='counts')\n",
    "    target_count_df = target_count_df[target_count_df['counts'] >= low]\n",
    "    target_count_df = target_count_df[target_count_df['counts'] <= high]\n",
    "    possible_target_val = list(target_count_df[target_col].unique())\n",
    "    max_target_len = len(possible_target_val)\n",
    "\n",
    "    while test_len < min_test_len:\n",
    "#         sample = train_df.sample(n=1, random_state=random_state)\n",
    "#         target_val = sample[target_col].values[0]\n",
    "        target_val = np.random.choice(possible_target_val)\n",
    "\n",
    "        if target_val not in selected_target_val:\n",
    "            to_test = train_df[train_df[target_col] == target_val]\n",
    "\n",
    "            train_df = train_df.drop(to_test.index)\n",
    "            test_df = test_df.append(to_test)\n",
    "            test_len = len(test_df)\n",
    "\n",
    "            selected_target_val.append(target_val)\n",
    "            possible_target_val.remove(target_val)\n",
    "\n",
    "        if len(selected_target_val) == max_target_len:\n",
    "            logger.info(f\"Possible targets left {possible_target_val}\")\n",
    "            raise Exception('No more values to sample from.')\n",
    "\n",
    "    logger.info(f\"Target {target_col} sequences: {selected_target_val}\")\n",
    "\n",
    "    return train_df, test_df, selected_target_val"
   ]
  },
  {
   "cell_type": "markdown",
   "id": "a777d35c",
   "metadata": {},
   "source": [
    "# Pep+CDR3b"
   ]
  },
  {
   "cell_type": "code",
   "execution_count": 30,
   "id": "df228576",
   "metadata": {},
   "outputs": [
    {
     "name": "stderr",
     "output_type": "stream",
     "text": [
      "/home/nle-fgrazioli/anaconda3/envs/vibtcr/lib/python3.6/site-packages/IPython/core/interactiveshell.py:3072: DtypeWarning: Columns (0,5,6,7) have mixed types.Specify dtype option on import or set low_memory=False.\n",
      "  interactivity=interactivity, compiler=compiler, result=result)\n"
     ]
    },
    {
     "name": "stdout",
     "output_type": "stream",
     "text": [
      "Samples (FULL):  528020\n",
      "Pos:  142244\n",
      "Neg:  385776\n",
      "Samples (ONLY RANDOMIZED NEGS):  401303\n",
      "Pos:  142244\n",
      "Neg:  259059\n",
      "Target antigen.epitope sequences: ['KRWIILGLNK', 'LITLATCELYHYQECV', 'RPHERNGFTVL', 'SELVIGAVIL', 'SEVGPEHSLAEY', 'CINGVCWTV', 'VPHVGEIPVAYRKVLL', 'FRCPRRFCF', 'KAYNVTQAF', 'YFPLQSYGF', 'STLPETAVVRR', 'YLNTLTLAV', 'YLQPRTFLL', 'EIYKRWII', 'RLRAEAQVK', 'SPFHPLADNKFAL', 'KPLEFGATSAAL', 'LSPRWYFYYL', 'YIFFASFYY', 'KLSYGIATV', 'GTSGSPIINR', 'YEDFLEYHDVRVVL', 'VLWAHGFEL', 'CRVLCCYVL', 'FVDGVPFVV', 'VLPPLLTDEMIAQYT', 'NRDVDTDFVNEFYAY', 'TTDPSFLGRY', 'RAKFKQLL', 'ITEEVGHTDLMAAY', 'FTISVTTEIL', 'GDAALALLLLDRLNQL']\n",
      "Actual test/train ratio (full):  0.1297179449326153\n",
      "Actual test/train ratio (only sampled negs):  0.17796779325689663\n",
      "Target antigen.epitope sequences: ['KAFSPEVIPMF', 'EAAGIGILTV', 'SNEKQEILGTVSWNL', 'CINGVCWTV', 'SYFIASFRLFA', 'APKEIIFLEGETL', 'VLHSYFTSDYYQLY', 'RSVASQSIIAYTMSL', 'FLPFFSNVTWFHAI', 'ALRKVPTDNYITTY', 'VLPFNDGVYFASTEK', 'TLIGDCATV', 'AYKTFPPTEPK', 'ILGLPTQTV', 'NPLLYDANYFLCW', 'GMEVTPSGTWLTY', 'FVDGVPFVV', 'YTMADLVYAL', 'FIAGLIAIV', 'KLNVGDYFV', 'KLSYGIATV', 'FPPTSFGPL', 'RNPANNAAIVL', 'VQELYSPIFLIV', 'FLPRVFSAV', 'ELAGIGILTV', 'CTFEYVSQPFLM', 'VLWAHGFEL']\n",
      "Actual test/train ratio (full):  0.13002015982331264\n",
      "Actual test/train ratio (only sampled negs):  0.17840017148780352\n",
      "Target antigen.epitope sequences: ['KLPDDFTGCV', 'FGEVFNATRFASVY', 'SNEKQEILGTVSWNL', 'FTISVTTEIL', 'LEPLVDLPI', 'VLPPLLTDEMIAQYT', 'TLIGDCATV', 'AVFDRKSDAK', 'KAFSPEVIPMF', 'MGYINVFAFPFTIYSL', 'TVLSFCAFAV', 'YFPLQSYGF', 'LSPRWYFYYL', 'SEVGPEHSLAEY', 'IQYIDIGNY', 'FRCPRRFCF', 'KRWIILGLNK', 'LITLATCELYHYQECV', 'TPRVTGGGAM', 'APHGVVFLHVTYV', 'LVVDFSQFSR', 'RNPANNAAIVL', 'LLLDDFVEII', 'KLSYGIATV']\n",
      "Actual test/train ratio (full):  0.13592017881460033\n",
      "Actual test/train ratio (only sampled negs):  0.18685858950319706\n",
      "Target antigen.epitope sequences: ['FVDGVPFVV', 'AMFWSVPTV', 'NPLLYDANYFLCW', 'SPFHPLADNKFAL', 'AELAKNVSLDNVL', 'FTISVTTEIL', 'FPPTSFGPL', 'TPINLVRDL', 'LEPLVDLPI', 'EAAGIGILTV', 'GNYTVSCLPFTI', 'KTAYSHLSTSK', 'GMEVTPSGTWLTY', 'LVVDFSQFSR', 'LLLDDFVEII', 'FLCLFLLPSLATV', 'ITEEVGHTDLMAAY', 'YLDAYNMMI', 'ILGLPTQTV', 'TVLSFCAFAV', 'APHGVVFLHVTYV', 'TPRVTGGGAM', 'STLPETAVVRR', 'ALSKGVHFV', 'SEHDYQIGGYTEKW']\n",
      "Actual test/train ratio (full):  0.12939415004545213\n",
      "Actual test/train ratio (only sampled negs):  0.17750463604140748\n",
      "Target antigen.epitope sequences: ['LEPLVDLPI', 'MPASWVMRI', 'SEVGPEHSLAEY', 'ALRKVPTDNYITTY', 'VTEHDTLLY', 'SPRWYFYYL', 'LLWNGPMAV', 'CRVLCCYVL', 'RFYKTLRAEQASQ', 'YYVGYLQPRTFLL', 'PKYVKQNTLKLAT', 'QLMCQPILLL', 'RNPANNAAIVL', 'KAYNVTQAF', 'MGYINVFAFPFTIYSL', 'LITLATCELYHYQECV', 'KLSYGIATV', 'RLRAEAQVK', 'APHGVVFLHVTYV', 'AELAKNVSLDNVL', 'SFHSLHLLF', 'GDAALALLLLDRLNQL', 'GMEVTPSGTWLTY', 'YEQYIKWPWYI', 'LITGRLQSLQTYV', 'STLPETAVVRR', 'VPHVGEIPVAYRKVLL']\n",
      "Actual test/train ratio (full):  0.13003708863820707\n",
      "Actual test/train ratio (only sampled negs):  0.1784243940541842\n"
     ]
    }
   ],
   "source": [
    "df = pd.read_csv(DATA_BASE+f\"ds.csv\")\n",
    "df.label = df.label.apply(lambda x: int(x))\n",
    "df = df.drop_duplicates(subset=[\"antigen.epitope\", \"cdr3.beta\", \"label\"], keep=\"first\").reset_index(drop=True)\n",
    "\n",
    "print(\"Samples (FULL): \", len(df))\n",
    "print(\"Pos: \", len(df[df.label==1]))\n",
    "print(\"Neg: \", len(df[df.label==0]))\n",
    "\n",
    "# dataframe with only randomized negative samples\n",
    "only_sampled_negs_df = df[df[\"negative.source\"] != \"mira\"]\n",
    "only_sampled_negs_df = only_sampled_negs_df[only_sampled_negs_df[\"negative.source\"] != \"iedb\"]\n",
    "only_sampled_negs_df = only_sampled_negs_df[only_sampled_negs_df[\"negative.source\"] != \"nettcr-2.0\"]    \n",
    "\n",
    "print(\"Samples (ONLY RANDOMIZED NEGS): \", len(only_sampled_negs_df))\n",
    "print(\"Pos: \", len(only_sampled_negs_df[only_sampled_negs_df.label==1]))\n",
    "print(\"Neg: \", len(only_sampled_negs_df[only_sampled_negs_df.label==0]))\n",
    "\n",
    "for i in range(5):\n",
    "    set_random_seed(i)\n",
    "    train_df, test_df, test_peps = hard_split_df(\n",
    "        only_sampled_negs_df, target_col=\"antigen.epitope\", min_ratio=0.15, random_state=i, low=500, high=10000\n",
    "    )\n",
    "    # training set considering also real negatives\n",
    "    train_df_full = df.drop(test_df.index)\n",
    "    train_df_full = train_df_full[~train_df_full[\"negative.source\"].isin(test_peps)]\n",
    "    for p in test_peps:\n",
    "        assert not p in train_df_full[\"negative.source\"].unique()\n",
    "\n",
    "    train_df.to_csv(DATA_BASE+f\"ds.hard-splits/pep+cdr3b/train/only-sampled-negs/train-{i}.csv\", index=False)\n",
    "    train_df_full.to_csv(DATA_BASE+f\"ds.hard-splits/pep+cdr3b/train/only-sampled-negs.full/train-{i}.csv\", index=False)\n",
    "    test_df.to_csv(DATA_BASE+f\"ds.hard-splits/pep+cdr3b/test/only-sampled-negs/test-{i}.csv\", index=False)\n",
    "    \n",
    "    print(\"Actual test/train ratio (full): \", len(test_df) / len(train_df_full))\n",
    "    print(\"Actual test/train ratio (only sampled negs): \", len(test_df) / len(train_df))"
   ]
  },
  {
   "cell_type": "code",
   "execution_count": 21,
   "id": "161a7932",
   "metadata": {},
   "outputs": [
    {
     "name": "stdout",
     "output_type": "stream",
     "text": [
      "Split 0 CINGVCWTV (186,385), CRVLCCYVL (435,859), EIYKRWII (180,359), FRCPRRFCF (266,529), FTISVTTEIL (198,395), FVDGVPFVV (2705,5093), GDAALALLLLDRLNQL (609,1191), GTSGSPIINR (173,345), ITEEVGHTDLMAAY (180,354), KAYNVTQAF (807,1579), KLSYGIATV (2458,4643), KPLEFGATSAAL (362,713), KRWIILGLNK (401,837), LITLATCELYHYQECV (251,499), LSPRWYFYYL (1751,3376), NRDVDTDFVNEFYAY (285,566), RAKFKQLL (996,3036), RLRAEAQVK (464,953), RPHERNGFTVL (207,414), SELVIGAVIL (900,1731), SEVGPEHSLAEY (270,534), SPFHPLADNKFAL (248,492), STLPETAVVRR (924,1802), TTDPSFLGRY (244,483), VLPPLLTDEMIAQYT (674,1325), VLWAHGFEL (731,1446), VPHVGEIPVAYRKVLL (528,1042), YEDFLEYHDVRVVL (874,1689), YFPLQSYGF (398,786), YIFFASFYY (353,703), YLNTLTLAV (432,860), YLQPRTFLL (687,1433), \n",
      "Split 1 ALRKVPTDNYITTY (346,682), APKEIIFLEGETL (1783,3356), AYKTFPPTEPK (337,663), CINGVCWTV (186,385), CTFEYVSQPFLM (196,389), EAAGIGILTV (505,1021), ELAGIGILTV (2074,4066), FIAGLIAIV (204,407), FLPFFSNVTWFHAI (299,592), FLPRVFSAV (867,1704), FPPTSFGPL (681,1348), FVDGVPFVV (2705,5093), GMEVTPSGTWLTY (995,1924), ILGLPTQTV (236,468), KAFSPEVIPMF (253,595), KLNVGDYFV (169,337), KLSYGIATV (2458,4643), NPLLYDANYFLCW (548,1069), RNPANNAAIVL (311,615), RSVASQSIIAYTMSL (469,917), SNEKQEILGTVSWNL (451,891), SYFIASFRLFA (219,437), TLIGDCATV (568,1127), VLHSYFTSDYYQLY (483,955), VLPFNDGVYFASTEK (1297,2487), VLWAHGFEL (731,1446), VQELYSPIFLIV (1063,2057), YTMADLVYAL (216,430), \n",
      "Split 2 APHGVVFLHVTYV (244,484), AVFDRKSDAK (1967,3604), FGEVFNATRFASVY (418,822), FRCPRRFCF (266,529), FTISVTTEIL (198,395), IQYIDIGNY (169,336), KAFSPEVIPMF (253,595), KLPDDFTGCV (1319,2568), KLSYGIATV (2458,4643), KRWIILGLNK (401,837), LEPLVDLPI (417,824), LITLATCELYHYQECV (251,499), LLLDDFVEII (968,1864), LSPRWYFYYL (1751,3376), LVVDFSQFSR (1871,3600), MGYINVFAFPFTIYSL (2918,5236), RNPANNAAIVL (311,615), SEVGPEHSLAEY (270,534), SNEKQEILGTVSWNL (451,891), TLIGDCATV (568,1127), TPRVTGGGAM (2557,4778), TVLSFCAFAV (613,1202), VLPPLLTDEMIAQYT (674,1325), YFPLQSYGF (398,786), \n",
      "Split 3 AELAKNVSLDNVL (1794,3382), ALSKGVHFV (170,340), AMFWSVPTV (182,363), APHGVVFLHVTYV (244,484), EAAGIGILTV (505,1021), FLCLFLLPSLATV (244,483), FPPTSFGPL (681,1348), FTISVTTEIL (198,395), FVDGVPFVV (2705,5093), GMEVTPSGTWLTY (995,1924), GNYTVSCLPFTI (176,351), ILGLPTQTV (236,468), ITEEVGHTDLMAAY (180,354), KTAYSHLSTSK (474,936), LEPLVDLPI (417,824), LLLDDFVEII (968,1864), LVVDFSQFSR (1871,3600), NPLLYDANYFLCW (548,1069), SEHDYQIGGYTEKW (3424,6114), SPFHPLADNKFAL (248,492), STLPETAVVRR (924,1802), TPINLVRDL (266,528), TPRVTGGGAM (2557,4778), TVLSFCAFAV (613,1202), YLDAYNMMI (221,439), \n",
      "Split 4 AELAKNVSLDNVL (1794,3382), ALRKVPTDNYITTY (346,682), APHGVVFLHVTYV (244,484), CRVLCCYVL (435,859), GDAALALLLLDRLNQL (609,1191), GMEVTPSGTWLTY (995,1924), KAYNVTQAF (807,1579), KLSYGIATV (2458,4643), LEPLVDLPI (417,824), LITGRLQSLQTYV (261,518), LITLATCELYHYQECV (251,499), LLWNGPMAV (2559,4939), MGYINVFAFPFTIYSL (2918,5236), MPASWVMRI (777,1522), PKYVKQNTLKLAT (412,1316), QLMCQPILLL (980,1912), RFYKTLRAEQASQ (282,569), RLRAEAQVK (464,953), RNPANNAAIVL (311,615), SEVGPEHSLAEY (270,534), SFHSLHLLF (186,371), SPRWYFYYL (214,425), STLPETAVVRR (924,1802), VPHVGEIPVAYRKVLL (528,1042), VTEHDTLLY (275,543), YEQYIKWPWYI (537,1057), YYVGYLQPRTFLL (365,721), \n"
     ]
    }
   ],
   "source": [
    "for i in range(5):\n",
    "    to_print = ''\n",
    "    df = pd.read_csv(DATA_BASE+f\"ds.hard-splits/pep+cdr3b/test/only-sampled-negs/test-{i}.csv\")\n",
    "    peps = sorted(df['antigen.epitope'].unique())\n",
    "    for p in peps:\n",
    "        temp_df = df[df['antigen.epitope']==p]\n",
    "        pos = len(temp_df[temp_df.label == 1])\n",
    "        neg = len(temp_df[temp_df.label == 0])\n",
    "        to_print += p + f' ({pos},{neg}), '\n",
    "    print(f\"Split {i}\", to_print)\n"
   ]
  },
  {
   "cell_type": "markdown",
   "id": "3b61c41d",
   "metadata": {},
   "source": [
    "# Pep+CDR3b+CDR3a+MHC"
   ]
  },
  {
   "cell_type": "code",
   "execution_count": 34,
   "id": "0dcca729",
   "metadata": {},
   "outputs": [
    {
     "name": "stderr",
     "output_type": "stream",
     "text": [
      "/home/nle-fgrazioli/anaconda3/envs/vibtcr/lib/python3.6/site-packages/IPython/core/interactiveshell.py:3072: DtypeWarning: Columns (0,5,6,7) have mixed types.Specify dtype option on import or set low_memory=False.\n",
      "  interactivity=interactivity, compiler=compiler, result=result)\n"
     ]
    },
    {
     "name": "stdout",
     "output_type": "stream",
     "text": [
      "Samples (FULL):  110266\n",
      "Pos:  28229\n",
      "Neg:  82037\n",
      "Samples (ONLY RANDOMIZED NEGS):  64681\n",
      "Pos:  28229\n",
      "Neg:  36452\n",
      "Target antigen.epitope sequences: ['AVFDRKSDAK', 'DATYQRTRALVR', 'EAAGIGILTV', 'FLRGRAYGL', 'LLWNGPMAV', 'NLVPMVATV', 'PKYVKQNTLKLAT', 'FEDLRVSSF', 'RPRGEVRFL', 'RTLNAWVKV', 'IVTDFSVIK']\n",
      "Actual test/train ratio (full):  0.11402303495655688\n",
      "Actual test/train ratio (only sampled negs):  0.21136810562786779\n",
      "Target antigen.epitope sequences: ['VLFGLGFAI', 'FLRGRAYGL', 'FEDLRVLSF', 'FLASKIGRLV', 'FTSDYYQLY', 'EAAGIGILTV', 'KLVALGINAV', 'AVFDRKSDAK', 'LLWNGPMAV', 'CINGVCWTV', 'KLSALGINAV', 'FLYALALLL', 'LTDEMIAQY', 'YVLDHLIVV', 'FLCMKALLL', 'VVMSWAPPV', 'RLRAEAQVK']\n",
      "Actual test/train ratio (full):  0.10933821606068532\n",
      "Actual test/train ratio (only sampled negs):  0.2019586345306896\n",
      "Target antigen.epitope sequences: ['YLQPRTFLL', 'GLCTLVAML', 'FEDLRVLSF', 'LTDEMIAQY', 'KLVALGINAV', 'FLRGRAYGL', 'FEDLRLLSF', 'YVLDHLIVV', 'VLFGLGFAI', 'FTSDYYQLY', 'NYNYLYRLF', 'KMVAVFYTT', 'SPRWYFYYL', 'PKYVKQNTLKLAT', 'RAKFKQLL', 'EAAGIGILTV', 'FLASKIGRLV', 'CTELKLSDY', 'FLCMKALLL', 'ELAGIGILTV']\n",
      "Actual test/train ratio (full):  0.10369747562708946\n",
      "Actual test/train ratio (only sampled negs):  0.19071813847315033\n",
      "Target antigen.epitope sequences: ['LTDEMIAQY', 'CTELKLSDY', 'FEDLRVSSF', 'AVFDRKSDAK', 'NLNCCSVPV', 'LLFGYPVYV', 'FLYALALLL', 'FTSDYYQLY', 'PKYVKQNTLKLAT', 'YVLDHLIVV', 'NYNYLYRLF', 'IVTDFSVIK', 'YLQPRTFLL']\n",
      "Actual test/train ratio (full):  0.09690126834120866\n",
      "Actual test/train ratio (only sampled negs):  0.17730251183108847\n",
      "Target antigen.epitope sequences: ['EAAGIGILTV', 'AYAQKIFKI', 'NLNCCSVPV', 'FLASKIGRLV', 'FLRGRAYGL', 'SPRWYFYYL', 'DATYQRTRALVR', 'AVFDRKSDAK', 'NYNYLYRLF', 'PKYVKQNTLKLAT', 'GLCTLVAML', 'FLCMKALLL', 'YVLDHLIVV', 'FLYALALLL', 'VLFGLGFAI', 'ELAGIGILTV']\n",
      "Actual test/train ratio (full):  0.10281439401516212\n",
      "Actual test/train ratio (only sampled negs):  0.1889671145750997\n"
     ]
    }
   ],
   "source": [
    "df = pd.read_csv(DATA_BASE+f\"ds.csv\")\n",
    "df.label = df.label.apply(lambda x: int(x))\n",
    "df = df.drop_duplicates(subset=[\"antigen.epitope\", \"cdr3.beta\", \"cdr3.alpha\", \"mhc.seq\", \"label\"], keep=\"first\")\n",
    "df = df.dropna(subset=[\"antigen.epitope\", \"cdr3.beta\", \"cdr3.alpha\", \"mhc.seq\", \"label\"]).reset_index(drop=True)\n",
    "\n",
    "print(\"Samples (FULL): \", len(df))\n",
    "print(\"Pos: \", len(df[df.label==1]))\n",
    "print(\"Neg: \", len(df[df.label==0]))\n",
    "\n",
    "# dataframe with only randomized negative samples\n",
    "only_sampled_negs_df = df[df[\"negative.source\"] != \"mira\"]\n",
    "only_sampled_negs_df = only_sampled_negs_df[only_sampled_negs_df[\"negative.source\"] != \"iedb\"]\n",
    "only_sampled_negs_df = only_sampled_negs_df[only_sampled_negs_df[\"negative.source\"] != \"nettcr-2.0\"]    \n",
    "\n",
    "print(\"Samples (ONLY RANDOMIZED NEGS): \", len(only_sampled_negs_df))\n",
    "print(\"Pos: \", len(only_sampled_negs_df[only_sampled_negs_df.label==1]))\n",
    "print(\"Neg: \", len(only_sampled_negs_df[only_sampled_negs_df.label==0]))\n",
    "\n",
    "for i in range(5):\n",
    "    set_random_seed(i)\n",
    "    train_df, test_df, test_peps = hard_split_df(\n",
    "        only_sampled_negs_df, target_col=\"antigen.epitope\", min_ratio=0.15, random_state=i, low=100, high=5000\n",
    "    )\n",
    "    # training set considering also real negatives\n",
    "    train_df_full = df.drop(test_df.index)\n",
    "    train_df_full = train_df_full[~train_df_full[\"negative.source\"].isin(test_peps)]\n",
    "    for p in test_peps:\n",
    "        assert not p in train_df_full[\"negative.source\"].unique()\n",
    "\n",
    "    train_df.to_csv(DATA_BASE+f\"ds.hard-splits/pep+cdr3b+cdr3a+MHC/train/only-sampled-negs/train-{i}.csv\", index=False)\n",
    "    train_df_full.to_csv(DATA_BASE+f\"ds.hard-splits/pep+cdr3b+cdr3a+MHC/train/only-sampled-negs.full/train-{i}.csv\", index=False)\n",
    "    test_df.to_csv(DATA_BASE+f\"ds.hard-splits/pep+cdr3b+cdr3a+MHC/test/only-sampled-negs/test-{i}.csv\", index=False)\n",
    "    \n",
    "    print(\"Actual test/train ratio (full): \", len(test_df) / len(train_df_full))\n",
    "    print(\"Actual test/train ratio (only sampled negs): \", len(test_df) / len(train_df))"
   ]
  },
  {
   "cell_type": "code",
   "execution_count": 22,
   "id": "d3f34814",
   "metadata": {},
   "outputs": [
    {
     "name": "stdout",
     "output_type": "stream",
     "text": [
      "Split 0 AVFDRKSDAK (1852,3009), DATYQRTRALVR (100,200), EAAGIGILTV (42,84), FEDLRVSSF (34,68), FLRGRAYGL (43,86), IVTDFSVIK (747,1332), LLWNGPMAV (671,1306), NLVPMVATV (348,677), PKYVKQNTLKLAT (62,124), RPRGEVRFL (116,232), RTLNAWVKV (51,102), \n",
      "Split 1 AVFDRKSDAK (1852,3009), CINGVCWTV (84,166), EAAGIGILTV (42,84), FEDLRVLSF (45,90), FLASKIGRLV (35,70), FLCMKALLL (136,270), FLRGRAYGL (43,86), FLYALALLL (39,78), FTSDYYQLY (38,76), KLSALGINAV (45,90), KLVALGINAV (66,132), LLWNGPMAV (671,1306), LTDEMIAQY (131,261), RLRAEAQVK (442,832), VLFGLGFAI (35,69), VVMSWAPPV (41,82), YVLDHLIVV (141,281), \n",
      "Split 2 CTELKLSDY (61,122), EAAGIGILTV (42,84), ELAGIGILTV (530,1028), FEDLRLLSF (43,86), FEDLRVLSF (45,90), FLASKIGRLV (35,70), FLCMKALLL (136,270), FLRGRAYGL (43,86), FTSDYYQLY (38,76), GLCTLVAML (399,761), KLVALGINAV (66,132), KMVAVFYTT (42,83), LTDEMIAQY (131,261), NYNYLYRLF (35,70), PKYVKQNTLKLAT (62,124), RAKFKQLL (1268,2297), SPRWYFYYL (142,281), VLFGLGFAI (35,69), YLQPRTFLL (267,528), YVLDHLIVV (141,281), \n",
      "Split 3 AVFDRKSDAK (1852,3009), CTELKLSDY (61,122), FEDLRVSSF (34,68), FLYALALLL (39,78), FTSDYYQLY (38,76), IVTDFSVIK (747,1332), LLFGYPVYV (74,149), LTDEMIAQY (131,261), NLNCCSVPV (54,108), NYNYLYRLF (35,70), PKYVKQNTLKLAT (62,124), YLQPRTFLL (267,528), YVLDHLIVV (141,281), \n",
      "Split 4 AVFDRKSDAK (1852,3009), AYAQKIFKI (39,77), DATYQRTRALVR (100,200), EAAGIGILTV (42,84), ELAGIGILTV (530,1028), FLASKIGRLV (35,70), FLCMKALLL (136,270), FLRGRAYGL (43,86), FLYALALLL (39,78), GLCTLVAML (399,761), NLNCCSVPV (54,108), NYNYLYRLF (35,70), PKYVKQNTLKLAT (62,124), SPRWYFYYL (142,281), VLFGLGFAI (35,69), YVLDHLIVV (141,281), \n"
     ]
    }
   ],
   "source": [
    "for i in range(5):\n",
    "    to_print = ''\n",
    "    df = pd.read_csv(DATA_BASE+f\"ds.hard-splits/pep+cdr3b+cdr3a+MHC/test/only-sampled-negs/test-{i}.csv\")\n",
    "    peps = sorted(df['antigen.epitope'].unique())\n",
    "    for p in peps:\n",
    "        temp_df = df[df['antigen.epitope']==p]\n",
    "        pos = len(temp_df[temp_df.label == 1])\n",
    "        neg = len(temp_df[temp_df.label == 0])\n",
    "        to_print += p + f' ({pos},{neg}), '\n",
    "    print(f\"Split {i}\", to_print)\n"
   ]
  }
 ],
 "metadata": {
  "kernelspec": {
   "display_name": "Python 3",
   "language": "python",
   "name": "python3"
  },
  "language_info": {
   "codemirror_mode": {
    "name": "ipython",
    "version": 3
   },
   "file_extension": ".py",
   "mimetype": "text/x-python",
   "name": "python",
   "nbconvert_exporter": "python",
   "pygments_lexer": "ipython3",
   "version": "3.6.13"
  }
 },
 "nbformat": 4,
 "nbformat_minor": 5
}
