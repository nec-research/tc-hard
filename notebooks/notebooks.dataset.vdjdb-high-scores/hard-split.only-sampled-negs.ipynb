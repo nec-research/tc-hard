{
 "cells": [
  {
   "cell_type": "code",
   "execution_count": 1,
   "id": "b641db0f",
   "metadata": {},
   "outputs": [],
   "source": [
    "import pandas as pd\n",
    "import numpy as np\n",
    "import random\n",
    "import os\n",
    "import operator\n",
    "\n",
    "import sys\n",
    "import logging\n",
    "logger = logging.getLogger()\n",
    "logger.addHandler(logging.StreamHandler(stream=sys.stdout))\n",
    "logger = logging.getLogger()\n",
    "logger.setLevel('INFO')\n",
    "\n",
    "from typing import Tuple, List"
   ]
  },
  {
   "cell_type": "code",
   "execution_count": 2,
   "id": "451289eb",
   "metadata": {},
   "outputs": [],
   "source": [
    "def set_random_seed(random_seed):\n",
    "    random.seed(random_seed)\n",
    "    np.random.seed(random_seed)"
   ]
  },
  {
   "cell_type": "code",
   "execution_count": 3,
   "id": "509beae4",
   "metadata": {},
   "outputs": [],
   "source": [
    "login = os.getlogin( )\n",
    "DATA_BASE = f'/mnt/container-nle-tcr/tc-hard-data/tc-hard/'\n",
    "RESULTS_BASE = f\"/home/{login}/Git/tc-hard/notebooks/notebooks.classification/results/\""
   ]
  },
  {
   "cell_type": "code",
   "execution_count": 4,
   "id": "217d762a",
   "metadata": {},
   "outputs": [],
   "source": [
    "def hard_split_df(\n",
    "        df: pd.DataFrame, target_col: str, min_ratio: float, random_state: float, low: int, high: int\n",
    ") -> Tuple[pd.DataFrame, pd.DataFrame, List[str]]:\n",
    "    \"\"\" Assume a target column, e.g. `peptide`.\n",
    "    Then:\n",
    "        1) Select random sample\n",
    "        2) All samples sharing the same value of that column\n",
    "        with the randomly selected sample are used for test\n",
    "        3)Repeat until test budget (defined by train/test ratio) is\n",
    "        filled.\n",
    "    \"\"\"\n",
    "    min_test_len = round(min_ratio * len(df))\n",
    "    test_len = 0\n",
    "    selected_target_val = []\n",
    "\n",
    "    train_df = df.copy()\n",
    "    test_df = pd.DataFrame()\n",
    "    \n",
    "    target_count_df = df.groupby([target_col]).size().reset_index(name='counts')\n",
    "    target_count_df = target_count_df[target_count_df['counts'] >= low]\n",
    "    target_count_df = target_count_df[target_count_df['counts'] <= high]\n",
    "    possible_target_val = list(target_count_df[target_col].unique())\n",
    "    max_target_len = len(possible_target_val)\n",
    "\n",
    "    print(f\"Tot pep: {len(df[target_col].unique())}, Possible test pep: {len(target_count_df[target_col].unique())}\")\n",
    "\n",
    "    while test_len < min_test_len:\n",
    "#         sample = train_df.sample(n=1, random_state=random_state)\n",
    "#         target_val = sample[target_col].values[0]\n",
    "        target_val = np.random.choice(possible_target_val)\n",
    "\n",
    "        if target_val not in selected_target_val:\n",
    "            to_test = train_df[train_df[target_col] == target_val]\n",
    "\n",
    "            train_df = train_df.drop(to_test.index)\n",
    "            test_df = test_df.append(to_test)\n",
    "            test_len = len(test_df)\n",
    "\n",
    "            selected_target_val.append(target_val)\n",
    "            possible_target_val.remove(target_val)\n",
    "\n",
    "        if len(selected_target_val) == max_target_len:\n",
    "            logger.info(f\"Possible targets left {possible_target_val}\")\n",
    "            raise Exception('No more values to sample from.')\n",
    "\n",
    "    logger.info(f\"Target {target_col} sequences: {selected_target_val}\")\n",
    "\n",
    "    return train_df, test_df, selected_target_val"
   ]
  },
  {
   "cell_type": "markdown",
   "id": "a777d35c",
   "metadata": {},
   "source": [
    "# Pep+CDR3b"
   ]
  },
  {
   "cell_type": "code",
   "execution_count": 9,
   "id": "df228576",
   "metadata": {},
   "outputs": [
    {
     "name": "stdout",
     "output_type": "stream",
     "text": [
      "Samples (FULL):  10134\n",
      "Pos:  3453\n",
      "Neg:  6681\n",
      "Tot pep: 266, Possible test pep: 81\n",
      "Target antigen.epitope sequences: ['LPRRSGAAGA', 'NLSALGIFST', 'SPRWYFYYL', 'TPGPGVRYPL', 'VAANIVLTV', 'CRVLCCYVL', 'FPTKDVAL', 'KLSALGINAV', 'YLEPGPVTA', 'EAAGIGILTV', 'SLLMWITQV', 'VTEHDTLLY', 'LPPIVAKEI', 'QYDPVAALF', 'LLWNGPMAV', 'GTSGSPIIDK', 'CTELKLSDY', 'FYGKTILWF', 'RPPIFIRRL', 'FLKETGGL', 'TAFTIPSI', 'APRGPHGGAASGL', 'FLRGRAYGL', 'RPHERNGFTVL', 'AAFKRSCLK', 'GPGMKARVL', 'QIKVRVDMV', 'ISPRTLNAW', 'VVMSWAPPV', 'YSEHPTFTSQY', 'MLNIPSINV', 'HPKVSSEVHI', 'HPVGEADYFEY', 'FPRPWLHGL']\n",
      "Actual test/train ratio (full):  0.18043098427489807\n",
      "Actual test/train ratio (only sampled negs):  0.18043098427489807\n",
      "Tot pep: 266, Possible test pep: 81\n",
      "Target antigen.epitope sequences: ['KASEKIFYV', 'DATYQRTRALVR', 'VSFIEFVGW', 'CRVLCCYVL', 'YPLHEQHGM', 'APRGPHGGAASGL', 'TLNAWVKVV', 'FLKETGGL', 'AAGIGILTV', 'YSEHPTFTSQY', 'CLGGLLTMV', 'HPVGEADYFEY', 'RLRPGGKKR', 'GLNKIVRMY', 'FYGKTILWF', 'FLGKIWPSHK', 'KRWIIMGLNK', 'LLWNGPMAV', 'FPRPWLHGL', 'SLYNTVATL', 'ARMILMTHF', 'ISPRTLNAW', 'IVTDFSVIK', 'RLRPGGRKR', 'TPGPGVRYPL', 'YLEPGPVTA', 'NLNCCSVPV', 'QASQEVKNW', 'ILKEPVHGV', 'FPTKDVAL', 'SLLMWITQV', 'EPLPQGQLTAY', 'EAAGIGILTV', 'LPPIVAKEI']\n",
      "Actual test/train ratio (full):  0.17960656500989408\n",
      "Actual test/train ratio (only sampled negs):  0.17960656500989408\n",
      "Tot pep: 266, Possible test pep: 81\n",
      "Target antigen.epitope sequences: ['LLLGIGILV', 'EPLPQGQLTAY', 'VSFIEFVGW', 'FRCPRRFCF', 'MTLHGFMMY', 'YSEHPTFTSQY', 'AVFDRKSDAK', 'KASEKIFYV', 'RLARLALVL', 'QYDPVAALF', 'VAANIVLTV', 'ILKEPVHGV', 'FPTKDVAL', 'LPRRSGAAGA', 'NLSALGIFST', 'ALYGFVPVL', 'QYIKWPWYI', 'RLRPGGKKK', 'SPRWYFYYL', 'QASQEVKNW', 'NYNYLYRLF', 'RLRPGGRKR', 'LLWNGPMAV', 'ALTPVVVTL', 'CLGGLLTMV', 'HPVGEADYFEY', 'ARMILMTHF', 'TPGPGVRYPL', 'CVNGSCFTV', 'NLNCCSVPV', 'GTSGSPIIDK', 'QIKVRVKMV', 'ALDPHSGHFV', 'GLNKIVRMY', 'YPLHEQHGM', 'FLRGRAYGL', 'CTELKLSDY', 'QIKVRVDMV', 'HMTEVVRHC', 'VVMSWAPPV', 'FLKEMGGL', 'HSKKKCDEL', 'FLKEQGGL']\n",
      "Actual test/train ratio (full):  0.17700348432055749\n",
      "Actual test/train ratio (only sampled negs):  0.17700348432055749\n",
      "Tot pep: 266, Possible test pep: 81\n",
      "Target antigen.epitope sequences: ['FYGKTILWF', 'ALTPVVVTL', 'RLRPGGKKR', 'VTEHDTLLY', 'AAFKRSCLK', 'FRCPRRFCF', 'FPRPWLHGL', 'MTLHGFMMY', 'DATYQRTRALVR', 'GPGMKARVL', 'MLNIPSINV', 'GLNKIVRMY', 'QYIKWPWYI', 'NYNYLYRLF', 'FLKEMGGL', 'ISPRTLNAW', 'HPVGEADYFEY', 'ALYGFVPVL', 'APRGPHGGAASGL', 'YPLHEQHGM', 'ALDPHSGHFV', 'TPGPGVRYPL', 'LLLGIGILV', 'CTELKLSDY', 'RPHERNGFTV', 'TLNAWVKVV', 'QIKVRVKMV', 'NLNCCSVPV', 'SPRWYFYYL', 'KRWIIMGLNK', 'ELRRKMMYM', 'VLEETSVML', 'RLRPGGKKK', 'HMTEVVRHC', 'SLYNTVATL', 'KASEKIFYV', 'RLQSLQTYV', 'LLWNGPMAV', 'GTSGSPIIDK', 'RLRPGGRKR']\n",
      "Actual test/train ratio (full):  0.17864619678995114\n",
      "Actual test/train ratio (only sampled negs):  0.17864619678995114\n",
      "Tot pep: 266, Possible test pep: 81\n",
      "Target antigen.epitope sequences: ['MTLHGFMMY', 'RLQSLQTYV', 'VAANIVLTV', 'AAGIGILTV', 'VVMSWAPPV', 'QIKVRVKMV', 'CTELKLSDY', 'RPPIFIRRL', 'RMFPNAPYL', 'RPHERNGFTV', 'SLYNTVATL', 'KLSALGINAV', 'RLARLALVL', 'NLSALGIFST', 'LLWNGPMAV', 'SLLMWITQV', 'ALYGFVPVL', 'AAFKRSCLK', 'VLEETSVML', 'GADGVGKSAL', 'GLNKIVRMY', 'EAAGIGILTV', 'NYNYLYRLF', 'QASQEVKNW', 'YSEHPTFTSQY', 'APRGPHGGAASGL', 'TLNAWVKVV', 'YPLHEQHGM', 'KRWIIMGLNK', 'ELRRKMMYM', 'VYALIAGATL', 'ARMILMTHF', 'IIKDYGKQM', 'NLNCCSVPV', 'TAFTIPSI', 'VQIISCQY', 'QYDPVAALF', 'QIKVRVDMV', 'LPEPLPQGQLTAY', 'CLGGLLTMV', 'FYGKTILWF', 'SPRWYFYYL', 'RLRPGGKKR', 'HMTEVVRHC', 'HPKVSSEVHI', 'LPRRSGAAGA', 'FLKEQGGL']\n",
      "Actual test/train ratio (full):  0.17659352142110762\n",
      "Actual test/train ratio (only sampled negs):  0.17659352142110762\n"
     ]
    }
   ],
   "source": [
    "df = pd.read_csv(DATA_BASE+f\"ds.vdjdb-high-scores.csv\")\n",
    "df.label = df.label.apply(lambda x: int(x))\n",
    "df = df.drop_duplicates(subset=[\"antigen.epitope\", \"cdr3.beta\", \"label\"], keep=\"first\").reset_index(drop=True)\n",
    "\n",
    "print(\"Samples (FULL): \", len(df))\n",
    "print(\"Pos: \", len(df[df.label==1]))\n",
    "print(\"Neg: \", len(df[df.label==0]))\n",
    "\n",
    "for i in range(5):\n",
    "    set_random_seed(i)\n",
    "    train_df, test_df, test_peps = hard_split_df(\n",
    "        only_sampled_negs_df, target_col=\"antigen.epitope\", min_ratio=0.15, random_state=i, low=10, high=100\n",
    "    )\n",
    "    # training set considering also real negatives\n",
    "    train_df_full = df.drop(test_df.index)\n",
    "    train_df_full = train_df_full[~train_df_full[\"negative.source\"].isin(test_peps)]\n",
    "    for p in test_peps:\n",
    "        assert not p in train_df_full[\"negative.source\"].unique()\n",
    "\n",
    "    train_df.to_csv(DATA_BASE+f\"ds.vdjdb-high-scores.hard-splits/pep+cdr3b/train/only-sampled-negs/train-{i}.csv\", index=False)\n",
    "    train_df_full.to_csv(DATA_BASE+f\"ds.vdjdb-high-scores.hard-splits/pep+cdr3b/train/only-sampled-negs.full/train-{i}.csv\", index=False)\n",
    "    test_df.to_csv(DATA_BASE+f\"ds.vdjdb-high-scores.hard-splits/pep+cdr3b/test/only-sampled-negs/test-{i}.csv\", index=False)\n",
    "    \n",
    "    print(\"Actual test/train ratio (full): \", len(test_df) / len(train_df_full))\n",
    "    print(\"Actual test/train ratio (only sampled negs): \", len(test_df) / len(train_df))"
   ]
  },
  {
   "cell_type": "code",
   "execution_count": 13,
   "id": "161a7932",
   "metadata": {},
   "outputs": [
    {
     "name": "stdout",
     "output_type": "stream",
     "text": [
      "Split 0 AAFKRSCLK (5,10), APRGPHGGAASGL (5,10), CRVLCCYVL (31,60), CTELKLSDY (4,8), EAAGIGILTV (27,52), FLKETGGL (4,7), FLRGRAYGL (15,33), FPRPWLHGL (30,59), FPTKDVAL (10,20), FYGKTILWF (4,8), GPGMKARVL (4,8), GTSGSPIIDK (19,38), HPKVSSEVHI (25,48), HPVGEADYFEY (24,59), ISPRTLNAW (22,43), KLSALGINAV (5,10), LLWNGPMAV (18,36), LPPIVAKEI (20,40), LPRRSGAAGA (7,14), MLNIPSINV (27,51), NLSALGIFST (18,36), QIKVRVDMV (7,14), QYDPVAALF (11,22), RPHERNGFTVL (22,46), RPPIFIRRL (28,55), SLLMWITQV (5,10), SPRWYFYYL (14,30), TAFTIPSI (13,34), TPGPGVRYPL (33,65), VAANIVLTV (14,27), VTEHDTLLY (10,20), VVMSWAPPV (8,15), YLEPGPVTA (4,8), YSEHPTFTSQY (20,40), \n",
      "Split 1 AAGIGILTV (5,10), APRGPHGGAASGL (5,10), ARMILMTHF (14,26), CLGGLLTMV (4,8), CRVLCCYVL (31,60), DATYQRTRALVR (27,59), EAAGIGILTV (27,52), EPLPQGQLTAY (28,69), FLGKIWPSHK (8,16), FLKETGGL (4,7), FPRPWLHGL (30,59), FPTKDVAL (10,20), FYGKTILWF (4,8), GLNKIVRMY (13,26), HPVGEADYFEY (24,59), ILKEPVHGV (7,14), ISPRTLNAW (22,43), IVTDFSVIK (21,41), KASEKIFYV (4,8), KRWIIMGLNK (31,60), LLWNGPMAV (18,36), LPPIVAKEI (20,40), NLNCCSVPV (4,10), QASQEVKNW (8,16), RLRPGGKKR (13,26), RLRPGGRKR (6,12), SLLMWITQV (5,10), SLYNTVATL (32,63), TLNAWVKVV (4,8), TPGPGVRYPL (33,65), VSFIEFVGW (14,27), YLEPGPVTA (4,8), YPLHEQHGM (9,18), YSEHPTFTSQY (20,40), \n",
      "Split 2 ALDPHSGHFV (4,8), ALTPVVVTL (6,12), ALYGFVPVL (6,12), ARMILMTHF (14,26), AVFDRKSDAK (9,18), CLGGLLTMV (4,8), CTELKLSDY (4,8), CVNGSCFTV (14,25), EPLPQGQLTAY (28,69), FLKEMGGL (4,8), FLKEQGGL (4,8), FLRGRAYGL (15,33), FPTKDVAL (10,20), FRCPRRFCF (10,20), GLNKIVRMY (13,26), GTSGSPIIDK (19,38), HMTEVVRHC (4,10), HPVGEADYFEY (24,59), HSKKKCDEL (30,59), ILKEPVHGV (7,14), KASEKIFYV (4,8), LLLGIGILV (9,17), LLWNGPMAV (18,36), LPRRSGAAGA (7,14), MTLHGFMMY (4,8), NLNCCSVPV (4,10), NLSALGIFST (18,36), NYNYLYRLF (13,26), QASQEVKNW (8,16), QIKVRVDMV (7,14), QIKVRVKMV (11,22), QYDPVAALF (11,22), QYIKWPWYI (18,21), RLARLALVL (7,14), RLRPGGKKK (20,39), RLRPGGRKR (6,12), SPRWYFYYL (14,30), TPGPGVRYPL (33,65), VAANIVLTV (14,27), VSFIEFVGW (14,27), VVMSWAPPV (8,15), YPLHEQHGM (9,18), YSEHPTFTSQY (20,40), \n",
      "Split 3 AAFKRSCLK (5,10), ALDPHSGHFV (4,8), ALTPVVVTL (6,12), ALYGFVPVL (6,12), APRGPHGGAASGL (5,10), CTELKLSDY (4,8), DATYQRTRALVR (27,59), ELRRKMMYM (4,8), FLKEMGGL (4,8), FPRPWLHGL (30,59), FRCPRRFCF (10,20), FYGKTILWF (4,8), GLNKIVRMY (13,26), GPGMKARVL (4,8), GTSGSPIIDK (19,38), HMTEVVRHC (4,10), HPVGEADYFEY (24,59), ISPRTLNAW (22,43), KASEKIFYV (4,8), KRWIIMGLNK (31,60), LLLGIGILV (9,17), LLWNGPMAV (18,36), MLNIPSINV (27,51), MTLHGFMMY (4,8), NLNCCSVPV (4,10), NYNYLYRLF (13,26), QIKVRVKMV (11,22), QYIKWPWYI (18,21), RLQSLQTYV (21,41), RLRPGGKKK (20,39), RLRPGGKKR (13,26), RLRPGGRKR (6,12), RPHERNGFTV (4,7), SLYNTVATL (32,63), SPRWYFYYL (14,30), TLNAWVKVV (4,8), TPGPGVRYPL (33,65), VLEETSVML (14,28), VTEHDTLLY (10,20), YPLHEQHGM (9,18), \n",
      "Split 4 AAFKRSCLK (5,10), AAGIGILTV (5,10), ALYGFVPVL (6,12), APRGPHGGAASGL (5,10), ARMILMTHF (14,26), CLGGLLTMV (4,8), CTELKLSDY (4,8), EAAGIGILTV (27,52), ELRRKMMYM (4,8), FLKEQGGL (4,8), FYGKTILWF (4,8), GADGVGKSAL (5,9), GLNKIVRMY (13,26), HMTEVVRHC (4,10), HPKVSSEVHI (25,48), IIKDYGKQM (18,35), KLSALGINAV (5,10), KRWIIMGLNK (31,60), LLWNGPMAV (18,36), LPEPLPQGQLTAY (5,14), LPRRSGAAGA (7,14), MTLHGFMMY (4,8), NLNCCSVPV (4,10), NLSALGIFST (18,36), NYNYLYRLF (13,26), QASQEVKNW (8,16), QIKVRVDMV (7,14), QIKVRVKMV (11,22), QYDPVAALF (11,22), RLARLALVL (7,14), RLQSLQTYV (21,41), RLRPGGKKR (13,26), RMFPNAPYL (4,8), RPHERNGFTV (4,7), RPPIFIRRL (28,55), SLLMWITQV (5,10), SLYNTVATL (32,63), SPRWYFYYL (14,30), TAFTIPSI (13,34), TLNAWVKVV (4,8), VAANIVLTV (14,27), VLEETSVML (14,28), VQIISCQY (2,8), VVMSWAPPV (8,15), VYALIAGATL (4,8), YPLHEQHGM (9,18), YSEHPTFTSQY (20,40), \n"
     ]
    }
   ],
   "source": [
    "for i in range(5):\n",
    "    to_print = ''\n",
    "    df = pd.read_csv(DATA_BASE+f\"ds.vdjdb-high-scores.hard-splits/pep+cdr3b/test/only-sampled-negs/test-{i}.csv\")\n",
    "    peps = sorted(df['antigen.epitope'].unique())\n",
    "    for p in peps:\n",
    "        temp_df = df[df['antigen.epitope']==p]\n",
    "        pos = len(temp_df[temp_df.label == 1])\n",
    "        neg = len(temp_df[temp_df.label == 0])\n",
    "        to_print += p + f' ({pos},{neg}), '\n",
    "    print(f\"Split {i}\", to_print)\n"
   ]
  },
  {
   "cell_type": "markdown",
   "id": "3b61c41d",
   "metadata": {},
   "source": [
    "# Pep+CDR3b+CDR3a+MHC"
   ]
  },
  {
   "cell_type": "code",
   "execution_count": 12,
   "id": "0dcca729",
   "metadata": {},
   "outputs": [
    {
     "name": "stderr",
     "output_type": "stream",
     "text": [
      "/home/nle-fgrazioli/anaconda3/envs/tcrmodels/lib/python3.6/site-packages/IPython/core/interactiveshell.py:3072: DtypeWarning: Columns (0,4,5,6,7,8,10,11,12,13) have mixed types.Specify dtype option on import or set low_memory=False.\n",
      "  interactivity=interactivity, compiler=compiler, result=result)\n"
     ]
    },
    {
     "name": "stdout",
     "output_type": "stream",
     "text": [
      "Samples (FULL):  110266\n",
      "Pos:  28229\n",
      "Neg:  82037\n",
      "Tot pep: 266, Possible test pep: 81\n",
      "Target antigen.epitope sequences: ['LPRRSGAAGA', 'NLSALGIFST', 'SPRWYFYYL', 'TPGPGVRYPL', 'VAANIVLTV', 'CRVLCCYVL', 'FPTKDVAL', 'KLSALGINAV', 'YLEPGPVTA', 'EAAGIGILTV', 'SLLMWITQV', 'VTEHDTLLY', 'LPPIVAKEI', 'QYDPVAALF', 'LLWNGPMAV', 'GTSGSPIIDK', 'CTELKLSDY', 'FYGKTILWF', 'RPPIFIRRL', 'FLKETGGL', 'TAFTIPSI', 'APRGPHGGAASGL', 'FLRGRAYGL', 'RPHERNGFTVL', 'AAFKRSCLK', 'GPGMKARVL', 'QIKVRVDMV', 'ISPRTLNAW', 'VVMSWAPPV', 'YSEHPTFTSQY', 'MLNIPSINV', 'HPKVSSEVHI', 'HPVGEADYFEY', 'FPRPWLHGL']\n",
      "Actual test/train ratio (full):  0.014248001692467599\n",
      "Actual test/train ratio (only sampled negs):  0.18043098427489807\n",
      "Tot pep: 266, Possible test pep: 81\n",
      "Target antigen.epitope sequences: ['KASEKIFYV', 'DATYQRTRALVR', 'VSFIEFVGW', 'CRVLCCYVL', 'YPLHEQHGM', 'APRGPHGGAASGL', 'TLNAWVKVV', 'FLKETGGL', 'AAGIGILTV', 'YSEHPTFTSQY', 'CLGGLLTMV', 'HPVGEADYFEY', 'RLRPGGKKR', 'GLNKIVRMY', 'FYGKTILWF', 'FLGKIWPSHK', 'KRWIIMGLNK', 'LLWNGPMAV', 'FPRPWLHGL', 'SLYNTVATL', 'ARMILMTHF', 'ISPRTLNAW', 'IVTDFSVIK', 'RLRPGGRKR', 'TPGPGVRYPL', 'YLEPGPVTA', 'NLNCCSVPV', 'QASQEVKNW', 'ILKEPVHGV', 'FPTKDVAL', 'SLLMWITQV', 'EPLPQGQLTAY', 'EAAGIGILTV', 'LPPIVAKEI']\n",
      "Actual test/train ratio (full):  0.014192029285431786\n",
      "Actual test/train ratio (only sampled negs):  0.17960656500989408\n",
      "Tot pep: 266, Possible test pep: 81\n",
      "Target antigen.epitope sequences: ['LLLGIGILV', 'EPLPQGQLTAY', 'VSFIEFVGW', 'FRCPRRFCF', 'MTLHGFMMY', 'YSEHPTFTSQY', 'AVFDRKSDAK', 'KASEKIFYV', 'RLARLALVL', 'QYDPVAALF', 'VAANIVLTV', 'ILKEPVHGV', 'FPTKDVAL', 'LPRRSGAAGA', 'NLSALGIFST', 'ALYGFVPVL', 'QYIKWPWYI', 'RLRPGGKKK', 'SPRWYFYYL', 'QASQEVKNW', 'NYNYLYRLF', 'RLRPGGRKR', 'LLWNGPMAV', 'ALTPVVVTL', 'CLGGLLTMV', 'HPVGEADYFEY', 'ARMILMTHF', 'TPGPGVRYPL', 'CVNGSCFTV', 'NLNCCSVPV', 'GTSGSPIIDK', 'QIKVRVKMV', 'ALDPHSGHFV', 'GLNKIVRMY', 'YPLHEQHGM', 'FLRGRAYGL', 'CTELKLSDY', 'QIKVRVDMV', 'HMTEVVRHC', 'VVMSWAPPV', 'FLKEMGGL', 'HSKKKCDEL', 'FLKEQGGL']\n",
      "Actual test/train ratio (full):  0.014014824079012708\n",
      "Actual test/train ratio (only sampled negs):  0.17700348432055749\n",
      "Tot pep: 266, Possible test pep: 81\n",
      "Target antigen.epitope sequences: ['FYGKTILWF', 'ALTPVVVTL', 'RLRPGGKKR', 'VTEHDTLLY', 'AAFKRSCLK', 'FRCPRRFCF', 'FPRPWLHGL', 'MTLHGFMMY', 'DATYQRTRALVR', 'GPGMKARVL', 'MLNIPSINV', 'GLNKIVRMY', 'QYIKWPWYI', 'NYNYLYRLF', 'FLKEMGGL', 'ISPRTLNAW', 'HPVGEADYFEY', 'ALYGFVPVL', 'APRGPHGGAASGL', 'YPLHEQHGM', 'ALDPHSGHFV', 'TPGPGVRYPL', 'LLLGIGILV', 'CTELKLSDY', 'RPHERNGFTV', 'TLNAWVKVV', 'QIKVRVKMV', 'NLNCCSVPV', 'SPRWYFYYL', 'KRWIIMGLNK', 'ELRRKMMYM', 'VLEETSVML', 'RLRPGGKKK', 'HMTEVVRHC', 'SLYNTVATL', 'KASEKIFYV', 'RLQSLQTYV', 'LLWNGPMAV', 'GTSGSPIIDK', 'RLRPGGRKR']\n",
      "Actual test/train ratio (full):  0.014126735951439345\n",
      "Actual test/train ratio (only sampled negs):  0.17864619678995114\n",
      "Tot pep: 266, Possible test pep: 81\n",
      "Target antigen.epitope sequences: ['MTLHGFMMY', 'RLQSLQTYV', 'VAANIVLTV', 'AAGIGILTV', 'VVMSWAPPV', 'QIKVRVKMV', 'CTELKLSDY', 'RPPIFIRRL', 'RMFPNAPYL', 'RPHERNGFTV', 'SLYNTVATL', 'KLSALGINAV', 'RLARLALVL', 'NLSALGIFST', 'LLWNGPMAV', 'SLLMWITQV', 'ALYGFVPVL', 'AAFKRSCLK', 'VLEETSVML', 'GADGVGKSAL', 'GLNKIVRMY', 'EAAGIGILTV', 'NYNYLYRLF', 'QASQEVKNW', 'YSEHPTFTSQY', 'APRGPHGGAASGL', 'TLNAWVKVV', 'YPLHEQHGM', 'KRWIIMGLNK', 'ELRRKMMYM', 'VYALIAGATL', 'ARMILMTHF', 'IIKDYGKQM', 'NLNCCSVPV', 'TAFTIPSI', 'VQIISCQY', 'QYDPVAALF', 'QIKVRVDMV', 'LPEPLPQGQLTAY', 'CLGGLLTMV', 'FYGKTILWF', 'SPRWYFYYL', 'RLRPGGKKR', 'HMTEVVRHC', 'HPKVSSEVHI', 'LPRRSGAAGA', 'FLKEQGGL']\n",
      "Actual test/train ratio (full):  0.013986849970113568\n",
      "Actual test/train ratio (only sampled negs):  0.17659352142110762\n"
     ]
    }
   ],
   "source": [
    "df = pd.read_csv(DATA_BASE+f\"ds.csv\")\n",
    "df.label = df.label.apply(lambda x: int(x))\n",
    "df = df.drop_duplicates(subset=[\"antigen.epitope\", \"cdr3.beta\", \"cdr3.alpha\", \"mhc.seq\", \"label\"], keep=\"first\")\n",
    "df = df.dropna(subset=[\"antigen.epitope\", \"cdr3.beta\", \"cdr3.alpha\", \"mhc.seq\", \"label\"]).reset_index(drop=True)\n",
    "\n",
    "print(\"Samples (FULL): \", len(df))\n",
    "print(\"Pos: \", len(df[df.label==1]))\n",
    "print(\"Neg: \", len(df[df.label==0]))\n",
    "\n",
    "for i in range(5):\n",
    "    set_random_seed(i)\n",
    "    train_df, test_df, test_peps = hard_split_df(\n",
    "        only_sampled_negs_df, target_col=\"antigen.epitope\", min_ratio=0.15, random_state=i, low=10, high=100\n",
    "    )\n",
    "    # training set considering also real negatives\n",
    "    train_df_full = df.drop(test_df.index)\n",
    "    train_df_full = train_df_full[~train_df_full[\"negative.source\"].isin(test_peps)]\n",
    "    for p in test_peps:\n",
    "        assert not p in train_df_full[\"negative.source\"].unique()\n",
    "\n",
    "    train_df.to_csv(DATA_BASE+f\"ds.vdjdb-high-scores.hard-splits/pep+cdr3b+cdr3a+MHC/train/only-sampled-negs/train-{i}.csv\", index=False)\n",
    "    train_df_full.to_csv(DATA_BASE+f\"ds.vdjdb-high-scores.hard-splits/pep+cdr3b+cdr3a+MHC/train/only-sampled-negs.full/train-{i}.csv\", index=False)\n",
    "    test_df.to_csv(DATA_BASE+f\"ds.vdjdb-high-scores.hard-splits/pep+cdr3b+cdr3a+MHC/test/only-sampled-negs/test-{i}.csv\", index=False)\n",
    "    \n",
    "    print(\"Actual test/train ratio (full): \", len(test_df) / len(train_df_full))\n",
    "    print(\"Actual test/train ratio (only sampled negs): \", len(test_df) / len(train_df))"
   ]
  },
  {
   "cell_type": "code",
   "execution_count": 14,
   "id": "d3f34814",
   "metadata": {},
   "outputs": [
    {
     "name": "stdout",
     "output_type": "stream",
     "text": [
      "Split 0 AAFKRSCLK (5,10), APRGPHGGAASGL (5,10), CRVLCCYVL (31,60), CTELKLSDY (4,8), EAAGIGILTV (27,52), FLKETGGL (4,7), FLRGRAYGL (15,33), FPRPWLHGL (30,59), FPTKDVAL (10,20), FYGKTILWF (4,8), GPGMKARVL (4,8), GTSGSPIIDK (19,38), HPKVSSEVHI (25,48), HPVGEADYFEY (24,59), ISPRTLNAW (22,43), KLSALGINAV (5,10), LLWNGPMAV (18,36), LPPIVAKEI (20,40), LPRRSGAAGA (7,14), MLNIPSINV (27,51), NLSALGIFST (18,36), QIKVRVDMV (7,14), QYDPVAALF (11,22), RPHERNGFTVL (22,46), RPPIFIRRL (28,55), SLLMWITQV (5,10), SPRWYFYYL (14,30), TAFTIPSI (13,34), TPGPGVRYPL (33,65), VAANIVLTV (14,27), VTEHDTLLY (10,20), VVMSWAPPV (8,15), YLEPGPVTA (4,8), YSEHPTFTSQY (20,40), \n",
      "Split 1 AAGIGILTV (5,10), APRGPHGGAASGL (5,10), ARMILMTHF (14,26), CLGGLLTMV (4,8), CRVLCCYVL (31,60), DATYQRTRALVR (27,59), EAAGIGILTV (27,52), EPLPQGQLTAY (28,69), FLGKIWPSHK (8,16), FLKETGGL (4,7), FPRPWLHGL (30,59), FPTKDVAL (10,20), FYGKTILWF (4,8), GLNKIVRMY (13,26), HPVGEADYFEY (24,59), ILKEPVHGV (7,14), ISPRTLNAW (22,43), IVTDFSVIK (21,41), KASEKIFYV (4,8), KRWIIMGLNK (31,60), LLWNGPMAV (18,36), LPPIVAKEI (20,40), NLNCCSVPV (4,10), QASQEVKNW (8,16), RLRPGGKKR (13,26), RLRPGGRKR (6,12), SLLMWITQV (5,10), SLYNTVATL (32,63), TLNAWVKVV (4,8), TPGPGVRYPL (33,65), VSFIEFVGW (14,27), YLEPGPVTA (4,8), YPLHEQHGM (9,18), YSEHPTFTSQY (20,40), \n",
      "Split 2 ALDPHSGHFV (4,8), ALTPVVVTL (6,12), ALYGFVPVL (6,12), ARMILMTHF (14,26), AVFDRKSDAK (9,18), CLGGLLTMV (4,8), CTELKLSDY (4,8), CVNGSCFTV (14,25), EPLPQGQLTAY (28,69), FLKEMGGL (4,8), FLKEQGGL (4,8), FLRGRAYGL (15,33), FPTKDVAL (10,20), FRCPRRFCF (10,20), GLNKIVRMY (13,26), GTSGSPIIDK (19,38), HMTEVVRHC (4,10), HPVGEADYFEY (24,59), HSKKKCDEL (30,59), ILKEPVHGV (7,14), KASEKIFYV (4,8), LLLGIGILV (9,17), LLWNGPMAV (18,36), LPRRSGAAGA (7,14), MTLHGFMMY (4,8), NLNCCSVPV (4,10), NLSALGIFST (18,36), NYNYLYRLF (13,26), QASQEVKNW (8,16), QIKVRVDMV (7,14), QIKVRVKMV (11,22), QYDPVAALF (11,22), QYIKWPWYI (18,21), RLARLALVL (7,14), RLRPGGKKK (20,39), RLRPGGRKR (6,12), SPRWYFYYL (14,30), TPGPGVRYPL (33,65), VAANIVLTV (14,27), VSFIEFVGW (14,27), VVMSWAPPV (8,15), YPLHEQHGM (9,18), YSEHPTFTSQY (20,40), \n",
      "Split 3 AAFKRSCLK (5,10), ALDPHSGHFV (4,8), ALTPVVVTL (6,12), ALYGFVPVL (6,12), APRGPHGGAASGL (5,10), CTELKLSDY (4,8), DATYQRTRALVR (27,59), ELRRKMMYM (4,8), FLKEMGGL (4,8), FPRPWLHGL (30,59), FRCPRRFCF (10,20), FYGKTILWF (4,8), GLNKIVRMY (13,26), GPGMKARVL (4,8), GTSGSPIIDK (19,38), HMTEVVRHC (4,10), HPVGEADYFEY (24,59), ISPRTLNAW (22,43), KASEKIFYV (4,8), KRWIIMGLNK (31,60), LLLGIGILV (9,17), LLWNGPMAV (18,36), MLNIPSINV (27,51), MTLHGFMMY (4,8), NLNCCSVPV (4,10), NYNYLYRLF (13,26), QIKVRVKMV (11,22), QYIKWPWYI (18,21), RLQSLQTYV (21,41), RLRPGGKKK (20,39), RLRPGGKKR (13,26), RLRPGGRKR (6,12), RPHERNGFTV (4,7), SLYNTVATL (32,63), SPRWYFYYL (14,30), TLNAWVKVV (4,8), TPGPGVRYPL (33,65), VLEETSVML (14,28), VTEHDTLLY (10,20), YPLHEQHGM (9,18), \n",
      "Split 4 AAFKRSCLK (5,10), AAGIGILTV (5,10), ALYGFVPVL (6,12), APRGPHGGAASGL (5,10), ARMILMTHF (14,26), CLGGLLTMV (4,8), CTELKLSDY (4,8), EAAGIGILTV (27,52), ELRRKMMYM (4,8), FLKEQGGL (4,8), FYGKTILWF (4,8), GADGVGKSAL (5,9), GLNKIVRMY (13,26), HMTEVVRHC (4,10), HPKVSSEVHI (25,48), IIKDYGKQM (18,35), KLSALGINAV (5,10), KRWIIMGLNK (31,60), LLWNGPMAV (18,36), LPEPLPQGQLTAY (5,14), LPRRSGAAGA (7,14), MTLHGFMMY (4,8), NLNCCSVPV (4,10), NLSALGIFST (18,36), NYNYLYRLF (13,26), QASQEVKNW (8,16), QIKVRVDMV (7,14), QIKVRVKMV (11,22), QYDPVAALF (11,22), RLARLALVL (7,14), RLQSLQTYV (21,41), RLRPGGKKR (13,26), RMFPNAPYL (4,8), RPHERNGFTV (4,7), RPPIFIRRL (28,55), SLLMWITQV (5,10), SLYNTVATL (32,63), SPRWYFYYL (14,30), TAFTIPSI (13,34), TLNAWVKVV (4,8), VAANIVLTV (14,27), VLEETSVML (14,28), VQIISCQY (2,8), VVMSWAPPV (8,15), VYALIAGATL (4,8), YPLHEQHGM (9,18), YSEHPTFTSQY (20,40), \n"
     ]
    }
   ],
   "source": [
    "for i in range(5):\n",
    "    to_print = ''\n",
    "    df = pd.read_csv(DATA_BASE+f\"ds.vdjdb-high-scores.hard-splits/pep+cdr3b+cdr3a+MHC/test/only-sampled-negs/test-{i}.csv\")\n",
    "    peps = sorted(df['antigen.epitope'].unique())\n",
    "    for p in peps:\n",
    "        temp_df = df[df['antigen.epitope']==p]\n",
    "        pos = len(temp_df[temp_df.label == 1])\n",
    "        neg = len(temp_df[temp_df.label == 0])\n",
    "        to_print += p + f' ({pos},{neg}), '\n",
    "    print(f\"Split {i}\", to_print)\n"
   ]
  },
  {
   "cell_type": "code",
   "execution_count": null,
   "id": "d89ea60f",
   "metadata": {},
   "outputs": [],
   "source": []
  }
 ],
 "metadata": {
  "kernelspec": {
   "display_name": "Python 3",
   "language": "python",
   "name": "python3"
  },
  "language_info": {
   "codemirror_mode": {
    "name": "ipython",
    "version": 3
   },
   "file_extension": ".py",
   "mimetype": "text/x-python",
   "name": "python",
   "nbconvert_exporter": "python",
   "pygments_lexer": "ipython3",
   "version": "3.6.13"
  }
 },
 "nbformat": 4,
 "nbformat_minor": 5
}
