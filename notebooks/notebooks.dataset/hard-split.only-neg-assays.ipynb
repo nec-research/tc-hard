{
 "cells": [
  {
   "cell_type": "code",
   "execution_count": 15,
   "id": "b641db0f",
   "metadata": {},
   "outputs": [],
   "source": [
    "import pandas as pd\n",
    "import numpy as np\n",
    "import random\n",
    "import os\n",
    "import operator\n",
    "\n",
    "import sys\n",
    "import logging\n",
    "logger = logging.getLogger()\n",
    "logger.addHandler(logging.StreamHandler(stream=sys.stdout))\n",
    "logger = logging.getLogger()\n",
    "logger.setLevel('INFO')\n",
    "\n",
    "from typing import Tuple, List"
   ]
  },
  {
   "cell_type": "code",
   "execution_count": 16,
   "id": "451289eb",
   "metadata": {},
   "outputs": [],
   "source": [
    "def set_random_seed(random_seed):\n",
    "    random.seed(random_seed)\n",
    "    np.random.seed(random_seed)"
   ]
  },
  {
   "cell_type": "code",
   "execution_count": 17,
   "id": "509beae4",
   "metadata": {},
   "outputs": [],
   "source": [
    "login = os.getlogin( )\n",
    "DATA_BASE = f\"/home/{login}/Git/tc-hard/tc-hard-data/tc-hard/\"\n",
    "RESULTS_BASE = f\"/home/{login}/Git/tc-hard/notebooks/notebooks.classification/results/\""
   ]
  },
  {
   "cell_type": "code",
   "execution_count": 22,
   "id": "217d762a",
   "metadata": {},
   "outputs": [],
   "source": [
    "def hard_split_df(\n",
    "        df: pd.DataFrame, target_col: str, min_ratio: float, random_state: float, low: int, high: int\n",
    ") -> Tuple[pd.DataFrame, pd.DataFrame, List[str]]:\n",
    "    \"\"\" Assume a target column, e.g. `peptide`.\n",
    "    Then:\n",
    "        1) Select random sample\n",
    "        2) All samples sharing the same value of that column\n",
    "        with the randomly selected sample are used for test\n",
    "        3)Repeat until test budget (defined by train/test ratio) is\n",
    "        filled.\n",
    "    \"\"\"\n",
    "    min_test_len = round(min_ratio * len(df))\n",
    "    test_len = 0\n",
    "    selected_target_val = []\n",
    "\n",
    "    train_df = df.copy()\n",
    "    test_df = pd.DataFrame()\n",
    "    \n",
    "    target_count_df = df.groupby([target_col]).size().reset_index(name='counts')\n",
    "    target_count_df = target_count_df[target_count_df['counts'] >= low]\n",
    "    target_count_df = target_count_df[target_count_df['counts'] <= high]\n",
    "    possible_target_val = list(target_count_df[target_col].unique())\n",
    "    max_target_len = len(possible_target_val)\n",
    "\n",
    "    while test_len < min_test_len:\n",
    "#         sample = train_df.sample(n=1, random_state=random_state)\n",
    "#         target_val = sample[target_col].values[0]\n",
    "        target_val = np.random.choice(possible_target_val)\n",
    "\n",
    "        if target_val not in selected_target_val:\n",
    "            to_test = train_df[train_df[target_col] == target_val]\n",
    "\n",
    "            train_df = train_df.drop(to_test.index)\n",
    "            test_df = test_df.append(to_test)\n",
    "            test_len = len(test_df)\n",
    "\n",
    "            selected_target_val.append(target_val)\n",
    "            possible_target_val.remove(target_val)\n",
    "\n",
    "        if len(selected_target_val) == max_target_len:\n",
    "            logger.info(f\"Possible targets left {possible_target_val}\")\n",
    "            raise Exception('No more values to sample from.')\n",
    "\n",
    "    logger.info(f\"Target {target_col} sequences: {selected_target_val}\")\n",
    "\n",
    "    return train_df, test_df, selected_target_val"
   ]
  },
  {
   "cell_type": "markdown",
   "id": "a777d35c",
   "metadata": {},
   "source": [
    "# Pep+CDR3b"
   ]
  },
  {
   "cell_type": "code",
   "execution_count": 23,
   "id": "df228576",
   "metadata": {},
   "outputs": [
    {
     "name": "stderr",
     "output_type": "stream",
     "text": [
      "/home/nle-fgrazioli/anaconda3/envs/tcrmodels/lib/python3.6/site-packages/IPython/core/interactiveshell.py:3072: DtypeWarning: Columns (0,5,6,7) have mixed types.Specify dtype option on import or set low_memory=False.\n",
      "  interactivity=interactivity, compiler=compiler, result=result)\n"
     ]
    },
    {
     "name": "stdout",
     "output_type": "stream",
     "text": [
      "Samples (FULL):  528020\n",
      "Pos:  142244\n",
      "Neg:  385776\n",
      "Samples (ONLY RANDOMIZED NEGS):  268961\n",
      "Pos:  142244\n",
      "Neg:  126717\n",
      "Target antigen.epitope sequences: ['WICLLQFAY', 'YVLDHLIVV', 'AELAKNVSLDNVL', 'ELAGIGILTV', 'FLNGSCGSV', 'VPHVGEIPVAYRKVLL', 'HTTDPSFLGRY', 'LSPRWYFYYL', 'MPASWVMRI', 'VQELYSPIFLIV', 'RAKFKQLL', 'FVDGVPFVV', 'RTQSPRRR', 'SEHDYQIGGYTEKW', 'KLPDDFTGCV', 'AVFDRKSDAK', 'STLPETAVVRR', 'LLWNGPMAV', 'TVLSFCAFAV']\n",
      "Target antigen.epitope sequences: ['WICLLQFAY', 'YVLDHLIVV', 'AELAKNVSLDNVL', 'ELAGIGILTV', 'FLNGSCGSV', 'VPHVGEIPVAYRKVLL', 'HTTDPSFLGRY', 'LSPRWYFYYL', 'MPASWVMRI', 'VQELYSPIFLIV', 'RAKFKQLL', 'FVDGVPFVV', 'RTQSPRRR', 'SEHDYQIGGYTEKW', 'KLPDDFTGCV', 'AVFDRKSDAK', 'STLPETAVVRR', 'LLWNGPMAV', 'TVLSFCAFAV']\n",
      "Actual test/train ratio (full):  0.08302908479304262\n",
      "Actual test/train ratio (only neg assays):  0.1771700929180107\n",
      "Target antigen.epitope sequences: ['TPRVTGGGAM', 'WICLLQFAY', 'HTTDPSFLGRY', 'FPPTSFGPL', 'GDAALALLLLDRLNQL', 'IMLIIFWFSL', 'FLNGSCGSV', 'LLLDDFVEII', 'AELAKNVSLDNVL', 'LSPRWYFYYL', 'AVFDRKSDAK', 'LLFGYPVYV', 'IMDQVPFSV', 'GMEVTPSGTWLTY', 'TVLSFCAFAV', 'RTQSPRRR', 'RQLLFVVEV', 'SELVIGAVIL', 'LPRRSGAAGA', 'YLQPRTFLL', 'LLWNGPMAV', 'QLMCQPILLL', 'TLIGDCATV', 'FLYALALLL', 'YEQYIKWPWYI', 'YVLDHLIVV']\n",
      "Target antigen.epitope sequences: ['TPRVTGGGAM', 'WICLLQFAY', 'HTTDPSFLGRY', 'FPPTSFGPL', 'GDAALALLLLDRLNQL', 'IMLIIFWFSL', 'FLNGSCGSV', 'LLLDDFVEII', 'AELAKNVSLDNVL', 'LSPRWYFYYL', 'AVFDRKSDAK', 'LLFGYPVYV', 'IMDQVPFSV', 'GMEVTPSGTWLTY', 'TVLSFCAFAV', 'RTQSPRRR', 'RQLLFVVEV', 'SELVIGAVIL', 'LPRRSGAAGA', 'YLQPRTFLL', 'LLWNGPMAV', 'QLMCQPILLL', 'TLIGDCATV', 'FLYALALLL', 'YEQYIKWPWYI', 'YVLDHLIVV']\n",
      "Actual test/train ratio (full):  0.08931419128705437\n",
      "Actual test/train ratio (only neg assays):  0.19184377049470905\n",
      "Target antigen.epitope sequences: ['VLPPLLTDEMIAQYT', 'IVTDFSVIK', 'YLQPRTFLL', 'FPPTSFGPL', 'LVVDFSQFSR', 'YVLDHLIVV', 'LLLDDFVEII', 'HTTDPSFLGRY', 'YEQYIKWPWYI', 'FLYALALLL', 'VLWAHGFEL', 'TPRVTGGGAM', 'IMLIIFWFSL', 'QLMCQPILLL', 'VPHVGEIPVAYRKVLL', 'SELVIGAVIL', 'NPLLYDANYFLCW', 'VLPFNDGVYFASTEK', 'RAKFKQLL', 'FLNGSCGSV', 'GDAALALLLLDRLNQL', 'EAAGIGILTV', 'GMEVTPSGTWLTY', 'FLPRVFSAV', 'LLWNGPMAV', 'LSPRWYFYYL']\n",
      "Target antigen.epitope sequences: ['VLPPLLTDEMIAQYT', 'IVTDFSVIK', 'YLQPRTFLL', 'FPPTSFGPL', 'LVVDFSQFSR', 'YVLDHLIVV', 'LLLDDFVEII', 'HTTDPSFLGRY', 'YEQYIKWPWYI', 'FLYALALLL', 'VLWAHGFEL', 'TPRVTGGGAM', 'IMLIIFWFSL', 'QLMCQPILLL', 'VPHVGEIPVAYRKVLL', 'SELVIGAVIL', 'NPLLYDANYFLCW', 'VLPFNDGVYFASTEK', 'RAKFKQLL', 'FLNGSCGSV', 'GDAALALLLLDRLNQL', 'EAAGIGILTV', 'GMEVTPSGTWLTY', 'FLPRVFSAV', 'LLWNGPMAV', 'LSPRWYFYYL']\n",
      "Actual test/train ratio (full):  0.0831846062321784\n",
      "Actual test/train ratio (only neg assays):  0.17753085446848008\n",
      "Target antigen.epitope sequences: ['VPHVGEIPVAYRKVLL', 'LVVDFSQFSR', 'EAAGIGILTV', 'FVDGVPFVV', 'AELAKNVSLDNVL', 'MGYINVFAFPFTIYSL', 'LPRRSGAAGA', 'IMDQVPFSV', 'IMLIIFWFSL', 'RAKFKQLL', 'YVLDHLIVV', 'VLWAHGFEL', 'QLMCQPILLL', 'VLPFNDGVYFASTEK', 'LLFGYPVYV', 'TPRVTGGGAM', 'MPASWVMRI', 'VLPPLLTDEMIAQYT', 'SELVIGAVIL', 'ELAGIGILTV', 'FLNGSCGSV', 'AVFDRKSDAK', 'STLPETAVVRR']\n",
      "Target antigen.epitope sequences: ['VPHVGEIPVAYRKVLL', 'LVVDFSQFSR', 'EAAGIGILTV', 'FVDGVPFVV', 'AELAKNVSLDNVL', 'MGYINVFAFPFTIYSL', 'LPRRSGAAGA', 'IMDQVPFSV', 'IMLIIFWFSL', 'RAKFKQLL', 'YVLDHLIVV', 'VLWAHGFEL', 'QLMCQPILLL', 'VLPFNDGVYFASTEK', 'LLFGYPVYV', 'TPRVTGGGAM', 'MPASWVMRI', 'VLPPLLTDEMIAQYT', 'SELVIGAVIL', 'ELAGIGILTV', 'FLNGSCGSV', 'AVFDRKSDAK', 'STLPETAVVRR']\n",
      "Actual test/train ratio (full):  0.08295356192085714\n",
      "Actual test/train ratio (only neg assays):  0.17699494562720172\n",
      "Target antigen.epitope sequences: ['YEQYIKWPWYI', 'FLNGSCGSV', 'APKEIIFLEGETL', 'VPHVGEIPVAYRKVLL', 'MGYINVFAFPFTIYSL', 'GDAALALLLLDRLNQL', 'HTTDPSFLGRY', 'YEDFLEYHDVRVVL', 'STLPETAVVRR', 'VQELYSPIFLIV', 'YVLDHLIVV', 'ELAGIGILTV', 'AELAKNVSLDNVL', 'QLMCQPILLL', 'RAKFKQLL', 'IVTDFSVIK', 'FLPRVFSAV', 'LPRRSGAAGA', 'SEHDYQIGGYTEKW', 'KAYNVTQAF', 'RQLLFVVEV']\n",
      "Target antigen.epitope sequences: ['YEQYIKWPWYI', 'FLNGSCGSV', 'APKEIIFLEGETL', 'VPHVGEIPVAYRKVLL', 'MGYINVFAFPFTIYSL', 'GDAALALLLLDRLNQL', 'HTTDPSFLGRY', 'YEDFLEYHDVRVVL', 'STLPETAVVRR', 'VQELYSPIFLIV', 'YVLDHLIVV', 'ELAGIGILTV', 'AELAKNVSLDNVL', 'QLMCQPILLL', 'RAKFKQLL', 'IVTDFSVIK', 'FLPRVFSAV', 'LPRRSGAAGA', 'SEHDYQIGGYTEKW', 'KAYNVTQAF', 'RQLLFVVEV']\n",
      "Actual test/train ratio (full):  0.08287582878905024\n",
      "Actual test/train ratio (only neg assays):  0.17681470137825422\n"
     ]
    }
   ],
   "source": [
    "df = pd.read_csv(DATA_BASE+f\"ds.csv\")\n",
    "df.label = df.label.apply(lambda x: int(x))\n",
    "df = df.drop_duplicates(subset=[\"antigen.epitope\", \"cdr3.beta\", \"label\"], keep=\"first\").reset_index(drop=True)\n",
    "\n",
    "print(\"Samples (FULL): \", len(df))\n",
    "print(\"Pos: \", len(df[df.label==1]))\n",
    "print(\"Neg: \", len(df[df.label==0]))\n",
    "\n",
    "# dataframe with negative samples from assays\n",
    "only_neg_assays_df = df[df[\"negative.source\"] != \"randomized\"] \n",
    "\n",
    "print(\"Samples (ONLY RANDOMIZED NEGS): \", len(only_neg_assays_df))\n",
    "print(\"Pos: \", len(only_neg_assays_df[only_neg_assays_df.label==1]))\n",
    "print(\"Neg: \", len(only_neg_assays_df[only_neg_assays_df.label==0]))\n",
    "\n",
    "for i in range(5):\n",
    "    set_random_seed(i)\n",
    "    train_df, test_df, test_peps = hard_split_df(\n",
    "        only_neg_assays_df, target_col=\"antigen.epitope\", min_ratio=0.15, random_state=i, low=500, high=10000\n",
    "    )\n",
    "\n",
    "    # training set considering also randomized negatives\n",
    "    train_df_full = df.drop(test_df.index)\n",
    "    train_df_full = train_df_full[~train_df_full[\"negative.source\"].isin(test_peps)]\n",
    "    for p in test_peps:\n",
    "        assert not p in train_df_full[\"negative.source\"].unique()\n",
    "\n",
    "    train_df.to_csv(DATA_BASE+f\"ds.hard-splits/pep+cdr3b/train/only-neg-assays/train-{i}.csv\", index=False)\n",
    "    train_df_full.to_csv(DATA_BASE+f\"ds.hard-splits/pep+cdr3b/train/only-neg-assays.full/train-{i}.csv\", index=False)\n",
    "    test_df.to_csv(DATA_BASE+f\"ds.hard-splits/pep+cdr3b/test/only-neg-assays/test-{i}.csv\", index=False)\n",
    "    \n",
    "    print(\"Actual test/train ratio (full): \", len(test_df) / len(train_df_full))\n",
    "    print(\"Actual test/train ratio (only neg assays): \", len(test_df) / len(train_df))"
   ]
  },
  {
   "cell_type": "code",
   "execution_count": 8,
   "id": "161a7932",
   "metadata": {},
   "outputs": [
    {
     "name": "stdout",
     "output_type": "stream",
     "text": [
      "Split 0 AELAKNVSLDNVL (1794,0), AVFDRKSDAK (1967,0), ELAGIGILTV (2074,2), FLNGSCGSV (2568,0), FVDGVPFVV (2705,0), HTTDPSFLGRY (5787,0), KLPDDFTGCV (1319,0), LLWNGPMAV (2559,0), LSPRWYFYYL (1751,0), MPASWVMRI (777,0), RAKFKQLL (996,0), RTQSPRRR (51,763), SEHDYQIGGYTEKW (3424,0), STLPETAVVRR (924,41), TVLSFCAFAV (613,0), VPHVGEIPVAYRKVLL (528,0), VQELYSPIFLIV (1063,0), WICLLQFAY (590,0), YVLDHLIVV (8184,0), \n",
      "Split 1 AELAKNVSLDNVL (1794,0), AVFDRKSDAK (1967,0), FLNGSCGSV (2568,0), FLYALALLL (32,823), FPPTSFGPL (681,0), GDAALALLLLDRLNQL (609,0), GMEVTPSGTWLTY (995,0), HTTDPSFLGRY (5787,0), IMDQVPFSV (62,522), IMLIIFWFSL (1278,0), LLFGYPVYV (79,1358), LLLDDFVEII (968,0), LLWNGPMAV (2559,0), LPRRSGAAGA (2138,0), LSPRWYFYYL (1751,0), QLMCQPILLL (980,0), RQLLFVVEV (892,0), RTQSPRRR (51,763), SELVIGAVIL (900,0), TLIGDCATV (568,0), TPRVTGGGAM (2557,0), TVLSFCAFAV (613,0), WICLLQFAY (590,0), YEQYIKWPWYI (537,0), YLQPRTFLL (687,0), YVLDHLIVV (8184,0), \n",
      "Split 2 EAAGIGILTV (505,0), FLNGSCGSV (2568,0), FLPRVFSAV (867,0), FLYALALLL (32,823), FPPTSFGPL (681,0), GDAALALLLLDRLNQL (609,0), GMEVTPSGTWLTY (995,0), HTTDPSFLGRY (5787,0), IMLIIFWFSL (1278,0), IVTDFSVIK (621,0), LLLDDFVEII (968,0), LLWNGPMAV (2559,0), LSPRWYFYYL (1751,0), LVVDFSQFSR (1871,16), NPLLYDANYFLCW (548,0), QLMCQPILLL (980,0), RAKFKQLL (996,0), SELVIGAVIL (900,0), TPRVTGGGAM (2557,0), VLPFNDGVYFASTEK (1297,0), VLPPLLTDEMIAQYT (674,0), VLWAHGFEL (731,0), VPHVGEIPVAYRKVLL (528,0), YEQYIKWPWYI (537,0), YLQPRTFLL (687,0), YVLDHLIVV (8184,0), \n",
      "Split 3 AELAKNVSLDNVL (1794,0), AVFDRKSDAK (1967,0), EAAGIGILTV (505,0), ELAGIGILTV (2074,2), FLNGSCGSV (2568,0), FVDGVPFVV (2705,0), IMDQVPFSV (62,522), IMLIIFWFSL (1278,0), LLFGYPVYV (79,1358), LPRRSGAAGA (2138,0), LVVDFSQFSR (1871,16), MGYINVFAFPFTIYSL (2918,0), MPASWVMRI (777,0), QLMCQPILLL (980,0), RAKFKQLL (996,0), SELVIGAVIL (900,0), STLPETAVVRR (924,41), TPRVTGGGAM (2557,0), VLPFNDGVYFASTEK (1297,0), VLPPLLTDEMIAQYT (674,0), VLWAHGFEL (731,0), VPHVGEIPVAYRKVLL (528,0), YVLDHLIVV (8184,0), \n",
      "Split 4 AELAKNVSLDNVL (1794,0), APKEIIFLEGETL (1783,0), ELAGIGILTV (2074,2), FLNGSCGSV (2568,0), FLPRVFSAV (867,0), GDAALALLLLDRLNQL (609,0), HTTDPSFLGRY (5787,0), IVTDFSVIK (621,0), KAYNVTQAF (807,0), LPRRSGAAGA (2138,0), MGYINVFAFPFTIYSL (2918,0), QLMCQPILLL (980,0), RAKFKQLL (996,0), RQLLFVVEV (892,0), SEHDYQIGGYTEKW (3424,0), STLPETAVVRR (924,41), VPHVGEIPVAYRKVLL (528,0), VQELYSPIFLIV (1063,0), YEDFLEYHDVRVVL (874,0), YEQYIKWPWYI (537,0), YVLDHLIVV (8184,0), \n"
     ]
    }
   ],
   "source": [
    "for i in range(5):\n",
    "    to_print = ''\n",
    "    df = pd.read_csv(DATA_BASE+f\"ds.hard-splits/pep+cdr3b/test/only-neg-assays/test-{i}.csv\")\n",
    "    peps = sorted(df['antigen.epitope'].unique())\n",
    "    for p in peps:\n",
    "        temp_df = df[df['antigen.epitope']==p]\n",
    "        pos = len(temp_df[temp_df.label == 1])\n",
    "        neg = len(temp_df[temp_df.label == 0])\n",
    "        to_print += p + f' ({pos},{neg}), '\n",
    "    print(f\"Split {i}\", to_print)"
   ]
  },
  {
   "cell_type": "markdown",
   "id": "3b61c41d",
   "metadata": {},
   "source": [
    "# Pep+CDR3b+CDR3a+MHC"
   ]
  },
  {
   "cell_type": "code",
   "execution_count": 9,
   "id": "0dcca729",
   "metadata": {},
   "outputs": [
    {
     "name": "stderr",
     "output_type": "stream",
     "text": [
      "/home/nle-fgrazioli/anaconda3/envs/tcrmodels/lib/python3.6/site-packages/IPython/core/interactiveshell.py:3072: DtypeWarning: Columns (0,5,6,7) have mixed types.Specify dtype option on import or set low_memory=False.\n",
      "  interactivity=interactivity, compiler=compiler, result=result)\n"
     ]
    },
    {
     "name": "stdout",
     "output_type": "stream",
     "text": [
      "Samples (FULL):  110266\n",
      "Pos:  28229\n",
      "Neg:  82037\n",
      "Samples (ONLY RANDOMIZED NEGS):  73814\n",
      "Pos:  28229\n",
      "Neg:  45585\n",
      "Target antigen.epitope sequences: ['MLDLQPETT', 'RPRGEVRFL', 'YLQPRTFLL', 'AVFDRKSDAK', 'FLYALALLL', 'IMDQVPFSV', 'LLWNGPMAV', 'RLRAEAQVK', 'KTWGQYWQV', 'RAKFKQLL', 'LTDEMIAQY', 'SLFNTVATL', 'SLLMWITQV', 'YLLEMLWRL', 'ELAGIGILTV', 'RTLNAWVKV', 'TTDPSFLGRY', 'YVLDHLIVV', 'SPRWYFYYL', 'DATYQRTRALVR', 'IVTDFSVIK', 'KVLEYVIKV', 'LLFGYPVYV']\n",
      "Actual test/train ratio (full):  0.11668557076885684\n",
      "Actual test/train ratio (only neg assays):  0.18496757207988185\n",
      "Target antigen.epitope sequences: ['IMDQVPFSV', 'MLDLQPETT', 'RLRAEAQVK', 'LLFGYPVYV', 'LTDEMIAQY', 'RPRGEVRFL', 'IVTDFSVIK', 'YLLEMLWRL', 'AVFDRKSDAK', 'DATYQRTRALVR', 'FLCMKALLL', 'YLQPRTFLL', 'RTLNAWVKV', 'RMFPNAPYL', 'TTDPSFLGRY', 'KTWGQYWQV', 'RAKFKQLL', 'SPRWYFYYL', 'SLLMWITQV', 'KVLEYVIKV', 'YVLDHLIVV', 'SLFNTVATL', 'ELAGIGILTV', 'FLYALALLL']\n",
      "Actual test/train ratio (full):  0.11434952653333467\n",
      "Actual test/train ratio (only neg assays):  0.181042896686347\n",
      "Target antigen.epitope sequences: ['KVLEYVIKV', 'RPRGEVRFL', 'RLRAEAQVK', 'LLFGYPVYV', 'RAKFKQLL', 'YLQPRTFLL', 'RMFPNAPYL', 'LLWNGPMAV', 'KTWGQYWQV', 'ELAGIGILTV', 'DATYQRTRALVR', 'TTDPSFLGRY', 'LTDEMIAQY', 'YLLEMLWRL', 'IVTDFSVIK', 'MLDLQPETT', 'SLFNTVATL', 'YVLDHLIVV', 'IMDQVPFSV', 'SLLMWITQV', 'FLYALALLL', 'SPRWYFYYL', 'RTLNAWVKV', 'AVFDRKSDAK']\n",
      "Actual test/train ratio (full):  0.12040725085351975\n",
      "Actual test/train ratio (only neg assays):  0.19124007488218966\n",
      "Target antigen.epitope sequences: ['LLWNGPMAV', 'FLCMKALLL', 'LLFGYPVYV', 'AVFDRKSDAK', 'YLQPRTFLL', 'RLRAEAQVK', 'RPRGEVRFL', 'RAKFKQLL', 'RTLNAWVKV', 'KTWGQYWQV', 'MLDLQPETT', 'LTDEMIAQY', 'DATYQRTRALVR', 'KVLEYVIKV', 'SPRWYFYYL', 'YLLEMLWRL', 'FLYALALLL', 'IVTDFSVIK', 'YVLDHLIVV', 'RMFPNAPYL', 'SLFNTVATL', 'TTDPSFLGRY', 'ELAGIGILTV']\n",
      "Actual test/train ratio (full):  0.11442836351875808\n",
      "Actual test/train ratio (only neg assays):  0.18117519042437433\n",
      "Target antigen.epitope sequences: ['RLRAEAQVK', 'YVLDHLIVV', 'IMDQVPFSV', 'DATYQRTRALVR', 'LLWNGPMAV', 'LTDEMIAQY', 'YLQPRTFLL', 'RAKFKQLL', 'LLFGYPVYV', 'SPRWYFYYL', 'YLLEMLWRL', 'MLDLQPETT', 'RMFPNAPYL', 'SLFNTVATL', 'RTLNAWVKV', 'IVTDFSVIK', 'FLCMKALLL', 'KVLEYVIKV', 'TTDPSFLGRY', 'FLYALALLL', 'SLLMWITQV', 'RPRGEVRFL', 'AVFDRKSDAK', 'KTWGQYWQV']\n",
      "Actual test/train ratio (full):  0.11591709508966522\n",
      "Actual test/train ratio (only neg assays):  0.18367543296985248\n"
     ]
    }
   ],
   "source": [
    "df = pd.read_csv(DATA_BASE+f\"ds.csv\")\n",
    "df.label = df.label.apply(lambda x: int(x))\n",
    "df = df.drop_duplicates(subset=[\"antigen.epitope\", \"cdr3.beta\", \"cdr3.alpha\", \"mhc.seq\", \"label\"], keep=\"first\")\n",
    "df = df.dropna(subset=[\"antigen.epitope\", \"cdr3.beta\", \"cdr3.alpha\", \"mhc.seq\", \"label\"]).reset_index(drop=True)\n",
    "\n",
    "print(\"Samples (FULL): \", len(df))\n",
    "print(\"Pos: \", len(df[df.label==1]))\n",
    "print(\"Neg: \", len(df[df.label==0]))\n",
    "\n",
    "# dataframe with negative samples from assays\n",
    "only_neg_assays_df = df[df[\"negative.source\"] != \"randomized\"]    \n",
    "\n",
    "print(\"Samples (ONLY RANDOMIZED NEGS): \", len(only_neg_assays_df))\n",
    "print(\"Pos: \", len(only_neg_assays_df[only_neg_assays_df.label==1]))\n",
    "print(\"Neg: \", len(only_neg_assays_df[only_neg_assays_df.label==0]))\n",
    "\n",
    "for i in range(5):\n",
    "    set_random_seed(i)\n",
    "    train_df, test_df, test_peps = hard_split_df(\n",
    "        only_neg_assays_df, target_col=\"antigen.epitope\", min_ratio=0.15, random_state=i, low=100, high=5000\n",
    "    )\n",
    "    \n",
    "    # training set considering also randomized negatives\n",
    "    train_df_full = df.drop(test_df.index)\n",
    "    train_df_full = train_df_full[~train_df_full[\"negative.source\"].isin(test_peps)]\n",
    "    for p in test_peps:\n",
    "        assert not p in train_df_full[\"negative.source\"].unique()\n",
    "        \n",
    "    train_df.to_csv(DATA_BASE+f\"ds.hard-splits/pep+cdr3b+cdr3a+MHC/train/only-neg-assays/train-{i}.csv\", index=False)\n",
    "    train_df_full.to_csv(DATA_BASE+f\"ds.hard-splits/pep+cdr3b+cdr3a+MHC/train/only-neg-assays.full/train-{i}.csv\", index=False)\n",
    "    test_df.to_csv(DATA_BASE+f\"ds.hard-splits/pep+cdr3b+cdr3a+MHC/test/only-neg-assays/test-{i}.csv\", index=False)\n",
    "    \n",
    "\n",
    "    print(\"Actual test/train ratio (full): \", len(test_df) / len(train_df_full))\n",
    "    print(\"Actual test/train ratio (only neg assays): \", len(test_df) / len(train_df))"
   ]
  },
  {
   "cell_type": "code",
   "execution_count": 10,
   "id": "d3f34814",
   "metadata": {},
   "outputs": [
    {
     "name": "stdout",
     "output_type": "stream",
     "text": [
      "Split 0 AVFDRKSDAK (1852,0), DATYQRTRALVR (100,0), ELAGIGILTV (530,2), FLYALALLL (39,827), IMDQVPFSV (23,483), IVTDFSVIK (747,0), KTWGQYWQV (18,411), KVLEYVIKV (8,166), LLFGYPVYV (74,1178), LLWNGPMAV (671,0), LTDEMIAQY (131,0), MLDLQPETT (14,333), RAKFKQLL (1268,0), RLRAEAQVK (442,0), RPRGEVRFL (116,0), RTLNAWVKV (51,572), SLFNTVATL (22,210), SLLMWITQV (12,146), SPRWYFYYL (142,0), TTDPSFLGRY (254,0), YLLEMLWRL (13,259), YLQPRTFLL (267,0), YVLDHLIVV (141,0), \n",
      "Split 1 AVFDRKSDAK (1852,0), DATYQRTRALVR (100,0), ELAGIGILTV (530,2), FLCMKALLL (136,0), FLYALALLL (39,827), IMDQVPFSV (23,483), IVTDFSVIK (747,0), KTWGQYWQV (18,411), KVLEYVIKV (8,166), LLFGYPVYV (74,1178), LTDEMIAQY (131,0), MLDLQPETT (14,333), RAKFKQLL (1268,0), RLRAEAQVK (442,0), RMFPNAPYL (14,314), RPRGEVRFL (116,0), RTLNAWVKV (51,572), SLFNTVATL (22,210), SLLMWITQV (12,146), SPRWYFYYL (142,0), TTDPSFLGRY (254,0), YLLEMLWRL (13,259), YLQPRTFLL (267,0), YVLDHLIVV (141,0), \n",
      "Split 2 AVFDRKSDAK (1852,0), DATYQRTRALVR (100,0), ELAGIGILTV (530,2), FLYALALLL (39,827), IMDQVPFSV (23,483), IVTDFSVIK (747,0), KTWGQYWQV (18,411), KVLEYVIKV (8,166), LLFGYPVYV (74,1178), LLWNGPMAV (671,0), LTDEMIAQY (131,0), MLDLQPETT (14,333), RAKFKQLL (1268,0), RLRAEAQVK (442,0), RMFPNAPYL (14,314), RPRGEVRFL (116,0), RTLNAWVKV (51,572), SLFNTVATL (22,210), SLLMWITQV (12,146), SPRWYFYYL (142,0), TTDPSFLGRY (254,0), YLLEMLWRL (13,259), YLQPRTFLL (267,0), YVLDHLIVV (141,0), \n",
      "Split 3 AVFDRKSDAK (1852,0), DATYQRTRALVR (100,0), ELAGIGILTV (530,2), FLCMKALLL (136,0), FLYALALLL (39,827), IVTDFSVIK (747,0), KTWGQYWQV (18,411), KVLEYVIKV (8,166), LLFGYPVYV (74,1178), LLWNGPMAV (671,0), LTDEMIAQY (131,0), MLDLQPETT (14,333), RAKFKQLL (1268,0), RLRAEAQVK (442,0), RMFPNAPYL (14,314), RPRGEVRFL (116,0), RTLNAWVKV (51,572), SLFNTVATL (22,210), SPRWYFYYL (142,0), TTDPSFLGRY (254,0), YLLEMLWRL (13,259), YLQPRTFLL (267,0), YVLDHLIVV (141,0), \n",
      "Split 4 AVFDRKSDAK (1852,0), DATYQRTRALVR (100,0), FLCMKALLL (136,0), FLYALALLL (39,827), IMDQVPFSV (23,483), IVTDFSVIK (747,0), KTWGQYWQV (18,411), KVLEYVIKV (8,166), LLFGYPVYV (74,1178), LLWNGPMAV (671,0), LTDEMIAQY (131,0), MLDLQPETT (14,333), RAKFKQLL (1268,0), RLRAEAQVK (442,0), RMFPNAPYL (14,314), RPRGEVRFL (116,0), RTLNAWVKV (51,572), SLFNTVATL (22,210), SLLMWITQV (12,146), SPRWYFYYL (142,0), TTDPSFLGRY (254,0), YLLEMLWRL (13,259), YLQPRTFLL (267,0), YVLDHLIVV (141,0), \n"
     ]
    }
   ],
   "source": [
    "for i in range(5):\n",
    "    to_print = ''\n",
    "    df = pd.read_csv(DATA_BASE+f\"ds.hard-splits/pep+cdr3b+cdr3a+MHC/test/only-neg-assays/test-{i}.csv\")\n",
    "    peps = sorted(df['antigen.epitope'].unique())\n",
    "    for p in peps:\n",
    "        temp_df = df[df['antigen.epitope']==p]\n",
    "        pos = len(temp_df[temp_df.label == 1])\n",
    "        neg = len(temp_df[temp_df.label == 0])\n",
    "        to_print += p + f' ({pos},{neg}), '\n",
    "    print(f\"Split {i}\", to_print)\n"
   ]
  },
  {
   "cell_type": "code",
   "execution_count": 14,
   "id": "8641a706",
   "metadata": {},
   "outputs": [
    {
     "data": {
      "text/plain": [
       "0.001065200158541419"
      ]
     },
     "execution_count": 14,
     "metadata": {},
     "output_type": "execute_result"
    }
   ],
   "source": [
    "len(test_df[test_df.label==0]) / len(test_df[test_df.label==1])"
   ]
  }
 ],
 "metadata": {
  "kernelspec": {
   "display_name": "Python 3",
   "language": "python",
   "name": "python3"
  },
  "language_info": {
   "codemirror_mode": {
    "name": "ipython",
    "version": 3
   },
   "file_extension": ".py",
   "mimetype": "text/x-python",
   "name": "python",
   "nbconvert_exporter": "python",
   "pygments_lexer": "ipython3",
   "version": "3.6.13"
  }
 },
 "nbformat": 4,
 "nbformat_minor": 5
}
